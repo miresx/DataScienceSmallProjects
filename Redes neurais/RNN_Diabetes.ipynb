{
  "nbformat": 4,
  "nbformat_minor": 0,
  "metadata": {
    "colab": {
      "provenance": []
    },
    "kernelspec": {
      "name": "python3",
      "display_name": "Python 3"
    },
    "language_info": {
      "name": "python"
    }
  },
  "cells": [
    {
      "cell_type": "markdown",
      "source": [
        "##**Rede Neural**\n",
        "\n",
        "Iremos agora utilizar uma rede neural com a mesma base de dados utilizada no modelo de KMeans. O objetivo ainda permanece o mesmo: Tentar prever com base nas features quando uma paciente pode possuir diabetes ou não. Importante ressaltar que esse modelo, no contexto da saúde, tem como função auxiliar os profissionais a fazerem uma triagem mais eficiente dos pacientes e não tomar a decisão em si. Sendo assim, não estamos procurando uma eficácia extremamente alta, mas sim um modelo que tenha uma boa proporção de TN e TP, com menos FN do que FP."
      ],
      "metadata": {
        "id": "AnqWHAVXCpw7"
      }
    },
    {
      "cell_type": "code",
      "execution_count": null,
      "metadata": {
        "id": "ecYBxLGpsIg5",
        "colab": {
          "base_uri": "https://localhost:8080/",
          "height": 424
        },
        "outputId": "02764580-44f8-4e4e-9643-ad02fc3f987c"
      },
      "outputs": [
        {
          "output_type": "execute_result",
          "data": {
            "text/plain": [
              "     Pregnancies  Glucose  BloodPressure  SkinThickness  Insulin   BMI  \\\n",
              "0              6      148             72             35        0  33.6   \n",
              "1              1       85             66             29        0  26.6   \n",
              "2              8      183             64              0        0  23.3   \n",
              "3              1       89             66             23       94  28.1   \n",
              "4              0      137             40             35      168  43.1   \n",
              "..           ...      ...            ...            ...      ...   ...   \n",
              "763           10      101             76             48      180  32.9   \n",
              "764            2      122             70             27        0  36.8   \n",
              "765            5      121             72             23      112  26.2   \n",
              "766            1      126             60              0        0  30.1   \n",
              "767            1       93             70             31        0  30.4   \n",
              "\n",
              "     DiabetesPedigreeFunction  Age  Outcome  \n",
              "0                       0.627   50        1  \n",
              "1                       0.351   31        0  \n",
              "2                       0.672   32        1  \n",
              "3                       0.167   21        0  \n",
              "4                       2.288   33        1  \n",
              "..                        ...  ...      ...  \n",
              "763                     0.171   63        0  \n",
              "764                     0.340   27        0  \n",
              "765                     0.245   30        0  \n",
              "766                     0.349   47        1  \n",
              "767                     0.315   23        0  \n",
              "\n",
              "[768 rows x 9 columns]"
            ],
            "text/html": [
              "\n",
              "  <div id=\"df-b1e0f16e-578b-42cb-ac9b-355bf00fa89c\">\n",
              "    <div class=\"colab-df-container\">\n",
              "      <div>\n",
              "<style scoped>\n",
              "    .dataframe tbody tr th:only-of-type {\n",
              "        vertical-align: middle;\n",
              "    }\n",
              "\n",
              "    .dataframe tbody tr th {\n",
              "        vertical-align: top;\n",
              "    }\n",
              "\n",
              "    .dataframe thead th {\n",
              "        text-align: right;\n",
              "    }\n",
              "</style>\n",
              "<table border=\"1\" class=\"dataframe\">\n",
              "  <thead>\n",
              "    <tr style=\"text-align: right;\">\n",
              "      <th></th>\n",
              "      <th>Pregnancies</th>\n",
              "      <th>Glucose</th>\n",
              "      <th>BloodPressure</th>\n",
              "      <th>SkinThickness</th>\n",
              "      <th>Insulin</th>\n",
              "      <th>BMI</th>\n",
              "      <th>DiabetesPedigreeFunction</th>\n",
              "      <th>Age</th>\n",
              "      <th>Outcome</th>\n",
              "    </tr>\n",
              "  </thead>\n",
              "  <tbody>\n",
              "    <tr>\n",
              "      <th>0</th>\n",
              "      <td>6</td>\n",
              "      <td>148</td>\n",
              "      <td>72</td>\n",
              "      <td>35</td>\n",
              "      <td>0</td>\n",
              "      <td>33.6</td>\n",
              "      <td>0.627</td>\n",
              "      <td>50</td>\n",
              "      <td>1</td>\n",
              "    </tr>\n",
              "    <tr>\n",
              "      <th>1</th>\n",
              "      <td>1</td>\n",
              "      <td>85</td>\n",
              "      <td>66</td>\n",
              "      <td>29</td>\n",
              "      <td>0</td>\n",
              "      <td>26.6</td>\n",
              "      <td>0.351</td>\n",
              "      <td>31</td>\n",
              "      <td>0</td>\n",
              "    </tr>\n",
              "    <tr>\n",
              "      <th>2</th>\n",
              "      <td>8</td>\n",
              "      <td>183</td>\n",
              "      <td>64</td>\n",
              "      <td>0</td>\n",
              "      <td>0</td>\n",
              "      <td>23.3</td>\n",
              "      <td>0.672</td>\n",
              "      <td>32</td>\n",
              "      <td>1</td>\n",
              "    </tr>\n",
              "    <tr>\n",
              "      <th>3</th>\n",
              "      <td>1</td>\n",
              "      <td>89</td>\n",
              "      <td>66</td>\n",
              "      <td>23</td>\n",
              "      <td>94</td>\n",
              "      <td>28.1</td>\n",
              "      <td>0.167</td>\n",
              "      <td>21</td>\n",
              "      <td>0</td>\n",
              "    </tr>\n",
              "    <tr>\n",
              "      <th>4</th>\n",
              "      <td>0</td>\n",
              "      <td>137</td>\n",
              "      <td>40</td>\n",
              "      <td>35</td>\n",
              "      <td>168</td>\n",
              "      <td>43.1</td>\n",
              "      <td>2.288</td>\n",
              "      <td>33</td>\n",
              "      <td>1</td>\n",
              "    </tr>\n",
              "    <tr>\n",
              "      <th>...</th>\n",
              "      <td>...</td>\n",
              "      <td>...</td>\n",
              "      <td>...</td>\n",
              "      <td>...</td>\n",
              "      <td>...</td>\n",
              "      <td>...</td>\n",
              "      <td>...</td>\n",
              "      <td>...</td>\n",
              "      <td>...</td>\n",
              "    </tr>\n",
              "    <tr>\n",
              "      <th>763</th>\n",
              "      <td>10</td>\n",
              "      <td>101</td>\n",
              "      <td>76</td>\n",
              "      <td>48</td>\n",
              "      <td>180</td>\n",
              "      <td>32.9</td>\n",
              "      <td>0.171</td>\n",
              "      <td>63</td>\n",
              "      <td>0</td>\n",
              "    </tr>\n",
              "    <tr>\n",
              "      <th>764</th>\n",
              "      <td>2</td>\n",
              "      <td>122</td>\n",
              "      <td>70</td>\n",
              "      <td>27</td>\n",
              "      <td>0</td>\n",
              "      <td>36.8</td>\n",
              "      <td>0.340</td>\n",
              "      <td>27</td>\n",
              "      <td>0</td>\n",
              "    </tr>\n",
              "    <tr>\n",
              "      <th>765</th>\n",
              "      <td>5</td>\n",
              "      <td>121</td>\n",
              "      <td>72</td>\n",
              "      <td>23</td>\n",
              "      <td>112</td>\n",
              "      <td>26.2</td>\n",
              "      <td>0.245</td>\n",
              "      <td>30</td>\n",
              "      <td>0</td>\n",
              "    </tr>\n",
              "    <tr>\n",
              "      <th>766</th>\n",
              "      <td>1</td>\n",
              "      <td>126</td>\n",
              "      <td>60</td>\n",
              "      <td>0</td>\n",
              "      <td>0</td>\n",
              "      <td>30.1</td>\n",
              "      <td>0.349</td>\n",
              "      <td>47</td>\n",
              "      <td>1</td>\n",
              "    </tr>\n",
              "    <tr>\n",
              "      <th>767</th>\n",
              "      <td>1</td>\n",
              "      <td>93</td>\n",
              "      <td>70</td>\n",
              "      <td>31</td>\n",
              "      <td>0</td>\n",
              "      <td>30.4</td>\n",
              "      <td>0.315</td>\n",
              "      <td>23</td>\n",
              "      <td>0</td>\n",
              "    </tr>\n",
              "  </tbody>\n",
              "</table>\n",
              "<p>768 rows × 9 columns</p>\n",
              "</div>\n",
              "      <button class=\"colab-df-convert\" onclick=\"convertToInteractive('df-b1e0f16e-578b-42cb-ac9b-355bf00fa89c')\"\n",
              "              title=\"Convert this dataframe to an interactive table.\"\n",
              "              style=\"display:none;\">\n",
              "        \n",
              "  <svg xmlns=\"http://www.w3.org/2000/svg\" height=\"24px\"viewBox=\"0 0 24 24\"\n",
              "       width=\"24px\">\n",
              "    <path d=\"M0 0h24v24H0V0z\" fill=\"none\"/>\n",
              "    <path d=\"M18.56 5.44l.94 2.06.94-2.06 2.06-.94-2.06-.94-.94-2.06-.94 2.06-2.06.94zm-11 1L8.5 8.5l.94-2.06 2.06-.94-2.06-.94L8.5 2.5l-.94 2.06-2.06.94zm10 10l.94 2.06.94-2.06 2.06-.94-2.06-.94-.94-2.06-.94 2.06-2.06.94z\"/><path d=\"M17.41 7.96l-1.37-1.37c-.4-.4-.92-.59-1.43-.59-.52 0-1.04.2-1.43.59L10.3 9.45l-7.72 7.72c-.78.78-.78 2.05 0 2.83L4 21.41c.39.39.9.59 1.41.59.51 0 1.02-.2 1.41-.59l7.78-7.78 2.81-2.81c.8-.78.8-2.07 0-2.86zM5.41 20L4 18.59l7.72-7.72 1.47 1.35L5.41 20z\"/>\n",
              "  </svg>\n",
              "      </button>\n",
              "      \n",
              "  <style>\n",
              "    .colab-df-container {\n",
              "      display:flex;\n",
              "      flex-wrap:wrap;\n",
              "      gap: 12px;\n",
              "    }\n",
              "\n",
              "    .colab-df-convert {\n",
              "      background-color: #E8F0FE;\n",
              "      border: none;\n",
              "      border-radius: 50%;\n",
              "      cursor: pointer;\n",
              "      display: none;\n",
              "      fill: #1967D2;\n",
              "      height: 32px;\n",
              "      padding: 0 0 0 0;\n",
              "      width: 32px;\n",
              "    }\n",
              "\n",
              "    .colab-df-convert:hover {\n",
              "      background-color: #E2EBFA;\n",
              "      box-shadow: 0px 1px 2px rgba(60, 64, 67, 0.3), 0px 1px 3px 1px rgba(60, 64, 67, 0.15);\n",
              "      fill: #174EA6;\n",
              "    }\n",
              "\n",
              "    [theme=dark] .colab-df-convert {\n",
              "      background-color: #3B4455;\n",
              "      fill: #D2E3FC;\n",
              "    }\n",
              "\n",
              "    [theme=dark] .colab-df-convert:hover {\n",
              "      background-color: #434B5C;\n",
              "      box-shadow: 0px 1px 3px 1px rgba(0, 0, 0, 0.15);\n",
              "      filter: drop-shadow(0px 1px 2px rgba(0, 0, 0, 0.3));\n",
              "      fill: #FFFFFF;\n",
              "    }\n",
              "  </style>\n",
              "\n",
              "      <script>\n",
              "        const buttonEl =\n",
              "          document.querySelector('#df-b1e0f16e-578b-42cb-ac9b-355bf00fa89c button.colab-df-convert');\n",
              "        buttonEl.style.display =\n",
              "          google.colab.kernel.accessAllowed ? 'block' : 'none';\n",
              "\n",
              "        async function convertToInteractive(key) {\n",
              "          const element = document.querySelector('#df-b1e0f16e-578b-42cb-ac9b-355bf00fa89c');\n",
              "          const dataTable =\n",
              "            await google.colab.kernel.invokeFunction('convertToInteractive',\n",
              "                                                     [key], {});\n",
              "          if (!dataTable) return;\n",
              "\n",
              "          const docLinkHtml = 'Like what you see? Visit the ' +\n",
              "            '<a target=\"_blank\" href=https://colab.research.google.com/notebooks/data_table.ipynb>data table notebook</a>'\n",
              "            + ' to learn more about interactive tables.';\n",
              "          element.innerHTML = '';\n",
              "          dataTable['output_type'] = 'display_data';\n",
              "          await google.colab.output.renderOutput(dataTable, element);\n",
              "          const docLink = document.createElement('div');\n",
              "          docLink.innerHTML = docLinkHtml;\n",
              "          element.appendChild(docLink);\n",
              "        }\n",
              "      </script>\n",
              "    </div>\n",
              "  </div>\n",
              "  "
            ]
          },
          "metadata": {},
          "execution_count": 182
        }
      ],
      "source": [
        "import pandas as pd\n",
        "Dados = pd.read_csv('/content/drive/MyDrive/diabetesKMeans.csv')\n",
        "Dados"
      ]
    },
    {
      "cell_type": "markdown",
      "source": [
        "Importando a base de dados com cerca de 768 registros"
      ],
      "metadata": {
        "id": "UhBHZH1_D5j_"
      }
    },
    {
      "cell_type": "code",
      "source": [
        "from sklearn.model_selection import train_test_split\n",
        "treino, teste = train_test_split(Dados, train_size=0.8)"
      ],
      "metadata": {
        "id": "aMzEctdVzSbO"
      },
      "execution_count": null,
      "outputs": []
    },
    {
      "cell_type": "markdown",
      "source": [
        "Separando as partes de treino e teste (80% e 20%, respectivamente)"
      ],
      "metadata": {
        "id": "duFbje7TEIah"
      }
    },
    {
      "cell_type": "code",
      "source": [
        "import tensorflow\n",
        "from tensorflow import keras\n",
        "\n",
        "nn = keras.Sequential([\n",
        "      keras.layers.Input(len(treino.columns)-3),\n",
        "      keras.layers.Dense(4, activation='relu'),\n",
        "      keras.layers.Dense(3, activation='relu'),\n",
        "      keras.layers.Dense(2, activation='relu'),\n",
        "      keras.layers.Dense(1, activation='sigmoid')\n",
        "])\n",
        "\n",
        "nn.compile(optimizer='adam' , loss='binary_crossentropy')\n",
        "nn.fit(treino[['Glucose', 'BloodPressure', 'SkinThickness', 'Insulin', 'BMI', 'DiabetesPedigreeFunction']] , treino['Outcome'])"
      ],
      "metadata": {
        "id": "ep_OjwJAoVch",
        "colab": {
          "base_uri": "https://localhost:8080/"
        },
        "outputId": "67bcfba7-cec1-42d0-e2f2-c34db0ea01af"
      },
      "execution_count": null,
      "outputs": [
        {
          "output_type": "stream",
          "name": "stdout",
          "text": [
            "20/20 [==============================] - 2s 6ms/step - loss: 0.7976\n"
          ]
        },
        {
          "output_type": "execute_result",
          "data": {
            "text/plain": [
              "<keras.callbacks.History at 0x7fc311622d90>"
            ]
          },
          "metadata": {},
          "execution_count": 593
        }
      ]
    },
    {
      "cell_type": "markdown",
      "source": [
        "- Nesse trecho de código, criamos uma rede neural com 6 entradas. Aqui é importante destacar que, com base na fase anterior do algortimo KMeans, determinamos que algumas variáveis tinham menos correlação com o diagnóstico positivo. Essas variáveis são correspondentes ao número de gestações e a idade das pacientes. Sendo assim, para esta fase nós as removemos para evitar uma poluição das predições do modelo.\n",
        "- Continuando sobre a rede neural, utilizamos cerca de 4 camadas internas. Sendo que cada uma contém 4,3 e 2 nós respectivamente. A 4 camada interna já corresponde a uma saída do modelo, que possui como ativação uma função sigmóide (ou regressão logística) pois a saída do nosso modelo é binária (positivo/negativo). Criada a rede neural, compilamos e realizamos o fit para uma configuração inicial dos pesos dos neurônios.  "
      ],
      "metadata": {
        "id": "YpKT3NsuEY65"
      }
    },
    {
      "cell_type": "code",
      "source": [
        "previsoes = nn.predict(treino[['Glucose', 'BloodPressure', 'SkinThickness', 'Insulin', 'BMI', 'DiabetesPedigreeFunction']] )\n",
        "previsoes[:30]"
      ],
      "metadata": {
        "colab": {
          "base_uri": "https://localhost:8080/"
        },
        "id": "yw0E8IQBZ4Co",
        "outputId": "2055ab11-ef8b-485f-ddac-17fa4ad346ab"
      },
      "execution_count": null,
      "outputs": [
        {
          "output_type": "execute_result",
          "data": {
            "text/plain": [
              "array([[0.61879987],\n",
              "       [0.5378219 ],\n",
              "       [0.6438092 ],\n",
              "       [0.49749428],\n",
              "       [0.5370637 ],\n",
              "       [0.63935566],\n",
              "       [0.51923215],\n",
              "       [0.68206483],\n",
              "       [0.50759137],\n",
              "       [0.6071004 ],\n",
              "       [0.5804776 ],\n",
              "       [0.63620615],\n",
              "       [0.5850457 ],\n",
              "       [0.5804748 ],\n",
              "       [0.63199794],\n",
              "       [0.620435  ],\n",
              "       [0.5727382 ],\n",
              "       [0.5997375 ],\n",
              "       [0.6749519 ],\n",
              "       [0.5863158 ],\n",
              "       [0.5919171 ],\n",
              "       [0.5717203 ],\n",
              "       [0.54113954],\n",
              "       [0.55750227],\n",
              "       [0.5360463 ],\n",
              "       [0.6952911 ],\n",
              "       [0.64656967],\n",
              "       [0.49520448],\n",
              "       [0.5874371 ],\n",
              "       [0.6264018 ]], dtype=float32)"
            ]
          },
          "metadata": {},
          "execution_count": 617
        }
      ]
    },
    {
      "cell_type": "code",
      "source": [
        "p_treino = []\n",
        "p_treino.extend([0 if i < 0.6 else 1 for i in previsoes])\n",
        "p_treino[:10]"
      ],
      "metadata": {
        "id": "rJkNhF8zoc82",
        "colab": {
          "base_uri": "https://localhost:8080/"
        },
        "outputId": "c07dd471-f715-45de-eee0-3d72f3614666"
      },
      "execution_count": null,
      "outputs": [
        {
          "output_type": "execute_result",
          "data": {
            "text/plain": [
              "[1, 0, 1, 0, 0, 1, 0, 1, 0, 1]"
            ]
          },
          "metadata": {},
          "execution_count": 618
        }
      ]
    },
    {
      "cell_type": "markdown",
      "source": [
        "Realizando as previsões em teste, é possível determinar um valor de ativação aquivalnete a 0.6, que acreditamos ser o melhor para o nosso modelo depois de diversas análises. Sendo assim, percorremos cada elemento da saída da rede neural e aplicamos uma função de ativação usando uma list comprehension, que é um recurso do python que permite simplificar laços de repetição com condições."
      ],
      "metadata": {
        "id": "YDhag34iHS3e"
      }
    },
    {
      "cell_type": "code",
      "source": [
        "y_treino = treino['Outcome']\n",
        "y_treino"
      ],
      "metadata": {
        "id": "pEhN8Q63ogVt",
        "colab": {
          "base_uri": "https://localhost:8080/"
        },
        "outputId": "0d5943bd-7139-430e-e6ab-44ee28b5ac09"
      },
      "execution_count": null,
      "outputs": [
        {
          "output_type": "execute_result",
          "data": {
            "text/plain": [
              "541    1\n",
              "684    0\n",
              "663    1\n",
              "50     0\n",
              "310    0\n",
              "      ..\n",
              "555    0\n",
              "650    0\n",
              "605    0\n",
              "34     0\n",
              "342    0\n",
              "Name: Outcome, Length: 614, dtype: int64"
            ]
          },
          "metadata": {},
          "execution_count": 619
        }
      ]
    },
    {
      "cell_type": "markdown",
      "source": [
        "Realizadas as predições e transformações das saídas, obtemos também as labels originais da base de dados para fazer uma comparação e determinar a acurácia."
      ],
      "metadata": {
        "id": "Y_qXEOTnL-rH"
      }
    },
    {
      "cell_type": "code",
      "source": [
        "from sklearn.metrics import accuracy_score\n",
        "acuracia_treino= accuracy_score(y_treino,p_treino)\n",
        "acuracia_treino*100"
      ],
      "metadata": {
        "id": "M4rKvWALonr5",
        "colab": {
          "base_uri": "https://localhost:8080/"
        },
        "outputId": "89a85262-7c6e-4c86-e3ac-9c06adf0f644"
      },
      "execution_count": null,
      "outputs": [
        {
          "output_type": "execute_result",
          "data": {
            "text/plain": [
              "65.14657980456026"
            ]
          },
          "metadata": {},
          "execution_count": 620
        }
      ]
    },
    {
      "cell_type": "markdown",
      "source": [
        "65% de acurácia no nosso cenário não é o ideal, pois ainda existe uma margem de erro bem significativa do modelo. No entanto, o contexto do negócio é usar esse modelo como apenas um auxiliar, então no geral ele está cumprindo bem a sua função. Ele já se mostra significativamente mais eficiente que uma escolha de 50/50. Agora o importante é realizar o mesmo procedimento na parte separada para teste e tentar manter a mesma acurácia vista em treino, assim como verificar a proporção de acertos, FN e FP."
      ],
      "metadata": {
        "id": "dD3pgzYMNO8f"
      }
    },
    {
      "cell_type": "code",
      "source": [
        "p_teste = []\n",
        "previsoes = nn.predict(teste[['Glucose', 'BloodPressure', 'SkinThickness', 'Insulin', 'BMI', 'DiabetesPedigreeFunction']] )\n",
        "p_teste.extend([0 if i < 0.6 else 1 for i in previsoes])"
      ],
      "metadata": {
        "id": "iiCioaYi2QCN"
      },
      "execution_count": null,
      "outputs": []
    },
    {
      "cell_type": "code",
      "source": [
        "y_teste = teste['Outcome']\n",
        "y_teste"
      ],
      "metadata": {
        "colab": {
          "base_uri": "https://localhost:8080/"
        },
        "id": "sHoKw8xZ2RvD",
        "outputId": "52bb1005-6f67-453a-dd23-5c8a483232e6"
      },
      "execution_count": null,
      "outputs": [
        {
          "output_type": "execute_result",
          "data": {
            "text/plain": [
              "242    1\n",
              "404    1\n",
              "301    1\n",
              "266    1\n",
              "732    1\n",
              "      ..\n",
              "720    0\n",
              "736    0\n",
              "276    1\n",
              "712    1\n",
              "434    0\n",
              "Name: Outcome, Length: 154, dtype: int64"
            ]
          },
          "metadata": {},
          "execution_count": 622
        }
      ]
    },
    {
      "cell_type": "code",
      "source": [
        "from sklearn.metrics import accuracy_score\n",
        "accuracy_score(y_teste,p_teste) * 100"
      ],
      "metadata": {
        "colab": {
          "base_uri": "https://localhost:8080/"
        },
        "id": "rsxtTWLl2XAp",
        "outputId": "a80ec622-9ecf-4a72-bf96-cabe133ea487"
      },
      "execution_count": null,
      "outputs": [
        {
          "output_type": "execute_result",
          "data": {
            "text/plain": [
              "74.67532467532467"
            ]
          },
          "metadata": {},
          "execution_count": 623
        }
      ]
    },
    {
      "cell_type": "markdown",
      "source": [
        "Os resultados em teste revelam que a acurácia (74%) aumentou cerca de 9% em relação ao treino (65%), o que é bem positivo no nosso cenário. Pela nossa análise, acreditamos que esses valores não são tão discrepantes o suficiente para caracterizar um underfit. Desse modo, é possível concluir que em teste o modelo aumentou significativamente a sua eficiência e o seu grau de confiabilidade. Como dito na introdução dessa análise, apesar de uma acurácia bem alta (acima de 80%) ser o melhor cenário, estamos trabalhando com um modelo que tem como proposta ser um auxiliar. Sendo assim, esses resultados são bem aceitáveis. Essa rede neural já tornaria o atendimento de uma clínica mais eficiente, poupando tempo, recursos, medicamentos e dinheiro. Ou seja, ele cumpre bem a sua função."
      ],
      "metadata": {
        "id": "no--wT0HPOXQ"
      }
    },
    {
      "cell_type": "code",
      "source": [
        "from sklearn.metrics import confusion_matrix,classification_report\n",
        "import seaborn as sns\n",
        "cm = confusion_matrix(y_teste , p_teste)\n",
        "print(cm)\n",
        "sns.heatmap(cm, annot=True)"
      ],
      "metadata": {
        "colab": {
          "base_uri": "https://localhost:8080/",
          "height": 321
        },
        "id": "zMAdl-ud2YMe",
        "outputId": "3063aad4-4a38-48ce-9ff1-b2dd6952aec5"
      },
      "execution_count": null,
      "outputs": [
        {
          "output_type": "stream",
          "name": "stdout",
          "text": [
            "[[70 25]\n",
            " [14 45]]\n"
          ]
        },
        {
          "output_type": "execute_result",
          "data": {
            "text/plain": [
              "<matplotlib.axes._subplots.AxesSubplot at 0x7fc30841db90>"
            ]
          },
          "metadata": {},
          "execution_count": 626
        },
        {
          "output_type": "display_data",
          "data": {
            "text/plain": [
              "<Figure size 432x288 with 2 Axes>"
            ],
            "image/png": "[encoded data removed]"
          },
          "metadata": {
            "needs_background": "light"
          }
        }
      ]
    },
    {
      "cell_type": "markdown",
      "source": [
        "Como podemos observar na matriz de confusão, a proporção de acertos é muito boa, tanto de negativos quanto de positivos. Algo a se notar também é a menor quantidade de FP do que FN, que no contexto da saúde é o ideal. Isso mostra que pacientes mais propensos a terem diabetes tendem a ser diagnosticados mais corretamente pelo modelo, enquanto aqueles que receberam um falso positivo irão passar por mais uma triagem."
      ],
      "metadata": {
        "id": "n6tw6etkSc-U"
      }
    },
    {
      "cell_type": "code",
      "source": [
        "print(classification_report(y_teste,p_teste))"
      ],
      "metadata": {
        "colab": {
          "base_uri": "https://localhost:8080/"
        },
        "id": "YjtPP9NSPJGg",
        "outputId": "40d0a7cf-9a08-48b4-9cb4-27a11be9d9b2"
      },
      "execution_count": null,
      "outputs": [
        {
          "output_type": "stream",
          "name": "stdout",
          "text": [
            "              precision    recall  f1-score   support\n",
            "\n",
            "           0       0.83      0.74      0.78        95\n",
            "           1       0.64      0.76      0.70        59\n",
            "\n",
            "    accuracy                           0.75       154\n",
            "   macro avg       0.74      0.75      0.74       154\n",
            "weighted avg       0.76      0.75      0.75       154\n",
            "\n"
          ]
        }
      ]
    },
    {
      "cell_type": "markdown",
      "source": [
        "Aqui vemos que o modelo tem mais precisão em diagnosticar negativos do que positivos, com uma precisão de 83% e um recall de 0.74. Enquanto os diagnósticos negativos apresentam uma precisão de 64%, mas com um recall mais alto de 74%, o que é bom dado os objetivos do modelo.\n",
        "\n",
        "###**Conclusão**\n",
        "\n",
        "Após a implementação do modelo e as análises, podemos concluir que dado o nosso objetivo de negócio, o modelo consegue ter um desempenho bem aceitavel. Certamente não é o cenário ideal, ainda mais se tratando da saúde. No entanto, por ser um auxiliar de clínica geral, ele consegue filtrar com uma boa eficiência aqueles pacientes que necessitam de mais prioridade. Como dito antes, essas identificações de prioridade ajudam muito na gestão de recursos de um clínica/hospital, e podem fazer muita diferença em questões não só do tratamento adequado aos pacientes, como também na administração daquele lugar."
      ],
      "metadata": {
        "id": "OjtsM7D7TUk5"
      }
    }
  ]
}