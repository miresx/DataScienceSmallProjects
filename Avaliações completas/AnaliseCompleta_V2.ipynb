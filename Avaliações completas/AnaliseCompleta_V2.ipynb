{
  "nbformat": 4,
  "nbformat_minor": 0,
  "metadata": {
    "colab": {
      "provenance": []
    },
    "kernelspec": {
      "name": "python3",
      "display_name": "Python 3"
    },
    "language_info": {
      "name": "python"
    }
  },
  "cells": [
    {
      "cell_type": "code",
      "source": [
        "!pip install pmdarima\n",
        "import pandas as pd\n",
        "import seaborn as sns\n",
        "import matplotlib.pyplot as plt\n",
        "from sklearn.model_selection import train_test_split\n",
        "from sklearn import metrics"
      ],
      "metadata": {
        "colab": {
          "base_uri": "https://localhost:8080/"
        },
        "id": "4TTWntyvm2ET",
        "outputId": "2e820200-d36d-40cd-abc7-4dc92132612c"
      },
      "execution_count": null,
      "outputs": [
        {
          "output_type": "stream",
          "name": "stdout",
          "text": [
            "Looking in indexes: https://pypi.org/simple, https://us-python.pkg.dev/colab-wheels/public/simple/\n",
            "Requirement already satisfied: pmdarima in /usr/local/lib/python3.7/dist-packages (1.8.5)\n",
            "Requirement already satisfied: scipy>=1.3.2 in /usr/local/lib/python3.7/dist-packages (from pmdarima) (1.4.1)\n",
            "Requirement already satisfied: scikit-learn>=0.22 in /usr/local/lib/python3.7/dist-packages (from pmdarima) (1.0.2)\n",
            "Requirement already satisfied: statsmodels!=0.12.0,>=0.11 in /usr/local/lib/python3.7/dist-packages (from pmdarima) (0.13.2)\n",
            "Requirement already satisfied: urllib3 in /usr/local/lib/python3.7/dist-packages (from pmdarima) (1.24.3)\n",
            "Requirement already satisfied: pandas>=0.19 in /usr/local/lib/python3.7/dist-packages (from pmdarima) (1.3.5)\n",
            "Requirement already satisfied: Cython!=0.29.18,>=0.29 in /usr/local/lib/python3.7/dist-packages (from pmdarima) (0.29.30)\n",
            "Requirement already satisfied: numpy>=1.19.3 in /usr/local/lib/python3.7/dist-packages (from pmdarima) (1.21.6)\n",
            "Requirement already satisfied: setuptools!=50.0.0,>=38.6.0 in /usr/local/lib/python3.7/dist-packages (from pmdarima) (57.4.0)\n",
            "Requirement already satisfied: joblib>=0.11 in /usr/local/lib/python3.7/dist-packages (from pmdarima) (1.1.0)\n",
            "Requirement already satisfied: python-dateutil>=2.7.3 in /usr/local/lib/python3.7/dist-packages (from pandas>=0.19->pmdarima) (2.8.2)\n",
            "Requirement already satisfied: pytz>=2017.3 in /usr/local/lib/python3.7/dist-packages (from pandas>=0.19->pmdarima) (2022.1)\n",
            "Requirement already satisfied: six>=1.5 in /usr/local/lib/python3.7/dist-packages (from python-dateutil>=2.7.3->pandas>=0.19->pmdarima) (1.15.0)\n",
            "Requirement already satisfied: threadpoolctl>=2.0.0 in /usr/local/lib/python3.7/dist-packages (from scikit-learn>=0.22->pmdarima) (3.1.0)\n",
            "Requirement already satisfied: patsy>=0.5.2 in /usr/local/lib/python3.7/dist-packages (from statsmodels!=0.12.0,>=0.11->pmdarima) (0.5.2)\n",
            "Requirement already satisfied: packaging>=21.3 in /usr/local/lib/python3.7/dist-packages (from statsmodels!=0.12.0,>=0.11->pmdarima) (21.3)\n",
            "Requirement already satisfied: pyparsing!=3.0.5,>=2.0.2 in /usr/local/lib/python3.7/dist-packages (from packaging>=21.3->statsmodels!=0.12.0,>=0.11->pmdarima) (3.0.9)\n"
          ]
        }
      ]
    },
    {
      "cell_type": "markdown",
      "source": [
        "# Regressão\n",
        "\n",
        "## **Tema - Preço de casas**\n",
        "\n",
        "O preço de uma casa varia bastante de acordo com as suas características. Podemos citar tanto fatores estruturais, como número de quartos, banheiros, tamanho da sala, jardim, entre outros. Além disso também temos fatores externos, como localização e acesso aos serviços. Neste caso aqui, a base de dados utilizada possui registros de diversas residências na região metropolitana de Seattle - EUA (algo a se notar é que o conjunto usado possui penas fatores internos). **Desse modo, o objetivo desta etapa será criar um modelo de regressão linear que consiga prever o preço das casas baseadas nesses atributos(features).**\n",
        "\n",
        "##**Colunas**\n",
        "- id: Identificador único da casa vendida\n",
        "- date: Data da venda\n",
        "- price: Preço negociado\n",
        "- bedrooms: Número de quartos\n",
        "- bathrooms: Número de banheiros (0.5 significa lavabo)\n",
        "- sqft_living: Área da sala de estar (em pés)\n",
        "- sqft_lot: Área do terreno todo (em pés)\n",
        "- floors: Número de andares\n",
        "- waterfront: Se o lugar tem vista de frente para algum corpo de água\n",
        "- view: Um índice de 0 a 4 referente a avaliação da vista do lugar\n",
        "- condition: Um índice de 1 a 5 referente as condições estruturais do lugar\n",
        "- grade: Um índice que mede a qualidade da construção de design da casa\n",
        "- sqft_above: Área total dos pisos superiores (em pés)\n",
        "- sqft_basement: Área total dos pisos abaixo do nível do solo (em pés)\n",
        "- yr_built: Ano de construção\n",
        "- yr_renovated: Ano de renovação (0 = não foi renovada)\n",
        "- zipcode: Código postal\n",
        "- lat: Latitude\n",
        "- long: Longitude\n",
        "- sqft_living15: Áreas médias da sala de estar dos 15 vizinhos mais próximos  (em pés)\n",
        "- sqft_basement15: Áreas médias dos pisos abaixo do nível do solo dos 15 vizinhos mais próximos  (em pés)\n"
      ],
      "metadata": {
        "id": "ASSW8842mVYI"
      }
    },
    {
      "cell_type": "code",
      "source": [
        "casas = pd.read_csv('/content/drive/MyDrive/kc_house_data.csv')\n",
        "casas.head(3)"
      ],
      "metadata": {
        "colab": {
          "base_uri": "https://localhost:8080/",
          "height": 217
        },
        "id": "yxIudcgpnrn6",
        "outputId": "7800bd04-b497-4a66-cbdb-6dafff6de048"
      },
      "execution_count": null,
      "outputs": [
        {
          "output_type": "execute_result",
          "data": {
            "text/plain": [
              "           id             date     price  bedrooms  bathrooms  sqft_living  \\\n",
              "0  7129300520  20141013T000000  221900.0         3       1.00         1180   \n",
              "1  6414100192  20141209T000000  538000.0         3       2.25         2570   \n",
              "2  5631500400  20150225T000000  180000.0         2       1.00          770   \n",
              "\n",
              "   sqft_lot  floors  waterfront  view  ...  grade  sqft_above  sqft_basement  \\\n",
              "0      5650     1.0           0     0  ...      7        1180              0   \n",
              "1      7242     2.0           0     0  ...      7        2170            400   \n",
              "2     10000     1.0           0     0  ...      6         770              0   \n",
              "\n",
              "   yr_built  yr_renovated  zipcode      lat     long  sqft_living15  \\\n",
              "0      1955             0    98178  47.5112 -122.257           1340   \n",
              "1      1951          1991    98125  47.7210 -122.319           1690   \n",
              "2      1933             0    98028  47.7379 -122.233           2720   \n",
              "\n",
              "   sqft_lot15  \n",
              "0        5650  \n",
              "1        7639  \n",
              "2        8062  \n",
              "\n",
              "[3 rows x 21 columns]"
            ],
            "text/html": [
              "\n",
              "  <div id=\"df-6517db50-616b-49b8-a2ce-49cafc2f98ee\">\n",
              "    <div class=\"colab-df-container\">\n",
              "      <div>\n",
              "<style scoped>\n",
              "    .dataframe tbody tr th:only-of-type {\n",
              "        vertical-align: middle;\n",
              "    }\n",
              "\n",
              "    .dataframe tbody tr th {\n",
              "        vertical-align: top;\n",
              "    }\n",
              "\n",
              "    .dataframe thead th {\n",
              "        text-align: right;\n",
              "    }\n",
              "</style>\n",
              "<table border=\"1\" class=\"dataframe\">\n",
              "  <thead>\n",
              "    <tr style=\"text-align: right;\">\n",
              "      <th></th>\n",
              "      <th>id</th>\n",
              "      <th>date</th>\n",
              "      <th>price</th>\n",
              "      <th>bedrooms</th>\n",
              "      <th>bathrooms</th>\n",
              "      <th>sqft_living</th>\n",
              "      <th>sqft_lot</th>\n",
              "      <th>floors</th>\n",
              "      <th>waterfront</th>\n",
              "      <th>view</th>\n",
              "      <th>...</th>\n",
              "      <th>grade</th>\n",
              "      <th>sqft_above</th>\n",
              "      <th>sqft_basement</th>\n",
              "      <th>yr_built</th>\n",
              "      <th>yr_renovated</th>\n",
              "      <th>zipcode</th>\n",
              "      <th>lat</th>\n",
              "      <th>long</th>\n",
              "      <th>sqft_living15</th>\n",
              "      <th>sqft_lot15</th>\n",
              "    </tr>\n",
              "  </thead>\n",
              "  <tbody>\n",
              "    <tr>\n",
              "      <th>0</th>\n",
              "      <td>7129300520</td>\n",
              "      <td>20141013T000000</td>\n",
              "      <td>221900.0</td>\n",
              "      <td>3</td>\n",
              "      <td>1.00</td>\n",
              "      <td>1180</td>\n",
              "      <td>5650</td>\n",
              "      <td>1.0</td>\n",
              "      <td>0</td>\n",
              "      <td>0</td>\n",
              "      <td>...</td>\n",
              "      <td>7</td>\n",
              "      <td>1180</td>\n",
              "      <td>0</td>\n",
              "      <td>1955</td>\n",
              "      <td>0</td>\n",
              "      <td>98178</td>\n",
              "      <td>47.5112</td>\n",
              "      <td>-122.257</td>\n",
              "      <td>1340</td>\n",
              "      <td>5650</td>\n",
              "    </tr>\n",
              "    <tr>\n",
              "      <th>1</th>\n",
              "      <td>6414100192</td>\n",
              "      <td>20141209T000000</td>\n",
              "      <td>538000.0</td>\n",
              "      <td>3</td>\n",
              "      <td>2.25</td>\n",
              "      <td>2570</td>\n",
              "      <td>7242</td>\n",
              "      <td>2.0</td>\n",
              "      <td>0</td>\n",
              "      <td>0</td>\n",
              "      <td>...</td>\n",
              "      <td>7</td>\n",
              "      <td>2170</td>\n",
              "      <td>400</td>\n",
              "      <td>1951</td>\n",
              "      <td>1991</td>\n",
              "      <td>98125</td>\n",
              "      <td>47.7210</td>\n",
              "      <td>-122.319</td>\n",
              "      <td>1690</td>\n",
              "      <td>7639</td>\n",
              "    </tr>\n",
              "    <tr>\n",
              "      <th>2</th>\n",
              "      <td>5631500400</td>\n",
              "      <td>20150225T000000</td>\n",
              "      <td>180000.0</td>\n",
              "      <td>2</td>\n",
              "      <td>1.00</td>\n",
              "      <td>770</td>\n",
              "      <td>10000</td>\n",
              "      <td>1.0</td>\n",
              "      <td>0</td>\n",
              "      <td>0</td>\n",
              "      <td>...</td>\n",
              "      <td>6</td>\n",
              "      <td>770</td>\n",
              "      <td>0</td>\n",
              "      <td>1933</td>\n",
              "      <td>0</td>\n",
              "      <td>98028</td>\n",
              "      <td>47.7379</td>\n",
              "      <td>-122.233</td>\n",
              "      <td>2720</td>\n",
              "      <td>8062</td>\n",
              "    </tr>\n",
              "  </tbody>\n",
              "</table>\n",
              "<p>3 rows × 21 columns</p>\n",
              "</div>\n",
              "      <button class=\"colab-df-convert\" onclick=\"convertToInteractive('df-6517db50-616b-49b8-a2ce-49cafc2f98ee')\"\n",
              "              title=\"Convert this dataframe to an interactive table.\"\n",
              "              style=\"display:none;\">\n",
              "        \n",
              "  <svg xmlns=\"http://www.w3.org/2000/svg\" height=\"24px\"viewBox=\"0 0 24 24\"\n",
              "       width=\"24px\">\n",
              "    <path d=\"M0 0h24v24H0V0z\" fill=\"none\"/>\n",
              "    <path d=\"M18.56 5.44l.94 2.06.94-2.06 2.06-.94-2.06-.94-.94-2.06-.94 2.06-2.06.94zm-11 1L8.5 8.5l.94-2.06 2.06-.94-2.06-.94L8.5 2.5l-.94 2.06-2.06.94zm10 10l.94 2.06.94-2.06 2.06-.94-2.06-.94-.94-2.06-.94 2.06-2.06.94z\"/><path d=\"M17.41 7.96l-1.37-1.37c-.4-.4-.92-.59-1.43-.59-.52 0-1.04.2-1.43.59L10.3 9.45l-7.72 7.72c-.78.78-.78 2.05 0 2.83L4 21.41c.39.39.9.59 1.41.59.51 0 1.02-.2 1.41-.59l7.78-7.78 2.81-2.81c.8-.78.8-2.07 0-2.86zM5.41 20L4 18.59l7.72-7.72 1.47 1.35L5.41 20z\"/>\n",
              "  </svg>\n",
              "      </button>\n",
              "      \n",
              "  <style>\n",
              "    .colab-df-container {\n",
              "      display:flex;\n",
              "      flex-wrap:wrap;\n",
              "      gap: 12px;\n",
              "    }\n",
              "\n",
              "    .colab-df-convert {\n",
              "      background-color: #E8F0FE;\n",
              "      border: none;\n",
              "      border-radius: 50%;\n",
              "      cursor: pointer;\n",
              "      display: none;\n",
              "      fill: #1967D2;\n",
              "      height: 32px;\n",
              "      padding: 0 0 0 0;\n",
              "      width: 32px;\n",
              "    }\n",
              "\n",
              "    .colab-df-convert:hover {\n",
              "      background-color: #E2EBFA;\n",
              "      box-shadow: 0px 1px 2px rgba(60, 64, 67, 0.3), 0px 1px 3px 1px rgba(60, 64, 67, 0.15);\n",
              "      fill: #174EA6;\n",
              "    }\n",
              "\n",
              "    [theme=dark] .colab-df-convert {\n",
              "      background-color: #3B4455;\n",
              "      fill: #D2E3FC;\n",
              "    }\n",
              "\n",
              "    [theme=dark] .colab-df-convert:hover {\n",
              "      background-color: #434B5C;\n",
              "      box-shadow: 0px 1px 3px 1px rgba(0, 0, 0, 0.15);\n",
              "      filter: drop-shadow(0px 1px 2px rgba(0, 0, 0, 0.3));\n",
              "      fill: #FFFFFF;\n",
              "    }\n",
              "  </style>\n",
              "\n",
              "      <script>\n",
              "        const buttonEl =\n",
              "          document.querySelector('#df-6517db50-616b-49b8-a2ce-49cafc2f98ee button.colab-df-convert');\n",
              "        buttonEl.style.display =\n",
              "          google.colab.kernel.accessAllowed ? 'block' : 'none';\n",
              "\n",
              "        async function convertToInteractive(key) {\n",
              "          const element = document.querySelector('#df-6517db50-616b-49b8-a2ce-49cafc2f98ee');\n",
              "          const dataTable =\n",
              "            await google.colab.kernel.invokeFunction('convertToInteractive',\n",
              "                                                     [key], {});\n",
              "          if (!dataTable) return;\n",
              "\n",
              "          const docLinkHtml = 'Like what you see? Visit the ' +\n",
              "            '<a target=\"_blank\" href=https://colab.research.google.com/notebooks/data_table.ipynb>data table notebook</a>'\n",
              "            + ' to learn more about interactive tables.';\n",
              "          element.innerHTML = '';\n",
              "          dataTable['output_type'] = 'display_data';\n",
              "          await google.colab.output.renderOutput(dataTable, element);\n",
              "          const docLink = document.createElement('div');\n",
              "          docLink.innerHTML = docLinkHtml;\n",
              "          element.appendChild(docLink);\n",
              "        }\n",
              "      </script>\n",
              "    </div>\n",
              "  </div>\n",
              "  "
            ]
          },
          "metadata": {},
          "execution_count": 89
        }
      ]
    },
    {
      "cell_type": "markdown",
      "source": [
        "## **Analise exploratoria**"
      ],
      "metadata": {
        "id": "vwxNSxSvt2h-"
      }
    },
    {
      "cell_type": "code",
      "source": [
        "casas.info()"
      ],
      "metadata": {
        "colab": {
          "base_uri": "https://localhost:8080/"
        },
        "id": "wL9vZpHYut06",
        "outputId": "1469a45c-0ccb-4a7d-92fa-d4b3aa24a2c1"
      },
      "execution_count": null,
      "outputs": [
        {
          "output_type": "stream",
          "name": "stdout",
          "text": [
            "<class 'pandas.core.frame.DataFrame'>\n",
            "RangeIndex: 21613 entries, 0 to 21612\n",
            "Data columns (total 21 columns):\n",
            " #   Column         Non-Null Count  Dtype  \n",
            "---  ------         --------------  -----  \n",
            " 0   id             21613 non-null  int64  \n",
            " 1   date           21613 non-null  object \n",
            " 2   price          21613 non-null  float64\n",
            " 3   bedrooms       21613 non-null  int64  \n",
            " 4   bathrooms      21613 non-null  float64\n",
            " 5   sqft_living    21613 non-null  int64  \n",
            " 6   sqft_lot       21613 non-null  int64  \n",
            " 7   floors         21613 non-null  float64\n",
            " 8   waterfront     21613 non-null  int64  \n",
            " 9   view           21613 non-null  int64  \n",
            " 10  condition      21613 non-null  int64  \n",
            " 11  grade          21613 non-null  int64  \n",
            " 12  sqft_above     21613 non-null  int64  \n",
            " 13  sqft_basement  21613 non-null  int64  \n",
            " 14  yr_built       21613 non-null  int64  \n",
            " 15  yr_renovated   21613 non-null  int64  \n",
            " 16  zipcode        21613 non-null  int64  \n",
            " 17  lat            21613 non-null  float64\n",
            " 18  long           21613 non-null  float64\n",
            " 19  sqft_living15  21613 non-null  int64  \n",
            " 20  sqft_lot15     21613 non-null  int64  \n",
            "dtypes: float64(5), int64(15), object(1)\n",
            "memory usage: 3.5+ MB\n"
          ]
        }
      ]
    },
    {
      "cell_type": "code",
      "source": [
        "casas.describe(include='all')"
      ],
      "metadata": {
        "colab": {
          "base_uri": "https://localhost:8080/",
          "height": 488
        },
        "id": "R6MljxfEuzDz",
        "outputId": "6182dba9-e700-4e5b-eefd-8a80c38fb74e"
      },
      "execution_count": null,
      "outputs": [
        {
          "output_type": "execute_result",
          "data": {
            "text/plain": [
              "                  id             date         price      bedrooms  \\\n",
              "count   2.161300e+04            21613  2.161300e+04  21613.000000   \n",
              "unique           NaN              372           NaN           NaN   \n",
              "top              NaN  20140623T000000           NaN           NaN   \n",
              "freq             NaN              142           NaN           NaN   \n",
              "mean    4.580302e+09              NaN  5.400881e+05      3.370842   \n",
              "std     2.876566e+09              NaN  3.671272e+05      0.930062   \n",
              "min     1.000102e+06              NaN  7.500000e+04      0.000000   \n",
              "25%     2.123049e+09              NaN  3.219500e+05      3.000000   \n",
              "50%     3.904930e+09              NaN  4.500000e+05      3.000000   \n",
              "75%     7.308900e+09              NaN  6.450000e+05      4.000000   \n",
              "max     9.900000e+09              NaN  7.700000e+06     33.000000   \n",
              "\n",
              "           bathrooms   sqft_living      sqft_lot        floors    waterfront  \\\n",
              "count   21613.000000  21613.000000  2.161300e+04  21613.000000  21613.000000   \n",
              "unique           NaN           NaN           NaN           NaN           NaN   \n",
              "top              NaN           NaN           NaN           NaN           NaN   \n",
              "freq             NaN           NaN           NaN           NaN           NaN   \n",
              "mean        2.114757   2079.899736  1.510697e+04      1.494309      0.007542   \n",
              "std         0.770163    918.440897  4.142051e+04      0.539989      0.086517   \n",
              "min         0.000000    290.000000  5.200000e+02      1.000000      0.000000   \n",
              "25%         1.750000   1427.000000  5.040000e+03      1.000000      0.000000   \n",
              "50%         2.250000   1910.000000  7.618000e+03      1.500000      0.000000   \n",
              "75%         2.500000   2550.000000  1.068800e+04      2.000000      0.000000   \n",
              "max         8.000000  13540.000000  1.651359e+06      3.500000      1.000000   \n",
              "\n",
              "                view  ...         grade    sqft_above  sqft_basement  \\\n",
              "count   21613.000000  ...  21613.000000  21613.000000   21613.000000   \n",
              "unique           NaN  ...           NaN           NaN            NaN   \n",
              "top              NaN  ...           NaN           NaN            NaN   \n",
              "freq             NaN  ...           NaN           NaN            NaN   \n",
              "mean        0.234303  ...      7.656873   1788.390691     291.509045   \n",
              "std         0.766318  ...      1.175459    828.090978     442.575043   \n",
              "min         0.000000  ...      1.000000    290.000000       0.000000   \n",
              "25%         0.000000  ...      7.000000   1190.000000       0.000000   \n",
              "50%         0.000000  ...      7.000000   1560.000000       0.000000   \n",
              "75%         0.000000  ...      8.000000   2210.000000     560.000000   \n",
              "max         4.000000  ...     13.000000   9410.000000    4820.000000   \n",
              "\n",
              "            yr_built  yr_renovated       zipcode           lat          long  \\\n",
              "count   21613.000000  21613.000000  21613.000000  21613.000000  21613.000000   \n",
              "unique           NaN           NaN           NaN           NaN           NaN   \n",
              "top              NaN           NaN           NaN           NaN           NaN   \n",
              "freq             NaN           NaN           NaN           NaN           NaN   \n",
              "mean     1971.005136     84.402258  98077.939805     47.560053   -122.213896   \n",
              "std        29.373411    401.679240     53.505026      0.138564      0.140828   \n",
              "min      1900.000000      0.000000  98001.000000     47.155900   -122.519000   \n",
              "25%      1951.000000      0.000000  98033.000000     47.471000   -122.328000   \n",
              "50%      1975.000000      0.000000  98065.000000     47.571800   -122.230000   \n",
              "75%      1997.000000      0.000000  98118.000000     47.678000   -122.125000   \n",
              "max      2015.000000   2015.000000  98199.000000     47.777600   -121.315000   \n",
              "\n",
              "        sqft_living15     sqft_lot15  \n",
              "count    21613.000000   21613.000000  \n",
              "unique            NaN            NaN  \n",
              "top               NaN            NaN  \n",
              "freq              NaN            NaN  \n",
              "mean      1986.552492   12768.455652  \n",
              "std        685.391304   27304.179631  \n",
              "min        399.000000     651.000000  \n",
              "25%       1490.000000    5100.000000  \n",
              "50%       1840.000000    7620.000000  \n",
              "75%       2360.000000   10083.000000  \n",
              "max       6210.000000  871200.000000  \n",
              "\n",
              "[11 rows x 21 columns]"
            ],
            "text/html": [
              "\n",
              "  <div id=\"df-22a70f85-199f-48d6-8ead-cb063821f11c\">\n",
              "    <div class=\"colab-df-container\">\n",
              "      <div>\n",
              "<style scoped>\n",
              "    .dataframe tbody tr th:only-of-type {\n",
              "        vertical-align: middle;\n",
              "    }\n",
              "\n",
              "    .dataframe tbody tr th {\n",
              "        vertical-align: top;\n",
              "    }\n",
              "\n",
              "    .dataframe thead th {\n",
              "        text-align: right;\n",
              "    }\n",
              "</style>\n",
              "<table border=\"1\" class=\"dataframe\">\n",
              "  <thead>\n",
              "    <tr style=\"text-align: right;\">\n",
              "      <th></th>\n",
              "      <th>id</th>\n",
              "      <th>date</th>\n",
              "      <th>price</th>\n",
              "      <th>bedrooms</th>\n",
              "      <th>bathrooms</th>\n",
              "      <th>sqft_living</th>\n",
              "      <th>sqft_lot</th>\n",
              "      <th>floors</th>\n",
              "      <th>waterfront</th>\n",
              "      <th>view</th>\n",
              "      <th>...</th>\n",
              "      <th>grade</th>\n",
              "      <th>sqft_above</th>\n",
              "      <th>sqft_basement</th>\n",
              "      <th>yr_built</th>\n",
              "      <th>yr_renovated</th>\n",
              "      <th>zipcode</th>\n",
              "      <th>lat</th>\n",
              "      <th>long</th>\n",
              "      <th>sqft_living15</th>\n",
              "      <th>sqft_lot15</th>\n",
              "    </tr>\n",
              "  </thead>\n",
              "  <tbody>\n",
              "    <tr>\n",
              "      <th>count</th>\n",
              "      <td>2.161300e+04</td>\n",
              "      <td>21613</td>\n",
              "      <td>2.161300e+04</td>\n",
              "      <td>21613.000000</td>\n",
              "      <td>21613.000000</td>\n",
              "      <td>21613.000000</td>\n",
              "      <td>2.161300e+04</td>\n",
              "      <td>21613.000000</td>\n",
              "      <td>21613.000000</td>\n",
              "      <td>21613.000000</td>\n",
              "      <td>...</td>\n",
              "      <td>21613.000000</td>\n",
              "      <td>21613.000000</td>\n",
              "      <td>21613.000000</td>\n",
              "      <td>21613.000000</td>\n",
              "      <td>21613.000000</td>\n",
              "      <td>21613.000000</td>\n",
              "      <td>21613.000000</td>\n",
              "      <td>21613.000000</td>\n",
              "      <td>21613.000000</td>\n",
              "      <td>21613.000000</td>\n",
              "    </tr>\n",
              "    <tr>\n",
              "      <th>unique</th>\n",
              "      <td>NaN</td>\n",
              "      <td>372</td>\n",
              "      <td>NaN</td>\n",
              "      <td>NaN</td>\n",
              "      <td>NaN</td>\n",
              "      <td>NaN</td>\n",
              "      <td>NaN</td>\n",
              "      <td>NaN</td>\n",
              "      <td>NaN</td>\n",
              "      <td>NaN</td>\n",
              "      <td>...</td>\n",
              "      <td>NaN</td>\n",
              "      <td>NaN</td>\n",
              "      <td>NaN</td>\n",
              "      <td>NaN</td>\n",
              "      <td>NaN</td>\n",
              "      <td>NaN</td>\n",
              "      <td>NaN</td>\n",
              "      <td>NaN</td>\n",
              "      <td>NaN</td>\n",
              "      <td>NaN</td>\n",
              "    </tr>\n",
              "    <tr>\n",
              "      <th>top</th>\n",
              "      <td>NaN</td>\n",
              "      <td>20140623T000000</td>\n",
              "      <td>NaN</td>\n",
              "      <td>NaN</td>\n",
              "      <td>NaN</td>\n",
              "      <td>NaN</td>\n",
              "      <td>NaN</td>\n",
              "      <td>NaN</td>\n",
              "      <td>NaN</td>\n",
              "      <td>NaN</td>\n",
              "      <td>...</td>\n",
              "      <td>NaN</td>\n",
              "      <td>NaN</td>\n",
              "      <td>NaN</td>\n",
              "      <td>NaN</td>\n",
              "      <td>NaN</td>\n",
              "      <td>NaN</td>\n",
              "      <td>NaN</td>\n",
              "      <td>NaN</td>\n",
              "      <td>NaN</td>\n",
              "      <td>NaN</td>\n",
              "    </tr>\n",
              "    <tr>\n",
              "      <th>freq</th>\n",
              "      <td>NaN</td>\n",
              "      <td>142</td>\n",
              "      <td>NaN</td>\n",
              "      <td>NaN</td>\n",
              "      <td>NaN</td>\n",
              "      <td>NaN</td>\n",
              "      <td>NaN</td>\n",
              "      <td>NaN</td>\n",
              "      <td>NaN</td>\n",
              "      <td>NaN</td>\n",
              "      <td>...</td>\n",
              "      <td>NaN</td>\n",
              "      <td>NaN</td>\n",
              "      <td>NaN</td>\n",
              "      <td>NaN</td>\n",
              "      <td>NaN</td>\n",
              "      <td>NaN</td>\n",
              "      <td>NaN</td>\n",
              "      <td>NaN</td>\n",
              "      <td>NaN</td>\n",
              "      <td>NaN</td>\n",
              "    </tr>\n",
              "    <tr>\n",
              "      <th>mean</th>\n",
              "      <td>4.580302e+09</td>\n",
              "      <td>NaN</td>\n",
              "      <td>5.400881e+05</td>\n",
              "      <td>3.370842</td>\n",
              "      <td>2.114757</td>\n",
              "      <td>2079.899736</td>\n",
              "      <td>1.510697e+04</td>\n",
              "      <td>1.494309</td>\n",
              "      <td>0.007542</td>\n",
              "      <td>0.234303</td>\n",
              "      <td>...</td>\n",
              "      <td>7.656873</td>\n",
              "      <td>1788.390691</td>\n",
              "      <td>291.509045</td>\n",
              "      <td>1971.005136</td>\n",
              "      <td>84.402258</td>\n",
              "      <td>98077.939805</td>\n",
              "      <td>47.560053</td>\n",
              "      <td>-122.213896</td>\n",
              "      <td>1986.552492</td>\n",
              "      <td>12768.455652</td>\n",
              "    </tr>\n",
              "    <tr>\n",
              "      <th>std</th>\n",
              "      <td>2.876566e+09</td>\n",
              "      <td>NaN</td>\n",
              "      <td>3.671272e+05</td>\n",
              "      <td>0.930062</td>\n",
              "      <td>0.770163</td>\n",
              "      <td>918.440897</td>\n",
              "      <td>4.142051e+04</td>\n",
              "      <td>0.539989</td>\n",
              "      <td>0.086517</td>\n",
              "      <td>0.766318</td>\n",
              "      <td>...</td>\n",
              "      <td>1.175459</td>\n",
              "      <td>828.090978</td>\n",
              "      <td>442.575043</td>\n",
              "      <td>29.373411</td>\n",
              "      <td>401.679240</td>\n",
              "      <td>53.505026</td>\n",
              "      <td>0.138564</td>\n",
              "      <td>0.140828</td>\n",
              "      <td>685.391304</td>\n",
              "      <td>27304.179631</td>\n",
              "    </tr>\n",
              "    <tr>\n",
              "      <th>min</th>\n",
              "      <td>1.000102e+06</td>\n",
              "      <td>NaN</td>\n",
              "      <td>7.500000e+04</td>\n",
              "      <td>0.000000</td>\n",
              "      <td>0.000000</td>\n",
              "      <td>290.000000</td>\n",
              "      <td>5.200000e+02</td>\n",
              "      <td>1.000000</td>\n",
              "      <td>0.000000</td>\n",
              "      <td>0.000000</td>\n",
              "      <td>...</td>\n",
              "      <td>1.000000</td>\n",
              "      <td>290.000000</td>\n",
              "      <td>0.000000</td>\n",
              "      <td>1900.000000</td>\n",
              "      <td>0.000000</td>\n",
              "      <td>98001.000000</td>\n",
              "      <td>47.155900</td>\n",
              "      <td>-122.519000</td>\n",
              "      <td>399.000000</td>\n",
              "      <td>651.000000</td>\n",
              "    </tr>\n",
              "    <tr>\n",
              "      <th>25%</th>\n",
              "      <td>2.123049e+09</td>\n",
              "      <td>NaN</td>\n",
              "      <td>3.219500e+05</td>\n",
              "      <td>3.000000</td>\n",
              "      <td>1.750000</td>\n",
              "      <td>1427.000000</td>\n",
              "      <td>5.040000e+03</td>\n",
              "      <td>1.000000</td>\n",
              "      <td>0.000000</td>\n",
              "      <td>0.000000</td>\n",
              "      <td>...</td>\n",
              "      <td>7.000000</td>\n",
              "      <td>1190.000000</td>\n",
              "      <td>0.000000</td>\n",
              "      <td>1951.000000</td>\n",
              "      <td>0.000000</td>\n",
              "      <td>98033.000000</td>\n",
              "      <td>47.471000</td>\n",
              "      <td>-122.328000</td>\n",
              "      <td>1490.000000</td>\n",
              "      <td>5100.000000</td>\n",
              "    </tr>\n",
              "    <tr>\n",
              "      <th>50%</th>\n",
              "      <td>3.904930e+09</td>\n",
              "      <td>NaN</td>\n",
              "      <td>4.500000e+05</td>\n",
              "      <td>3.000000</td>\n",
              "      <td>2.250000</td>\n",
              "      <td>1910.000000</td>\n",
              "      <td>7.618000e+03</td>\n",
              "      <td>1.500000</td>\n",
              "      <td>0.000000</td>\n",
              "      <td>0.000000</td>\n",
              "      <td>...</td>\n",
              "      <td>7.000000</td>\n",
              "      <td>1560.000000</td>\n",
              "      <td>0.000000</td>\n",
              "      <td>1975.000000</td>\n",
              "      <td>0.000000</td>\n",
              "      <td>98065.000000</td>\n",
              "      <td>47.571800</td>\n",
              "      <td>-122.230000</td>\n",
              "      <td>1840.000000</td>\n",
              "      <td>7620.000000</td>\n",
              "    </tr>\n",
              "    <tr>\n",
              "      <th>75%</th>\n",
              "      <td>7.308900e+09</td>\n",
              "      <td>NaN</td>\n",
              "      <td>6.450000e+05</td>\n",
              "      <td>4.000000</td>\n",
              "      <td>2.500000</td>\n",
              "      <td>2550.000000</td>\n",
              "      <td>1.068800e+04</td>\n",
              "      <td>2.000000</td>\n",
              "      <td>0.000000</td>\n",
              "      <td>0.000000</td>\n",
              "      <td>...</td>\n",
              "      <td>8.000000</td>\n",
              "      <td>2210.000000</td>\n",
              "      <td>560.000000</td>\n",
              "      <td>1997.000000</td>\n",
              "      <td>0.000000</td>\n",
              "      <td>98118.000000</td>\n",
              "      <td>47.678000</td>\n",
              "      <td>-122.125000</td>\n",
              "      <td>2360.000000</td>\n",
              "      <td>10083.000000</td>\n",
              "    </tr>\n",
              "    <tr>\n",
              "      <th>max</th>\n",
              "      <td>9.900000e+09</td>\n",
              "      <td>NaN</td>\n",
              "      <td>7.700000e+06</td>\n",
              "      <td>33.000000</td>\n",
              "      <td>8.000000</td>\n",
              "      <td>13540.000000</td>\n",
              "      <td>1.651359e+06</td>\n",
              "      <td>3.500000</td>\n",
              "      <td>1.000000</td>\n",
              "      <td>4.000000</td>\n",
              "      <td>...</td>\n",
              "      <td>13.000000</td>\n",
              "      <td>9410.000000</td>\n",
              "      <td>4820.000000</td>\n",
              "      <td>2015.000000</td>\n",
              "      <td>2015.000000</td>\n",
              "      <td>98199.000000</td>\n",
              "      <td>47.777600</td>\n",
              "      <td>-121.315000</td>\n",
              "      <td>6210.000000</td>\n",
              "      <td>871200.000000</td>\n",
              "    </tr>\n",
              "  </tbody>\n",
              "</table>\n",
              "<p>11 rows × 21 columns</p>\n",
              "</div>\n",
              "      <button class=\"colab-df-convert\" onclick=\"convertToInteractive('df-22a70f85-199f-48d6-8ead-cb063821f11c')\"\n",
              "              title=\"Convert this dataframe to an interactive table.\"\n",
              "              style=\"display:none;\">\n",
              "        \n",
              "  <svg xmlns=\"http://www.w3.org/2000/svg\" height=\"24px\"viewBox=\"0 0 24 24\"\n",
              "       width=\"24px\">\n",
              "    <path d=\"M0 0h24v24H0V0z\" fill=\"none\"/>\n",
              "    <path d=\"M18.56 5.44l.94 2.06.94-2.06 2.06-.94-2.06-.94-.94-2.06-.94 2.06-2.06.94zm-11 1L8.5 8.5l.94-2.06 2.06-.94-2.06-.94L8.5 2.5l-.94 2.06-2.06.94zm10 10l.94 2.06.94-2.06 2.06-.94-2.06-.94-.94-2.06-.94 2.06-2.06.94z\"/><path d=\"M17.41 7.96l-1.37-1.37c-.4-.4-.92-.59-1.43-.59-.52 0-1.04.2-1.43.59L10.3 9.45l-7.72 7.72c-.78.78-.78 2.05 0 2.83L4 21.41c.39.39.9.59 1.41.59.51 0 1.02-.2 1.41-.59l7.78-7.78 2.81-2.81c.8-.78.8-2.07 0-2.86zM5.41 20L4 18.59l7.72-7.72 1.47 1.35L5.41 20z\"/>\n",
              "  </svg>\n",
              "      </button>\n",
              "      \n",
              "  <style>\n",
              "    .colab-df-container {\n",
              "      display:flex;\n",
              "      flex-wrap:wrap;\n",
              "      gap: 12px;\n",
              "    }\n",
              "\n",
              "    .colab-df-convert {\n",
              "      background-color: #E8F0FE;\n",
              "      border: none;\n",
              "      border-radius: 50%;\n",
              "      cursor: pointer;\n",
              "      display: none;\n",
              "      fill: #1967D2;\n",
              "      height: 32px;\n",
              "      padding: 0 0 0 0;\n",
              "      width: 32px;\n",
              "    }\n",
              "\n",
              "    .colab-df-convert:hover {\n",
              "      background-color: #E2EBFA;\n",
              "      box-shadow: 0px 1px 2px rgba(60, 64, 67, 0.3), 0px 1px 3px 1px rgba(60, 64, 67, 0.15);\n",
              "      fill: #174EA6;\n",
              "    }\n",
              "\n",
              "    [theme=dark] .colab-df-convert {\n",
              "      background-color: #3B4455;\n",
              "      fill: #D2E3FC;\n",
              "    }\n",
              "\n",
              "    [theme=dark] .colab-df-convert:hover {\n",
              "      background-color: #434B5C;\n",
              "      box-shadow: 0px 1px 3px 1px rgba(0, 0, 0, 0.15);\n",
              "      filter: drop-shadow(0px 1px 2px rgba(0, 0, 0, 0.3));\n",
              "      fill: #FFFFFF;\n",
              "    }\n",
              "  </style>\n",
              "\n",
              "      <script>\n",
              "        const buttonEl =\n",
              "          document.querySelector('#df-22a70f85-199f-48d6-8ead-cb063821f11c button.colab-df-convert');\n",
              "        buttonEl.style.display =\n",
              "          google.colab.kernel.accessAllowed ? 'block' : 'none';\n",
              "\n",
              "        async function convertToInteractive(key) {\n",
              "          const element = document.querySelector('#df-22a70f85-199f-48d6-8ead-cb063821f11c');\n",
              "          const dataTable =\n",
              "            await google.colab.kernel.invokeFunction('convertToInteractive',\n",
              "                                                     [key], {});\n",
              "          if (!dataTable) return;\n",
              "\n",
              "          const docLinkHtml = 'Like what you see? Visit the ' +\n",
              "            '<a target=\"_blank\" href=https://colab.research.google.com/notebooks/data_table.ipynb>data table notebook</a>'\n",
              "            + ' to learn more about interactive tables.';\n",
              "          element.innerHTML = '';\n",
              "          dataTable['output_type'] = 'display_data';\n",
              "          await google.colab.output.renderOutput(dataTable, element);\n",
              "          const docLink = document.createElement('div');\n",
              "          docLink.innerHTML = docLinkHtml;\n",
              "          element.appendChild(docLink);\n",
              "        }\n",
              "      </script>\n",
              "    </div>\n",
              "  </div>\n",
              "  "
            ]
          },
          "metadata": {},
          "execution_count": 90
        }
      ]
    },
    {
      "cell_type": "markdown",
      "source": [
        "- Primeiramente vemos que a base de dados contém 21613 registros e 21 colunas.\n",
        "- Segundo a estatísticas descritivas, todos os valores das colunas aparentam estar devidamente preenchidos, sem valores nulos. No entanto, existem alguns registros de casas apontam que elas não tem banheiro. Irei remover essas linhas posteriormente para evitar possíveis equívocos na análise.\n",
        "- Vemos que o número médio de quartos é 3 e o de banheiros é 2. Além disso, a média da área da sala de estar é de 2000 pés. Isso mostra um pouco do padrão cultural dos norte americanos.\n",
        "- O preço médio das casas na região metropolitana de Seattle fica em torno de 500 mil dólares  \n"
      ],
      "metadata": {
        "id": "iMFx2pP0GAHY"
      }
    },
    {
      "cell_type": "code",
      "source": [
        "casas.drop(casas[casas['bathrooms'] == 0].index,inplace = True)"
      ],
      "metadata": {
        "id": "_OuIjxCsz_E9"
      },
      "execution_count": null,
      "outputs": []
    },
    {
      "cell_type": "code",
      "source": [
        "casas.groupby('floors')['price'].mean().plot.bar()"
      ],
      "metadata": {
        "colab": {
          "base_uri": "https://localhost:8080/",
          "height": 313
        },
        "id": "4VWRLoMtu-sA",
        "outputId": "07137b48-8fc1-46d8-a8c3-c8ccb53bd877"
      },
      "execution_count": null,
      "outputs": [
        {
          "output_type": "execute_result",
          "data": {
            "text/plain": [
              "<matplotlib.axes._subplots.AxesSubplot at 0x7f33ba968050>"
            ]
          },
          "metadata": {},
          "execution_count": 92
        },
        {
          "output_type": "display_data",
          "data": {
            "text/plain": [
              "<Figure size 432x288 with 1 Axes>"
            ],
            "image/png": "[encoded data removed]"
          },
          "metadata": {
            "needs_background": "light"
          }
        }
      ]
    },
    {
      "cell_type": "markdown",
      "source": [
        "O gráfico de barras revela algo bem intuitivo. O preço médio das casas tende a aumentar conforme o número de pisos aumenta. Contudo, ele curiosamente diminuiu após o valor 2.5. Uma possível explicação para isso pode ser a influência de outros fatores no preço, como localização do imóvel por exemplo."
      ],
      "metadata": {
        "id": "zjdgU9OiH5iX"
      }
    },
    {
      "cell_type": "code",
      "source": [
        "casas.groupby('bedrooms')['price'].mean().plot.bar()"
      ],
      "metadata": {
        "colab": {
          "base_uri": "https://localhost:8080/",
          "height": 310
        },
        "id": "dtYNbIU3wJvZ",
        "outputId": "ac40e127-ecb7-4061-f970-3ca0c10e3930"
      },
      "execution_count": null,
      "outputs": [
        {
          "output_type": "execute_result",
          "data": {
            "text/plain": [
              "<matplotlib.axes._subplots.AxesSubplot at 0x7f33ba993950>"
            ]
          },
          "metadata": {},
          "execution_count": 93
        },
        {
          "output_type": "display_data",
          "data": {
            "text/plain": [
              "<Figure size 432x288 with 1 Axes>"
            ],
            "image/png": "[encoded data removed]"
          },
          "metadata": {
            "needs_background": "light"
          }
        }
      ]
    },
    {
      "cell_type": "markdown",
      "source": [
        "Vemos um fenômeno parecido em relação ao número de quartos. Aqui o preço médio também aumenta conforme o número de quartos, mas a partir de 8 quartos ele diminui. Como dito anteriormente, isso pode estar relacionado ao valor do terreno em uma certa região, mas não há evidências disso."
      ],
      "metadata": {
        "id": "GDmaEFTsIUsC"
      }
    },
    {
      "cell_type": "code",
      "source": [
        "labels = ['Menos que dois','2 a 3','4 a 6','Mais que 6']\n",
        "bins = [0,2,3,6,100]\n",
        "casas['cat_banheiros'] = pd.cut(casas['bathrooms'], bins = bins, labels = labels)\n",
        "casas.groupby('cat_banheiros')['price'].mean().plot.bar()"
      ],
      "metadata": {
        "colab": {
          "base_uri": "https://localhost:8080/",
          "height": 376
        },
        "id": "6eGZWe_4xIM4",
        "outputId": "133f30f3-a1cc-440c-ed9d-35f3d29f13d4"
      },
      "execution_count": null,
      "outputs": [
        {
          "output_type": "execute_result",
          "data": {
            "text/plain": [
              "<matplotlib.axes._subplots.AxesSubplot at 0x7f33b668c2d0>"
            ]
          },
          "metadata": {},
          "execution_count": 94
        },
        {
          "output_type": "display_data",
          "data": {
            "text/plain": [
              "<Figure size 432x288 with 1 Axes>"
            ],
            "image/png": "[encoded data removed]"
          },
          "metadata": {
            "needs_background": "light"
          }
        }
      ]
    },
    {
      "cell_type": "markdown",
      "source": [
        "Comparando agora o preço médio pelo número de banheiros, é possível observar que nesse caso que há uma proporção direta entre esses dois fatores. Banheiros geralmente aumentam o valor da construção pois é necessária uma infraestrutura extra de saneamento básico para atender, então essa elevação do custo faz sentido."
      ],
      "metadata": {
        "id": "5uFVXLNZIquU"
      }
    },
    {
      "cell_type": "code",
      "source": [
        "sns.boxplot(x='view', y='price',data=casas)"
      ],
      "metadata": {
        "colab": {
          "base_uri": "https://localhost:8080/",
          "height": 307
        },
        "id": "3glNEQTU4Og9",
        "outputId": "1f6dec3d-0cfe-4a3a-b04c-ec9e3275ae08"
      },
      "execution_count": null,
      "outputs": [
        {
          "output_type": "execute_result",
          "data": {
            "text/plain": [
              "<matplotlib.axes._subplots.AxesSubplot at 0x7f33b663a590>"
            ]
          },
          "metadata": {},
          "execution_count": 96
        },
        {
          "output_type": "display_data",
          "data": {
            "text/plain": [
              "<Figure size 432x288 with 1 Axes>"
            ],
            "image/png": "[encoded data removed]"
          },
          "metadata": {
            "needs_background": "light"
          }
        }
      ]
    },
    {
      "cell_type": "markdown",
      "source": [
        "Em relação à avaliação da vista, vemos nitidamente no gráfico boxplot que os valores de compra tendem a ser maiores conforme a avaliação for melhor. Ainda é possível ver a presença de muitos outliers, que podem ser as residências com a presença de outros fatores relevantes, como número de banheiros por exemplo."
      ],
      "metadata": {
        "id": "A5zhiEieJu6t"
      }
    },
    {
      "cell_type": "code",
      "source": [
        "sns.boxplot(x='waterfront', y='price',data=casas)"
      ],
      "metadata": {
        "colab": {
          "base_uri": "https://localhost:8080/",
          "height": 307
        },
        "id": "pvPqEkPW4bq4",
        "outputId": "c89ee5ad-334c-4bc8-ba4c-67bc52ef5a6f"
      },
      "execution_count": null,
      "outputs": [
        {
          "output_type": "execute_result",
          "data": {
            "text/plain": [
              "<matplotlib.axes._subplots.AxesSubplot at 0x7f33b6635910>"
            ]
          },
          "metadata": {},
          "execution_count": 97
        },
        {
          "output_type": "display_data",
          "data": {
            "text/plain": [
              "<Figure size 432x288 with 1 Axes>"
            ],
            "image/png": "[encoded data removed]"
          },
          "metadata": {
            "needs_background": "light"
          }
        }
      ]
    },
    {
      "cell_type": "markdown",
      "source": [
        "Uma vista para um corpo d'água é algo muito valorizado pelas pessoas. Muitos estudos apontam que morar em um lugar com vista para um rio ou para o mar tende a deixar as pessoas mais tranquilas, além de \"garantir\" um certo status social. Desse modo, vemos que casas com vista para um rio/mar/lago possuem um valor médio nitidamente maior em comparação a aquelas que não possuem. Apesar da grande quantidade dos outliers, que indicam outros fatores a serem levados em consideração."
      ],
      "metadata": {
        "id": "qfXX9n4NKMJn"
      }
    },
    {
      "cell_type": "code",
      "source": [
        "casas['yr_built'].plot.hist()"
      ],
      "metadata": {
        "colab": {
          "base_uri": "https://localhost:8080/",
          "height": 282
        },
        "id": "_uukv_vG4qgO",
        "outputId": "23e556c7-b8e1-4fef-8e38-5781653baf38"
      },
      "execution_count": null,
      "outputs": [
        {
          "output_type": "execute_result",
          "data": {
            "text/plain": [
              "<matplotlib.axes._subplots.AxesSubplot at 0x7f33c3cd4750>"
            ]
          },
          "metadata": {},
          "execution_count": 53
        },
        {
          "output_type": "display_data",
          "data": {
            "text/plain": [
              "<Figure size 432x288 with 1 Axes>"
            ],
            "image/png": "[encoded data removed]"
          },
          "metadata": {
            "needs_background": "light"
          }
        }
      ]
    },
    {
      "cell_type": "markdown",
      "source": [
        "O histograma mostra que a maioria das casas naquela região foi construída a partir da década de 50. Justamente na época de expansão econômica dos EUA durante o pós guerra. A partir de 2010 também vemos um grande número de novas casas sendo construídas na região."
      ],
      "metadata": {
        "id": "VtuQF2WALeSC"
      }
    },
    {
      "cell_type": "code",
      "source": [
        "sns.heatmap(casas.corr())"
      ],
      "metadata": {
        "colab": {
          "base_uri": "https://localhost:8080/",
          "height": 350
        },
        "id": "yLAvUiWywHUu",
        "outputId": "ebb50319-2f1e-461f-cb2f-6f2a772afdbb"
      },
      "execution_count": null,
      "outputs": [
        {
          "output_type": "execute_result",
          "data": {
            "text/plain": [
              "<matplotlib.axes._subplots.AxesSubplot at 0x7f33cd3bc7d0>"
            ]
          },
          "metadata": {},
          "execution_count": 48
        },
        {
          "output_type": "display_data",
          "data": {
            "text/plain": [
              "<Figure size 432x288 with 2 Axes>"
            ],
            "image/png": "[encoded data removed]"
          },
          "metadata": {
            "needs_background": "light"
          }
        }
      ]
    },
    {
      "cell_type": "markdown",
      "source": [
        "Analisando a matriz de correlação, é perceptível que as maiores correlações com o preço do imóvel  acontecem na área da sala de estar, número de banheiros, avaliação das condições, área dos pisos superiores e área média dos 15 vizinhos mais próximos. Podemos concluir que todas essas variáveis são diretamente proporcionais ao preço do imóvel. Não foram encontradas que influenciem inversamente nesse caso."
      ],
      "metadata": {
        "id": "eAsFpHQjM1pc"
      }
    },
    {
      "cell_type": "markdown",
      "source": [
        "## **Modelo**"
      ],
      "metadata": {
        "id": "qqEZKbxduHRI"
      }
    },
    {
      "cell_type": "code",
      "source": [
        "sns.lmplot('sqft_living','price',data=casas)"
      ],
      "metadata": {
        "colab": {
          "base_uri": "https://localhost:8080/",
          "height": 441
        },
        "id": "kePzdVsM7KzP",
        "outputId": "eff9f6a1-bcfd-448f-fd25-7216cae08de4"
      },
      "execution_count": null,
      "outputs": [
        {
          "output_type": "stream",
          "name": "stderr",
          "text": [
            "/usr/local/lib/python3.7/dist-packages/seaborn/_decorators.py:43: FutureWarning: Pass the following variables as keyword args: x, y. From version 0.12, the only valid positional argument will be `data`, and passing other arguments without an explicit keyword will result in an error or misinterpretation.\n",
            "  FutureWarning\n"
          ]
        },
        {
          "output_type": "execute_result",
          "data": {
            "text/plain": [
              "<seaborn.axisgrid.FacetGrid at 0x7f33c455e610>"
            ]
          },
          "metadata": {},
          "execution_count": 58
        },
        {
          "output_type": "display_data",
          "data": {
            "text/plain": [
              "<Figure size 360x360 with 1 Axes>"
            ],
            "image/png": "[encoded data removed]"
          },
          "metadata": {
            "needs_background": "light"
          }
        }
      ]
    },
    {
      "cell_type": "markdown",
      "source": [
        "Como dito anteriormente e agora realizando o gráfico de regressão linear, vemos mais uma vez que existe uma relação de proporção direta entre os valores da área da sala de estar e o preço da casa."
      ],
      "metadata": {
        "id": "Bk67Oi7YPqKc"
      }
    },
    {
      "cell_type": "code",
      "source": [
        "casas = casas.dropna()\n",
        "treino, teste = train_test_split(casas, train_size=0.65)"
      ],
      "metadata": {
        "id": "HsWNWX6J8Rru"
      },
      "execution_count": null,
      "outputs": []
    },
    {
      "cell_type": "markdown",
      "source": [
        "Aqui foi feita a separação (treino 65%) e teste(35%)"
      ],
      "metadata": {
        "id": "GuTioaP1Q8ja"
      }
    },
    {
      "cell_type": "code",
      "source": [
        "features_rl = ['bedrooms', 'bathrooms', 'sqft_living', 'sqft_lot', 'floors', 'waterfront', 'view', 'condition', 'grade', 'sqft_above', 'sqft_basement','yr_built', 'yr_renovated','sqft_living15', 'sqft_lot15']\n",
        "from sklearn.linear_model import LinearRegression\n",
        "rl = LinearRegression()\n",
        "rl.fit(treino[features_rl] ,treino['price'])\n",
        "print(rl.coef_,rl.intercept_)"
      ],
      "metadata": {
        "colab": {
          "base_uri": "https://localhost:8080/"
        },
        "id": "9sl1JOoo8eQR",
        "outputId": "eb716955-246d-4f6c-c3d1-40cb78dcf284"
      },
      "execution_count": null,
      "outputs": [
        {
          "output_type": "stream",
          "name": "stdout",
          "text": [
            "[-3.47029546e+04  4.38363469e+04  1.03771373e+02 -2.08585525e-02\n",
            "  2.90514599e+04  6.35740111e+05  4.27722038e+04  1.82717203e+04\n",
            "  1.20128041e+05  4.68959181e+01  5.68754543e+01 -3.58769472e+03\n",
            "  8.10276356e+00  2.92568749e+01 -4.51126822e-01] 6226401.477769676\n"
          ]
        }
      ]
    },
    {
      "cell_type": "markdown",
      "source": [
        "Aqui foi criado o modelo de regressão linear em que foi realizado o fit com as features e após isso foram obtidos os coeficientes de regressão de cada feature usada. Os coeficientes de regressão linear podem ser utilizados para prever novos valores, já que se criarmos uma função que calcula a soma das multiplicações dos coeficientes pelos valores presentes em um registro. O resultado é o preço estimado daquela casa somado com 6186110."
      ],
      "metadata": {
        "id": "KOv_AcbZRUa9"
      }
    },
    {
      "cell_type": "code",
      "source": [
        "rl.score(treino[features_rl],treino['price'])"
      ],
      "metadata": {
        "colab": {
          "base_uri": "https://localhost:8080/"
        },
        "id": "ScFOgVbU86QB",
        "outputId": "f5738175-e37b-4166-8044-530fd22d8a7a"
      },
      "execution_count": null,
      "outputs": [
        {
          "output_type": "execute_result",
          "data": {
            "text/plain": [
              "0.6601779526459778"
            ]
          },
          "metadata": {},
          "execution_count": 130
        }
      ]
    },
    {
      "cell_type": "markdown",
      "source": [
        "Um score de treino equivalente a 65% não é o cenário ideal para o modelo, visto que ele ainda tem uma margem de erro grande. No entanto, precisamos levar em conta que o preço das residências também varia muito de acordo com a valorização do terreno, que não é algo presente no dataset. Sendo assim, podemos considerar um desempenho aceitável."
      ],
      "metadata": {
        "id": "4hnVYeeTSt3w"
      }
    },
    {
      "cell_type": "code",
      "source": [
        "prevs_precos = rl.predict(teste[features_rl])\n",
        "metrics.r2_score(teste['price'],prevs_precos)"
      ],
      "metadata": {
        "colab": {
          "base_uri": "https://localhost:8080/"
        },
        "id": "KpLkKvl19TvE",
        "outputId": "19d0292f-010d-440d-eed7-c06b68e27f6e"
      },
      "execution_count": null,
      "outputs": [
        {
          "output_type": "execute_result",
          "data": {
            "text/plain": [
              "0.6425590231680992"
            ]
          },
          "metadata": {},
          "execution_count": 131
        }
      ]
    },
    {
      "cell_type": "markdown",
      "source": [
        "Comparando agora em teste, vemos que a acuracia se manteve em 65%. Isso indica que pelo menos não houve um overfit e o modelo seguiu os critérios estabelecidos em treino."
      ],
      "metadata": {
        "id": "WoQxwW8QTJx-"
      }
    },
    {
      "cell_type": "code",
      "source": [
        "def predict_price(features):\n",
        "  count = 0\n",
        "  sumprice = 6226401\n",
        "  for feature in features:\n",
        "    sumprice += feature * rl.coef_[count]\n",
        "    count += 1\n",
        "  return sumprice"
      ],
      "metadata": {
        "id": "tcQCZkcM9zYr"
      },
      "execution_count": null,
      "outputs": []
    },
    {
      "cell_type": "markdown",
      "source": [
        "Essa função retorna o preço estimado de um novo registro de casa, considerando uma série de features e os coeficientes obtidos. Desse modo, vamos calcular o preço estimado de uma casa de um novo registro:"
      ],
      "metadata": {
        "id": "XH2Er9LBTuet"
      }
    },
    {
      "cell_type": "code",
      "source": [
        "regs = [4,2.25,2570,7242,2,0,1,2,2170,400,1951,1991,1690,7639]\n",
        "print(predict_price(regs))"
      ],
      "metadata": {
        "colab": {
          "base_uri": "https://localhost:8080/"
        },
        "id": "ON60eAzRURMr",
        "outputId": "0e875712-b85c-4b26-efb5-56a5d73525fc"
      },
      "execution_count": null,
      "outputs": [
        {
          "output_type": "stream",
          "name": "stdout",
          "text": [
            "250141042.1909827\n"
          ]
        }
      ]
    },
    {
      "cell_type": "code",
      "source": [
        "ax = sns.scatterplot(prevs_precos,teste['price'])\n",
        "ax.set(xlabel='Preço previsto', ylabel='Preço real')"
      ],
      "metadata": {
        "colab": {
          "base_uri": "https://localhost:8080/",
          "height": 362
        },
        "id": "bdZtdY9T_PY4",
        "outputId": "357263de-52a9-44c2-c84d-08f0d9db0bcb"
      },
      "execution_count": null,
      "outputs": [
        {
          "output_type": "stream",
          "name": "stderr",
          "text": [
            "/usr/local/lib/python3.7/dist-packages/seaborn/_decorators.py:43: FutureWarning: Pass the following variables as keyword args: x, y. From version 0.12, the only valid positional argument will be `data`, and passing other arguments without an explicit keyword will result in an error or misinterpretation.\n",
            "  FutureWarning\n"
          ]
        },
        {
          "output_type": "execute_result",
          "data": {
            "text/plain": [
              "[Text(0, 0.5, 'Preço real'), Text(0.5, 0, 'Preço previsto')]"
            ]
          },
          "metadata": {},
          "execution_count": 101
        },
        {
          "output_type": "display_data",
          "data": {
            "text/plain": [
              "<Figure size 432x288 with 1 Axes>"
            ],
            "image/png": "[encoded data removed]"
          },
          "metadata": {
            "needs_background": "light"
          }
        }
      ]
    },
    {
      "cell_type": "markdown",
      "source": [
        "Comparando as previsões feitas pelo modelo com os preços reais, vemos que para valores mais baixos, o modelo tem uma boa eficiência na sua projeção. Porém, quanto maior o preço, mais dificuldades o modelo encontra para fazer essa avaliação, dado que a disperção aumenta. Contudo, se tratando do nosso contexto, podemos concluir que o modelo apresentou um resultado aceitável."
      ],
      "metadata": {
        "id": "BgH-cxrfWJIT"
      }
    },
    {
      "cell_type": "markdown",
      "source": [
        "# Classificação\n",
        "\n",
        "## Tema - Satisfação dos passageiros\n",
        "\n",
        "Muitas companhias aéreas coletam dados a respeito da satisfação dos seus clientes durante um vôo. É muito importante que elas mantenham um bom nível de aprovação, dado que é necessário eter o maior número de clientes possível por meio de um serviço de excelência. Existe, no entanto, um grande desafio na hora de descobrir os principais fatores que levam a satisfação/insatisfação de um passageiro. Geralmente são questões pessoais de cada um. No entanto, ao olhar dados de diversos passageiros pode ser possível verificar os principais pontos que são levado emconta nessa avaliação. Desse modo o dataset que usarei para esta fase possui registros referentes aos vôos de passageiros e algumas características como avaliações gerais.  Sendo assim, o objetivo da fase atual será criar um modelo de árvore de decisão que consiga classificar quando um passageiro se sentirá satisfeito ou não com o serviço. Esse modelo pode ajudar a companhia aérea na questão de prioridades durante todo o serviço.\n",
        "\n",
        "## **Colunas**\n",
        "\n",
        "- Gender: Gênero do passageiro (0 = mulher, 1 = homem)\n",
        "\n",
        "- customer_type: Categoria do passageiro (Leal,desleal)\n",
        "\n",
        "- age: idade do passageiro\n",
        "\n",
        "- type_of_travel\n",
        "  - Trabalho\n",
        "  - Pessoal\n",
        "\n",
        "- customer_class: class que o passageiro obteve no vôo\n",
        "  - Econômica\n",
        "  - Econômica plus\n",
        "  - executiva\n",
        "\n",
        "- flight_distance: distância do vôo (em km)\n",
        "\n",
        "- inflight_wifi_service: avaliação de 1 a 5 referente ao serviço de wi-fi durante o vôo\n",
        "\n",
        "- departure_arrival_time_convenient: avaliação de 1 a 5 referente à conveniência do tempo de partida\n",
        "\n",
        "- ease_of_online_booking: avaliação de 1 a 5 referente ao serviço de livros online durante o vôo\n",
        "\n",
        "- gate_location: avaliação de 1 a 5 referente a localização do terminal\n",
        "\n",
        "- food_and_drink: avaliação de 1 a 5 referente ao serviço de comida durante o vôo\n",
        "\n",
        "- online_boarding: avaliação de 1 a 5 referente ao serviço de compra das passagens online\n",
        "\n",
        "- seat_comfort: avaliação de 1 a 5 referente ao conforto do assento durante o vôo\n",
        "\n",
        "- inflight_entertainment: avaliação de 1 a 5 referente ao serviço de entretenimento durante o vôo\n",
        "\n",
        "- onboard_service: avaliação de 1 a 5 referente ao serviço de bordo durante o vôo\n",
        "\n",
        "- leg_room_service: avaliação de 1 a 5 referente ao espaço livre para as pernas nos assentos\n",
        "\n",
        "- baggage_handling: avaliação de 1 a 5 referente ao tratamento das bagagens\n",
        "\n",
        "- checkin_service: avaliação de 1 a 5 referente ao serviço de check-in\n",
        "\n",
        "- inflight_service: avaliação de 1 a 5 referente ao serviço geral dos funcionários durante o vôo\n",
        "\n",
        "- cleanliness: avaliação de 1 a 5 referente ao serviço de limpeza durante o vôo\n",
        "\n",
        "- departure_delay_in_minutes: atraso da partida em minutos\n",
        "\n",
        "- arrival_delay_in_minutes: atraso da chegada em minutos\n",
        "\n",
        "- satisfaction:\n",
        "  - Satisfeito\n",
        "  - Neutro/Insatisfeito"
      ],
      "metadata": {
        "id": "vdm5TvAlmdwm"
      }
    },
    {
      "cell_type": "code",
      "source": [
        "passageiros = pd.read_csv('/content/drive/MyDrive/airline_passenger_satisfaction.csv')\n",
        "passageiros.head(4)"
      ],
      "metadata": {
        "colab": {
          "base_uri": "https://localhost:8080/",
          "height": 338
        },
        "id": "9-CEHWrCxQip",
        "outputId": "faf21c2f-3697-4674-842c-7ac20f117db4"
      },
      "execution_count": null,
      "outputs": [
        {
          "output_type": "execute_result",
          "data": {
            "text/plain": [
              "   Unnamed: 0  Gender      customer_type  age   type_of_travel customer_class  \\\n",
              "0           0    Male     Loyal Customer   13  Personal Travel       Eco Plus   \n",
              "1           1    Male  disloyal Customer   25  Business travel       Business   \n",
              "2           2  Female     Loyal Customer   26  Business travel       Business   \n",
              "3           3  Female     Loyal Customer   25  Business travel       Business   \n",
              "\n",
              "   flight_distance  inflight_wifi_service  departure_arrival_time_convenient  \\\n",
              "0              460                      3                                  4   \n",
              "1              235                      3                                  2   \n",
              "2             1142                      2                                  2   \n",
              "3              562                      2                                  5   \n",
              "\n",
              "   ease_of_online_booking  ...  inflight_entertainment  onboard_service  \\\n",
              "0                       3  ...                       5                4   \n",
              "1                       3  ...                       1                1   \n",
              "2                       2  ...                       5                4   \n",
              "3                       5  ...                       2                2   \n",
              "\n",
              "   leg_room_service  baggage_handling  checkin_service  inflight_service  \\\n",
              "0                 3                 4                4                 5   \n",
              "1                 5                 3                1                 4   \n",
              "2                 3                 4                4                 4   \n",
              "3                 5                 3                1                 4   \n",
              "\n",
              "   cleanliness  departure_delay_in_minutes  arrival_delay_in_minutes  \\\n",
              "0            5                          25                      18.0   \n",
              "1            1                           1                       6.0   \n",
              "2            5                           0                       0.0   \n",
              "3            2                          11                       9.0   \n",
              "\n",
              "              satisfaction  \n",
              "0  neutral or dissatisfied  \n",
              "1  neutral or dissatisfied  \n",
              "2                satisfied  \n",
              "3  neutral or dissatisfied  \n",
              "\n",
              "[4 rows x 24 columns]"
            ],
            "text/html": [
              "\n",
              "  <div id=\"df-5f3f65ab-6a3f-4c54-a51d-01fc918d67b4\">\n",
              "    <div class=\"colab-df-container\">\n",
              "      <div>\n",
              "<style scoped>\n",
              "    .dataframe tbody tr th:only-of-type {\n",
              "        vertical-align: middle;\n",
              "    }\n",
              "\n",
              "    .dataframe tbody tr th {\n",
              "        vertical-align: top;\n",
              "    }\n",
              "\n",
              "    .dataframe thead th {\n",
              "        text-align: right;\n",
              "    }\n",
              "</style>\n",
              "<table border=\"1\" class=\"dataframe\">\n",
              "  <thead>\n",
              "    <tr style=\"text-align: right;\">\n",
              "      <th></th>\n",
              "      <th>Unnamed: 0</th>\n",
              "      <th>Gender</th>\n",
              "      <th>customer_type</th>\n",
              "      <th>age</th>\n",
              "      <th>type_of_travel</th>\n",
              "      <th>customer_class</th>\n",
              "      <th>flight_distance</th>\n",
              "      <th>inflight_wifi_service</th>\n",
              "      <th>departure_arrival_time_convenient</th>\n",
              "      <th>ease_of_online_booking</th>\n",
              "      <th>...</th>\n",
              "      <th>inflight_entertainment</th>\n",
              "      <th>onboard_service</th>\n",
              "      <th>leg_room_service</th>\n",
              "      <th>baggage_handling</th>\n",
              "      <th>checkin_service</th>\n",
              "      <th>inflight_service</th>\n",
              "      <th>cleanliness</th>\n",
              "      <th>departure_delay_in_minutes</th>\n",
              "      <th>arrival_delay_in_minutes</th>\n",
              "      <th>satisfaction</th>\n",
              "    </tr>\n",
              "  </thead>\n",
              "  <tbody>\n",
              "    <tr>\n",
              "      <th>0</th>\n",
              "      <td>0</td>\n",
              "      <td>Male</td>\n",
              "      <td>Loyal Customer</td>\n",
              "      <td>13</td>\n",
              "      <td>Personal Travel</td>\n",
              "      <td>Eco Plus</td>\n",
              "      <td>460</td>\n",
              "      <td>3</td>\n",
              "      <td>4</td>\n",
              "      <td>3</td>\n",
              "      <td>...</td>\n",
              "      <td>5</td>\n",
              "      <td>4</td>\n",
              "      <td>3</td>\n",
              "      <td>4</td>\n",
              "      <td>4</td>\n",
              "      <td>5</td>\n",
              "      <td>5</td>\n",
              "      <td>25</td>\n",
              "      <td>18.0</td>\n",
              "      <td>neutral or dissatisfied</td>\n",
              "    </tr>\n",
              "    <tr>\n",
              "      <th>1</th>\n",
              "      <td>1</td>\n",
              "      <td>Male</td>\n",
              "      <td>disloyal Customer</td>\n",
              "      <td>25</td>\n",
              "      <td>Business travel</td>\n",
              "      <td>Business</td>\n",
              "      <td>235</td>\n",
              "      <td>3</td>\n",
              "      <td>2</td>\n",
              "      <td>3</td>\n",
              "      <td>...</td>\n",
              "      <td>1</td>\n",
              "      <td>1</td>\n",
              "      <td>5</td>\n",
              "      <td>3</td>\n",
              "      <td>1</td>\n",
              "      <td>4</td>\n",
              "      <td>1</td>\n",
              "      <td>1</td>\n",
              "      <td>6.0</td>\n",
              "      <td>neutral or dissatisfied</td>\n",
              "    </tr>\n",
              "    <tr>\n",
              "      <th>2</th>\n",
              "      <td>2</td>\n",
              "      <td>Female</td>\n",
              "      <td>Loyal Customer</td>\n",
              "      <td>26</td>\n",
              "      <td>Business travel</td>\n",
              "      <td>Business</td>\n",
              "      <td>1142</td>\n",
              "      <td>2</td>\n",
              "      <td>2</td>\n",
              "      <td>2</td>\n",
              "      <td>...</td>\n",
              "      <td>5</td>\n",
              "      <td>4</td>\n",
              "      <td>3</td>\n",
              "      <td>4</td>\n",
              "      <td>4</td>\n",
              "      <td>4</td>\n",
              "      <td>5</td>\n",
              "      <td>0</td>\n",
              "      <td>0.0</td>\n",
              "      <td>satisfied</td>\n",
              "    </tr>\n",
              "    <tr>\n",
              "      <th>3</th>\n",
              "      <td>3</td>\n",
              "      <td>Female</td>\n",
              "      <td>Loyal Customer</td>\n",
              "      <td>25</td>\n",
              "      <td>Business travel</td>\n",
              "      <td>Business</td>\n",
              "      <td>562</td>\n",
              "      <td>2</td>\n",
              "      <td>5</td>\n",
              "      <td>5</td>\n",
              "      <td>...</td>\n",
              "      <td>2</td>\n",
              "      <td>2</td>\n",
              "      <td>5</td>\n",
              "      <td>3</td>\n",
              "      <td>1</td>\n",
              "      <td>4</td>\n",
              "      <td>2</td>\n",
              "      <td>11</td>\n",
              "      <td>9.0</td>\n",
              "      <td>neutral or dissatisfied</td>\n",
              "    </tr>\n",
              "  </tbody>\n",
              "</table>\n",
              "<p>4 rows × 24 columns</p>\n",
              "</div>\n",
              "      <button class=\"colab-df-convert\" onclick=\"convertToInteractive('df-5f3f65ab-6a3f-4c54-a51d-01fc918d67b4')\"\n",
              "              title=\"Convert this dataframe to an interactive table.\"\n",
              "              style=\"display:none;\">\n",
              "        \n",
              "  <svg xmlns=\"http://www.w3.org/2000/svg\" height=\"24px\"viewBox=\"0 0 24 24\"\n",
              "       width=\"24px\">\n",
              "    <path d=\"M0 0h24v24H0V0z\" fill=\"none\"/>\n",
              "    <path d=\"M18.56 5.44l.94 2.06.94-2.06 2.06-.94-2.06-.94-.94-2.06-.94 2.06-2.06.94zm-11 1L8.5 8.5l.94-2.06 2.06-.94-2.06-.94L8.5 2.5l-.94 2.06-2.06.94zm10 10l.94 2.06.94-2.06 2.06-.94-2.06-.94-.94-2.06-.94 2.06-2.06.94z\"/><path d=\"M17.41 7.96l-1.37-1.37c-.4-.4-.92-.59-1.43-.59-.52 0-1.04.2-1.43.59L10.3 9.45l-7.72 7.72c-.78.78-.78 2.05 0 2.83L4 21.41c.39.39.9.59 1.41.59.51 0 1.02-.2 1.41-.59l7.78-7.78 2.81-2.81c.8-.78.8-2.07 0-2.86zM5.41 20L4 18.59l7.72-7.72 1.47 1.35L5.41 20z\"/>\n",
              "  </svg>\n",
              "      </button>\n",
              "      \n",
              "  <style>\n",
              "    .colab-df-container {\n",
              "      display:flex;\n",
              "      flex-wrap:wrap;\n",
              "      gap: 12px;\n",
              "    }\n",
              "\n",
              "    .colab-df-convert {\n",
              "      background-color: #E8F0FE;\n",
              "      border: none;\n",
              "      border-radius: 50%;\n",
              "      cursor: pointer;\n",
              "      display: none;\n",
              "      fill: #1967D2;\n",
              "      height: 32px;\n",
              "      padding: 0 0 0 0;\n",
              "      width: 32px;\n",
              "    }\n",
              "\n",
              "    .colab-df-convert:hover {\n",
              "      background-color: #E2EBFA;\n",
              "      box-shadow: 0px 1px 2px rgba(60, 64, 67, 0.3), 0px 1px 3px 1px rgba(60, 64, 67, 0.15);\n",
              "      fill: #174EA6;\n",
              "    }\n",
              "\n",
              "    [theme=dark] .colab-df-convert {\n",
              "      background-color: #3B4455;\n",
              "      fill: #D2E3FC;\n",
              "    }\n",
              "\n",
              "    [theme=dark] .colab-df-convert:hover {\n",
              "      background-color: #434B5C;\n",
              "      box-shadow: 0px 1px 3px 1px rgba(0, 0, 0, 0.15);\n",
              "      filter: drop-shadow(0px 1px 2px rgba(0, 0, 0, 0.3));\n",
              "      fill: #FFFFFF;\n",
              "    }\n",
              "  </style>\n",
              "\n",
              "      <script>\n",
              "        const buttonEl =\n",
              "          document.querySelector('#df-5f3f65ab-6a3f-4c54-a51d-01fc918d67b4 button.colab-df-convert');\n",
              "        buttonEl.style.display =\n",
              "          google.colab.kernel.accessAllowed ? 'block' : 'none';\n",
              "\n",
              "        async function convertToInteractive(key) {\n",
              "          const element = document.querySelector('#df-5f3f65ab-6a3f-4c54-a51d-01fc918d67b4');\n",
              "          const dataTable =\n",
              "            await google.colab.kernel.invokeFunction('convertToInteractive',\n",
              "                                                     [key], {});\n",
              "          if (!dataTable) return;\n",
              "\n",
              "          const docLinkHtml = 'Like what you see? Visit the ' +\n",
              "            '<a target=\"_blank\" href=https://colab.research.google.com/notebooks/data_table.ipynb>data table notebook</a>'\n",
              "            + ' to learn more about interactive tables.';\n",
              "          element.innerHTML = '';\n",
              "          dataTable['output_type'] = 'display_data';\n",
              "          await google.colab.output.renderOutput(dataTable, element);\n",
              "          const docLink = document.createElement('div');\n",
              "          docLink.innerHTML = docLinkHtml;\n",
              "          element.appendChild(docLink);\n",
              "        }\n",
              "      </script>\n",
              "    </div>\n",
              "  </div>\n",
              "  "
            ]
          },
          "metadata": {},
          "execution_count": 28
        }
      ]
    },
    {
      "cell_type": "markdown",
      "source": [
        "## Análise exploratória"
      ],
      "metadata": {
        "id": "SKrVhQecuMGe"
      }
    },
    {
      "cell_type": "code",
      "source": [
        "passageiros.info()"
      ],
      "metadata": {
        "colab": {
          "base_uri": "https://localhost:8080/"
        },
        "id": "1WxdTnDdqgn2",
        "outputId": "d2051750-c997-4d14-cb44-c791b530e2e9"
      },
      "execution_count": null,
      "outputs": [
        {
          "output_type": "stream",
          "name": "stdout",
          "text": [
            "<class 'pandas.core.frame.DataFrame'>\n",
            "RangeIndex: 129880 entries, 0 to 129879\n",
            "Data columns (total 24 columns):\n",
            " #   Column                             Non-Null Count   Dtype  \n",
            "---  ------                             --------------   -----  \n",
            " 0   Unnamed: 0                         129880 non-null  int64  \n",
            " 1   Gender                             129880 non-null  object \n",
            " 2   customer_type                      129880 non-null  object \n",
            " 3   age                                129880 non-null  int64  \n",
            " 4   type_of_travel                     129880 non-null  object \n",
            " 5   customer_class                     129880 non-null  object \n",
            " 6   flight_distance                    129880 non-null  int64  \n",
            " 7   inflight_wifi_service              129880 non-null  int64  \n",
            " 8   departure_arrival_time_convenient  129880 non-null  int64  \n",
            " 9   ease_of_online_booking             129880 non-null  int64  \n",
            " 10  gate_location                      129880 non-null  int64  \n",
            " 11  food_and_drink                     129880 non-null  int64  \n",
            " 12  online_boarding                    129880 non-null  int64  \n",
            " 13  seat_comfort                       129880 non-null  int64  \n",
            " 14  inflight_entertainment             129880 non-null  int64  \n",
            " 15  onboard_service                    129880 non-null  int64  \n",
            " 16  leg_room_service                   129880 non-null  int64  \n",
            " 17  baggage_handling                   129880 non-null  int64  \n",
            " 18  checkin_service                    129880 non-null  int64  \n",
            " 19  inflight_service                   129880 non-null  int64  \n",
            " 20  cleanliness                        129880 non-null  int64  \n",
            " 21  departure_delay_in_minutes         129880 non-null  int64  \n",
            " 22  arrival_delay_in_minutes           129487 non-null  float64\n",
            " 23  satisfaction                       129880 non-null  object \n",
            "dtypes: float64(1), int64(18), object(5)\n",
            "memory usage: 23.8+ MB\n"
          ]
        }
      ]
    },
    {
      "cell_type": "code",
      "source": [
        "passageiros.describe(include='all')"
      ],
      "metadata": {
        "colab": {
          "base_uri": "https://localhost:8080/",
          "height": 505
        },
        "id": "Xgrxha_Nxwim",
        "outputId": "ef0ca25a-0d19-4a89-d2f5-5cdc00fbb211"
      },
      "execution_count": null,
      "outputs": [
        {
          "output_type": "execute_result",
          "data": {
            "text/plain": [
              "           Unnamed: 0  Gender   customer_type            age   type_of_travel  \\\n",
              "count   129880.000000  129880          129880  129880.000000           129880   \n",
              "unique            NaN       2               2            NaN                2   \n",
              "top               NaN  Female  Loyal Customer            NaN  Business travel   \n",
              "freq              NaN   65899          106100            NaN            89693   \n",
              "mean     64939.500000     NaN             NaN      39.427957              NaN   \n",
              "std      37493.270818     NaN             NaN      15.119360              NaN   \n",
              "min          0.000000     NaN             NaN       7.000000              NaN   \n",
              "25%      32469.750000     NaN             NaN      27.000000              NaN   \n",
              "50%      64939.500000     NaN             NaN      40.000000              NaN   \n",
              "75%      97409.250000     NaN             NaN      51.000000              NaN   \n",
              "max     129879.000000     NaN             NaN      85.000000              NaN   \n",
              "\n",
              "       customer_class  flight_distance  inflight_wifi_service  \\\n",
              "count          129880    129880.000000          129880.000000   \n",
              "unique              3              NaN                    NaN   \n",
              "top          Business              NaN                    NaN   \n",
              "freq            62160              NaN                    NaN   \n",
              "mean              NaN      1190.316392               2.728696   \n",
              "std               NaN       997.452477               1.329340   \n",
              "min               NaN        31.000000               0.000000   \n",
              "25%               NaN       414.000000               2.000000   \n",
              "50%               NaN       844.000000               3.000000   \n",
              "75%               NaN      1744.000000               4.000000   \n",
              "max               NaN      4983.000000               5.000000   \n",
              "\n",
              "        departure_arrival_time_convenient  ease_of_online_booking  ...  \\\n",
              "count                       129880.000000           129880.000000  ...   \n",
              "unique                                NaN                     NaN  ...   \n",
              "top                                   NaN                     NaN  ...   \n",
              "freq                                  NaN                     NaN  ...   \n",
              "mean                             3.057599                2.756876  ...   \n",
              "std                              1.526741                1.401740  ...   \n",
              "min                              0.000000                0.000000  ...   \n",
              "25%                              2.000000                2.000000  ...   \n",
              "50%                              3.000000                3.000000  ...   \n",
              "75%                              4.000000                4.000000  ...   \n",
              "max                              5.000000                5.000000  ...   \n",
              "\n",
              "        inflight_entertainment  onboard_service  leg_room_service  \\\n",
              "count            129880.000000    129880.000000     129880.000000   \n",
              "unique                     NaN              NaN               NaN   \n",
              "top                        NaN              NaN               NaN   \n",
              "freq                       NaN              NaN               NaN   \n",
              "mean                  3.358077         3.383023          3.350878   \n",
              "std                   1.334049         1.287099          1.316252   \n",
              "min                   0.000000         0.000000          0.000000   \n",
              "25%                   2.000000         2.000000          2.000000   \n",
              "50%                   4.000000         4.000000          4.000000   \n",
              "75%                   4.000000         4.000000          4.000000   \n",
              "max                   5.000000         5.000000          5.000000   \n",
              "\n",
              "        baggage_handling  checkin_service  inflight_service    cleanliness  \\\n",
              "count      129880.000000    129880.000000     129880.000000  129880.000000   \n",
              "unique               NaN              NaN               NaN            NaN   \n",
              "top                  NaN              NaN               NaN            NaN   \n",
              "freq                 NaN              NaN               NaN            NaN   \n",
              "mean            3.632114         3.306267          3.642193       3.286326   \n",
              "std             1.180025         1.266185          1.176669       1.313682   \n",
              "min             1.000000         0.000000          0.000000       0.000000   \n",
              "25%             3.000000         3.000000          3.000000       2.000000   \n",
              "50%             4.000000         3.000000          4.000000       3.000000   \n",
              "75%             5.000000         4.000000          5.000000       4.000000   \n",
              "max             5.000000         5.000000          5.000000       5.000000   \n",
              "\n",
              "        departure_delay_in_minutes  arrival_delay_in_minutes  \\\n",
              "count                129880.000000             129487.000000   \n",
              "unique                         NaN                       NaN   \n",
              "top                            NaN                       NaN   \n",
              "freq                           NaN                       NaN   \n",
              "mean                     14.713713                 15.091129   \n",
              "std                      38.071126                 38.465650   \n",
              "min                       0.000000                  0.000000   \n",
              "25%                       0.000000                  0.000000   \n",
              "50%                       0.000000                  0.000000   \n",
              "75%                      12.000000                 13.000000   \n",
              "max                    1592.000000               1584.000000   \n",
              "\n",
              "                   satisfaction  \n",
              "count                    129880  \n",
              "unique                        2  \n",
              "top     neutral or dissatisfied  \n",
              "freq                      73452  \n",
              "mean                        NaN  \n",
              "std                         NaN  \n",
              "min                         NaN  \n",
              "25%                         NaN  \n",
              "50%                         NaN  \n",
              "75%                         NaN  \n",
              "max                         NaN  \n",
              "\n",
              "[11 rows x 24 columns]"
            ],
            "text/html": [
              "\n",
              "  <div id=\"df-4c11d7cc-f293-4df5-89b6-ab27b7126c36\">\n",
              "    <div class=\"colab-df-container\">\n",
              "      <div>\n",
              "<style scoped>\n",
              "    .dataframe tbody tr th:only-of-type {\n",
              "        vertical-align: middle;\n",
              "    }\n",
              "\n",
              "    .dataframe tbody tr th {\n",
              "        vertical-align: top;\n",
              "    }\n",
              "\n",
              "    .dataframe thead th {\n",
              "        text-align: right;\n",
              "    }\n",
              "</style>\n",
              "<table border=\"1\" class=\"dataframe\">\n",
              "  <thead>\n",
              "    <tr style=\"text-align: right;\">\n",
              "      <th></th>\n",
              "      <th>Unnamed: 0</th>\n",
              "      <th>Gender</th>\n",
              "      <th>customer_type</th>\n",
              "      <th>age</th>\n",
              "      <th>type_of_travel</th>\n",
              "      <th>customer_class</th>\n",
              "      <th>flight_distance</th>\n",
              "      <th>inflight_wifi_service</th>\n",
              "      <th>departure_arrival_time_convenient</th>\n",
              "      <th>ease_of_online_booking</th>\n",
              "      <th>...</th>\n",
              "      <th>inflight_entertainment</th>\n",
              "      <th>onboard_service</th>\n",
              "      <th>leg_room_service</th>\n",
              "      <th>baggage_handling</th>\n",
              "      <th>checkin_service</th>\n",
              "      <th>inflight_service</th>\n",
              "      <th>cleanliness</th>\n",
              "      <th>departure_delay_in_minutes</th>\n",
              "      <th>arrival_delay_in_minutes</th>\n",
              "      <th>satisfaction</th>\n",
              "    </tr>\n",
              "  </thead>\n",
              "  <tbody>\n",
              "    <tr>\n",
              "      <th>count</th>\n",
              "      <td>129880.000000</td>\n",
              "      <td>129880</td>\n",
              "      <td>129880</td>\n",
              "      <td>129880.000000</td>\n",
              "      <td>129880</td>\n",
              "      <td>129880</td>\n",
              "      <td>129880.000000</td>\n",
              "      <td>129880.000000</td>\n",
              "      <td>129880.000000</td>\n",
              "      <td>129880.000000</td>\n",
              "      <td>...</td>\n",
              "      <td>129880.000000</td>\n",
              "      <td>129880.000000</td>\n",
              "      <td>129880.000000</td>\n",
              "      <td>129880.000000</td>\n",
              "      <td>129880.000000</td>\n",
              "      <td>129880.000000</td>\n",
              "      <td>129880.000000</td>\n",
              "      <td>129880.000000</td>\n",
              "      <td>129487.000000</td>\n",
              "      <td>129880</td>\n",
              "    </tr>\n",
              "    <tr>\n",
              "      <th>unique</th>\n",
              "      <td>NaN</td>\n",
              "      <td>2</td>\n",
              "      <td>2</td>\n",
              "      <td>NaN</td>\n",
              "      <td>2</td>\n",
              "      <td>3</td>\n",
              "      <td>NaN</td>\n",
              "      <td>NaN</td>\n",
              "      <td>NaN</td>\n",
              "      <td>NaN</td>\n",
              "      <td>...</td>\n",
              "      <td>NaN</td>\n",
              "      <td>NaN</td>\n",
              "      <td>NaN</td>\n",
              "      <td>NaN</td>\n",
              "      <td>NaN</td>\n",
              "      <td>NaN</td>\n",
              "      <td>NaN</td>\n",
              "      <td>NaN</td>\n",
              "      <td>NaN</td>\n",
              "      <td>2</td>\n",
              "    </tr>\n",
              "    <tr>\n",
              "      <th>top</th>\n",
              "      <td>NaN</td>\n",
              "      <td>Female</td>\n",
              "      <td>Loyal Customer</td>\n",
              "      <td>NaN</td>\n",
              "      <td>Business travel</td>\n",
              "      <td>Business</td>\n",
              "      <td>NaN</td>\n",
              "      <td>NaN</td>\n",
              "      <td>NaN</td>\n",
              "      <td>NaN</td>\n",
              "      <td>...</td>\n",
              "      <td>NaN</td>\n",
              "      <td>NaN</td>\n",
              "      <td>NaN</td>\n",
              "      <td>NaN</td>\n",
              "      <td>NaN</td>\n",
              "      <td>NaN</td>\n",
              "      <td>NaN</td>\n",
              "      <td>NaN</td>\n",
              "      <td>NaN</td>\n",
              "      <td>neutral or dissatisfied</td>\n",
              "    </tr>\n",
              "    <tr>\n",
              "      <th>freq</th>\n",
              "      <td>NaN</td>\n",
              "      <td>65899</td>\n",
              "      <td>106100</td>\n",
              "      <td>NaN</td>\n",
              "      <td>89693</td>\n",
              "      <td>62160</td>\n",
              "      <td>NaN</td>\n",
              "      <td>NaN</td>\n",
              "      <td>NaN</td>\n",
              "      <td>NaN</td>\n",
              "      <td>...</td>\n",
              "      <td>NaN</td>\n",
              "      <td>NaN</td>\n",
              "      <td>NaN</td>\n",
              "      <td>NaN</td>\n",
              "      <td>NaN</td>\n",
              "      <td>NaN</td>\n",
              "      <td>NaN</td>\n",
              "      <td>NaN</td>\n",
              "      <td>NaN</td>\n",
              "      <td>73452</td>\n",
              "    </tr>\n",
              "    <tr>\n",
              "      <th>mean</th>\n",
              "      <td>64939.500000</td>\n",
              "      <td>NaN</td>\n",
              "      <td>NaN</td>\n",
              "      <td>39.427957</td>\n",
              "      <td>NaN</td>\n",
              "      <td>NaN</td>\n",
              "      <td>1190.316392</td>\n",
              "      <td>2.728696</td>\n",
              "      <td>3.057599</td>\n",
              "      <td>2.756876</td>\n",
              "      <td>...</td>\n",
              "      <td>3.358077</td>\n",
              "      <td>3.383023</td>\n",
              "      <td>3.350878</td>\n",
              "      <td>3.632114</td>\n",
              "      <td>3.306267</td>\n",
              "      <td>3.642193</td>\n",
              "      <td>3.286326</td>\n",
              "      <td>14.713713</td>\n",
              "      <td>15.091129</td>\n",
              "      <td>NaN</td>\n",
              "    </tr>\n",
              "    <tr>\n",
              "      <th>std</th>\n",
              "      <td>37493.270818</td>\n",
              "      <td>NaN</td>\n",
              "      <td>NaN</td>\n",
              "      <td>15.119360</td>\n",
              "      <td>NaN</td>\n",
              "      <td>NaN</td>\n",
              "      <td>997.452477</td>\n",
              "      <td>1.329340</td>\n",
              "      <td>1.526741</td>\n",
              "      <td>1.401740</td>\n",
              "      <td>...</td>\n",
              "      <td>1.334049</td>\n",
              "      <td>1.287099</td>\n",
              "      <td>1.316252</td>\n",
              "      <td>1.180025</td>\n",
              "      <td>1.266185</td>\n",
              "      <td>1.176669</td>\n",
              "      <td>1.313682</td>\n",
              "      <td>38.071126</td>\n",
              "      <td>38.465650</td>\n",
              "      <td>NaN</td>\n",
              "    </tr>\n",
              "    <tr>\n",
              "      <th>min</th>\n",
              "      <td>0.000000</td>\n",
              "      <td>NaN</td>\n",
              "      <td>NaN</td>\n",
              "      <td>7.000000</td>\n",
              "      <td>NaN</td>\n",
              "      <td>NaN</td>\n",
              "      <td>31.000000</td>\n",
              "      <td>0.000000</td>\n",
              "      <td>0.000000</td>\n",
              "      <td>0.000000</td>\n",
              "      <td>...</td>\n",
              "      <td>0.000000</td>\n",
              "      <td>0.000000</td>\n",
              "      <td>0.000000</td>\n",
              "      <td>1.000000</td>\n",
              "      <td>0.000000</td>\n",
              "      <td>0.000000</td>\n",
              "      <td>0.000000</td>\n",
              "      <td>0.000000</td>\n",
              "      <td>0.000000</td>\n",
              "      <td>NaN</td>\n",
              "    </tr>\n",
              "    <tr>\n",
              "      <th>25%</th>\n",
              "      <td>32469.750000</td>\n",
              "      <td>NaN</td>\n",
              "      <td>NaN</td>\n",
              "      <td>27.000000</td>\n",
              "      <td>NaN</td>\n",
              "      <td>NaN</td>\n",
              "      <td>414.000000</td>\n",
              "      <td>2.000000</td>\n",
              "      <td>2.000000</td>\n",
              "      <td>2.000000</td>\n",
              "      <td>...</td>\n",
              "      <td>2.000000</td>\n",
              "      <td>2.000000</td>\n",
              "      <td>2.000000</td>\n",
              "      <td>3.000000</td>\n",
              "      <td>3.000000</td>\n",
              "      <td>3.000000</td>\n",
              "      <td>2.000000</td>\n",
              "      <td>0.000000</td>\n",
              "      <td>0.000000</td>\n",
              "      <td>NaN</td>\n",
              "    </tr>\n",
              "    <tr>\n",
              "      <th>50%</th>\n",
              "      <td>64939.500000</td>\n",
              "      <td>NaN</td>\n",
              "      <td>NaN</td>\n",
              "      <td>40.000000</td>\n",
              "      <td>NaN</td>\n",
              "      <td>NaN</td>\n",
              "      <td>844.000000</td>\n",
              "      <td>3.000000</td>\n",
              "      <td>3.000000</td>\n",
              "      <td>3.000000</td>\n",
              "      <td>...</td>\n",
              "      <td>4.000000</td>\n",
              "      <td>4.000000</td>\n",
              "      <td>4.000000</td>\n",
              "      <td>4.000000</td>\n",
              "      <td>3.000000</td>\n",
              "      <td>4.000000</td>\n",
              "      <td>3.000000</td>\n",
              "      <td>0.000000</td>\n",
              "      <td>0.000000</td>\n",
              "      <td>NaN</td>\n",
              "    </tr>\n",
              "    <tr>\n",
              "      <th>75%</th>\n",
              "      <td>97409.250000</td>\n",
              "      <td>NaN</td>\n",
              "      <td>NaN</td>\n",
              "      <td>51.000000</td>\n",
              "      <td>NaN</td>\n",
              "      <td>NaN</td>\n",
              "      <td>1744.000000</td>\n",
              "      <td>4.000000</td>\n",
              "      <td>4.000000</td>\n",
              "      <td>4.000000</td>\n",
              "      <td>...</td>\n",
              "      <td>4.000000</td>\n",
              "      <td>4.000000</td>\n",
              "      <td>4.000000</td>\n",
              "      <td>5.000000</td>\n",
              "      <td>4.000000</td>\n",
              "      <td>5.000000</td>\n",
              "      <td>4.000000</td>\n",
              "      <td>12.000000</td>\n",
              "      <td>13.000000</td>\n",
              "      <td>NaN</td>\n",
              "    </tr>\n",
              "    <tr>\n",
              "      <th>max</th>\n",
              "      <td>129879.000000</td>\n",
              "      <td>NaN</td>\n",
              "      <td>NaN</td>\n",
              "      <td>85.000000</td>\n",
              "      <td>NaN</td>\n",
              "      <td>NaN</td>\n",
              "      <td>4983.000000</td>\n",
              "      <td>5.000000</td>\n",
              "      <td>5.000000</td>\n",
              "      <td>5.000000</td>\n",
              "      <td>...</td>\n",
              "      <td>5.000000</td>\n",
              "      <td>5.000000</td>\n",
              "      <td>5.000000</td>\n",
              "      <td>5.000000</td>\n",
              "      <td>5.000000</td>\n",
              "      <td>5.000000</td>\n",
              "      <td>5.000000</td>\n",
              "      <td>1592.000000</td>\n",
              "      <td>1584.000000</td>\n",
              "      <td>NaN</td>\n",
              "    </tr>\n",
              "  </tbody>\n",
              "</table>\n",
              "<p>11 rows × 24 columns</p>\n",
              "</div>\n",
              "      <button class=\"colab-df-convert\" onclick=\"convertToInteractive('df-4c11d7cc-f293-4df5-89b6-ab27b7126c36')\"\n",
              "              title=\"Convert this dataframe to an interactive table.\"\n",
              "              style=\"display:none;\">\n",
              "        \n",
              "  <svg xmlns=\"http://www.w3.org/2000/svg\" height=\"24px\"viewBox=\"0 0 24 24\"\n",
              "       width=\"24px\">\n",
              "    <path d=\"M0 0h24v24H0V0z\" fill=\"none\"/>\n",
              "    <path d=\"M18.56 5.44l.94 2.06.94-2.06 2.06-.94-2.06-.94-.94-2.06-.94 2.06-2.06.94zm-11 1L8.5 8.5l.94-2.06 2.06-.94-2.06-.94L8.5 2.5l-.94 2.06-2.06.94zm10 10l.94 2.06.94-2.06 2.06-.94-2.06-.94-.94-2.06-.94 2.06-2.06.94z\"/><path d=\"M17.41 7.96l-1.37-1.37c-.4-.4-.92-.59-1.43-.59-.52 0-1.04.2-1.43.59L10.3 9.45l-7.72 7.72c-.78.78-.78 2.05 0 2.83L4 21.41c.39.39.9.59 1.41.59.51 0 1.02-.2 1.41-.59l7.78-7.78 2.81-2.81c.8-.78.8-2.07 0-2.86zM5.41 20L4 18.59l7.72-7.72 1.47 1.35L5.41 20z\"/>\n",
              "  </svg>\n",
              "      </button>\n",
              "      \n",
              "  <style>\n",
              "    .colab-df-container {\n",
              "      display:flex;\n",
              "      flex-wrap:wrap;\n",
              "      gap: 12px;\n",
              "    }\n",
              "\n",
              "    .colab-df-convert {\n",
              "      background-color: #E8F0FE;\n",
              "      border: none;\n",
              "      border-radius: 50%;\n",
              "      cursor: pointer;\n",
              "      display: none;\n",
              "      fill: #1967D2;\n",
              "      height: 32px;\n",
              "      padding: 0 0 0 0;\n",
              "      width: 32px;\n",
              "    }\n",
              "\n",
              "    .colab-df-convert:hover {\n",
              "      background-color: #E2EBFA;\n",
              "      box-shadow: 0px 1px 2px rgba(60, 64, 67, 0.3), 0px 1px 3px 1px rgba(60, 64, 67, 0.15);\n",
              "      fill: #174EA6;\n",
              "    }\n",
              "\n",
              "    [theme=dark] .colab-df-convert {\n",
              "      background-color: #3B4455;\n",
              "      fill: #D2E3FC;\n",
              "    }\n",
              "\n",
              "    [theme=dark] .colab-df-convert:hover {\n",
              "      background-color: #434B5C;\n",
              "      box-shadow: 0px 1px 3px 1px rgba(0, 0, 0, 0.15);\n",
              "      filter: drop-shadow(0px 1px 2px rgba(0, 0, 0, 0.3));\n",
              "      fill: #FFFFFF;\n",
              "    }\n",
              "  </style>\n",
              "\n",
              "      <script>\n",
              "        const buttonEl =\n",
              "          document.querySelector('#df-4c11d7cc-f293-4df5-89b6-ab27b7126c36 button.colab-df-convert');\n",
              "        buttonEl.style.display =\n",
              "          google.colab.kernel.accessAllowed ? 'block' : 'none';\n",
              "\n",
              "        async function convertToInteractive(key) {\n",
              "          const element = document.querySelector('#df-4c11d7cc-f293-4df5-89b6-ab27b7126c36');\n",
              "          const dataTable =\n",
              "            await google.colab.kernel.invokeFunction('convertToInteractive',\n",
              "                                                     [key], {});\n",
              "          if (!dataTable) return;\n",
              "\n",
              "          const docLinkHtml = 'Like what you see? Visit the ' +\n",
              "            '<a target=\"_blank\" href=https://colab.research.google.com/notebooks/data_table.ipynb>data table notebook</a>'\n",
              "            + ' to learn more about interactive tables.';\n",
              "          element.innerHTML = '';\n",
              "          dataTable['output_type'] = 'display_data';\n",
              "          await google.colab.output.renderOutput(dataTable, element);\n",
              "          const docLink = document.createElement('div');\n",
              "          docLink.innerHTML = docLinkHtml;\n",
              "          element.appendChild(docLink);\n",
              "        }\n",
              "      </script>\n",
              "    </div>\n",
              "  </div>\n",
              "  "
            ]
          },
          "metadata": {},
          "execution_count": 30
        }
      ]
    },
    {
      "cell_type": "markdown",
      "source": [
        "Como é possível observar, a idade média dos passageiros é de 39 anos, enquanto a distância média dos vôos é de 1190 km.\n",
        "\n",
        "No geral, as avaliações médias quanto a algumas características:\n",
        "  - wifi: 2.7\n",
        "  - conveniência do tempo e embarque: 3\n",
        "  - serviço de leitura online: 2.7\n",
        "  - entretenimento durante o vôo: 3.35\n",
        "  - serviço de bordo: 3.38\n",
        "  - espaço para as pernas no assento: 3.35\n",
        "\n",
        "Vemos que as avaliações médias não diferem muito de si, então ao que parece o dataset é coerente. Além disso não foi observada a presença de valores nulos, pois todas as colunas estão preenchidas com o mesmo número de registros. Isso é bom, pois facilita a elaboração do modelo depois."
      ],
      "metadata": {
        "id": "-QsBRVZhitda"
      }
    },
    {
      "cell_type": "code",
      "source": [
        "passageiros['satisfaction'].value_counts().plot.pie()"
      ],
      "metadata": {
        "colab": {
          "base_uri": "https://localhost:8080/",
          "height": 265
        },
        "id": "0DsEiCQSx10m",
        "outputId": "54b73521-b811-4715-c74a-248547e11930"
      },
      "execution_count": null,
      "outputs": [
        {
          "output_type": "execute_result",
          "data": {
            "text/plain": [
              "<matplotlib.axes._subplots.AxesSubplot at 0x7f1edae0e490>"
            ]
          },
          "metadata": {},
          "execution_count": 31
        },
        {
          "output_type": "display_data",
          "data": {
            "text/plain": [
              "<Figure size 432x288 with 1 Axes>"
            ],
            "image/png": "[encoded data removed]"
          },
          "metadata": {}
        }
      ]
    },
    {
      "cell_type": "markdown",
      "source": [
        "É possível notar pelo gráfico de pizza que apesar da boa quantidade de avaliações positivas, ainda existem muitos passageiros que avaliaram como neutro/insatisfeito. Para uma companhia que busca um serviço de excelência, entender os fatores que levam a essa avaliação é muito importante."
      ],
      "metadata": {
        "id": "J_AGjPNMj7yM"
      }
    },
    {
      "cell_type": "code",
      "source": [
        "passageiros.groupby('satisfaction')['checkin_service'].mean().plot.bar()"
      ],
      "metadata": {
        "colab": {
          "base_uri": "https://localhost:8080/",
          "height": 395
        },
        "id": "KtbiUU1Ux9fi",
        "outputId": "47ad678e-5912-4b7b-c2c0-1be00567cb52"
      },
      "execution_count": null,
      "outputs": [
        {
          "output_type": "execute_result",
          "data": {
            "text/plain": [
              "<matplotlib.axes._subplots.AxesSubplot at 0x7f1edaf50310>"
            ]
          },
          "metadata": {},
          "execution_count": 32
        },
        {
          "output_type": "display_data",
          "data": {
            "text/plain": [
              "<Figure size 432x288 with 1 Axes>"
            ],
            "image/png": "[encoded data removed]"
          },
          "metadata": {
            "needs_background": "light"
          }
        }
      ]
    },
    {
      "cell_type": "markdown",
      "source": [
        "Analisando primeiro o serviço de check/in, vemos que há uma pequena diferença entre a satisfação dos passageiros e a classificação do check-in. Passageiros que se sentiram satisfeitos avaliaram o serviço de check-in com uma média de 3.5 enquanto aqueles insatisfeitos possuem uma média um pouco abaixo (de 3). Um bom serviço de check-in é essencial para que o passageiro não passe por algum problema e reconheça que a companhia preza a praticidade de todo o processo do embarque. Sendo assim, é um ponto importante a se focar."
      ],
      "metadata": {
        "id": "wPCYF8PXkXNv"
      }
    },
    {
      "cell_type": "code",
      "source": [
        "passageiros.groupby('satisfaction')['inflight_wifi_service'].mean().plot.bar()"
      ],
      "metadata": {
        "colab": {
          "base_uri": "https://localhost:8080/",
          "height": 395
        },
        "id": "V3vI-SJSyO3G",
        "outputId": "56e2c2e3-c25b-48d1-d6b6-a44ee98048ad"
      },
      "execution_count": null,
      "outputs": [
        {
          "output_type": "execute_result",
          "data": {
            "text/plain": [
              "<matplotlib.axes._subplots.AxesSubplot at 0x7f1edadbac50>"
            ]
          },
          "metadata": {},
          "execution_count": 33
        },
        {
          "output_type": "display_data",
          "data": {
            "text/plain": [
              "<Figure size 432x288 with 1 Axes>"
            ],
            "image/png": "[encoded data removed]"
          },
          "metadata": {
            "needs_background": "light"
          }
        }
      ]
    },
    {
      "cell_type": "markdown",
      "source": [
        "O serviço de wi-fi dentro do vôo também pode ser considerado um fator importante. Vemos que a avaliação média de passageiros que se sentiram satisfeitos com o serviço de wi-fi é nitidamente maior que aqueles insatisfeitos. Em um mundo em que a informação é essencial, muitos passageiros necessitam de um bom wi-fi para realizar suas atividades durante o vôo, seja trabalho ou acesso as redes sociais. Logo, é importante que a empresa foque nisso também."
      ],
      "metadata": {
        "id": "DuW8qE8Xk40n"
      }
    },
    {
      "cell_type": "code",
      "source": [
        "passageiros.groupby('satisfaction')['food_and_drink'].mean().plot.bar()"
      ],
      "metadata": {
        "colab": {
          "base_uri": "https://localhost:8080/",
          "height": 395
        },
        "id": "3AZCdbCUydet",
        "outputId": "c0c35665-0853-47aa-b158-e124b67278b6"
      },
      "execution_count": null,
      "outputs": [
        {
          "output_type": "execute_result",
          "data": {
            "text/plain": [
              "<matplotlib.axes._subplots.AxesSubplot at 0x7f1edad34510>"
            ]
          },
          "metadata": {},
          "execution_count": 34
        },
        {
          "output_type": "display_data",
          "data": {
            "text/plain": [
              "<Figure size 432x288 with 1 Axes>"
            ],
            "image/png": "[encoded data removed]"
          },
          "metadata": {
            "needs_background": "light"
          }
        }
      ]
    },
    {
      "cell_type": "markdown",
      "source": [
        "Quanto ao serviço de comida, também é notável uma diferença na avaliação média dos passageiros. Em vôos muito longos, uma boa qualidade dos alimentos oferecidos pela companhia é essencial para manter uma boa satisfação."
      ],
      "metadata": {
        "id": "chO1YJGXlpJU"
      }
    },
    {
      "cell_type": "code",
      "source": [
        "import numpy as np\n",
        "pd.pivot_table(passageiros, values='departure_delay_in_minutes', index=['customer_type'], columns=['satisfaction'], aggfunc=np.mean).plot.bar()"
      ],
      "metadata": {
        "colab": {
          "base_uri": "https://localhost:8080/",
          "height": 376
        },
        "id": "X7cntH74yoTN",
        "outputId": "47b8c17d-7913-44d1-eabf-e01e50aa3c65"
      },
      "execution_count": null,
      "outputs": [
        {
          "output_type": "execute_result",
          "data": {
            "text/plain": [
              "<matplotlib.axes._subplots.AxesSubplot at 0x7f1edacbcb90>"
            ]
          },
          "metadata": {},
          "execution_count": 35
        },
        {
          "output_type": "display_data",
          "data": {
            "text/plain": [
              "<Figure size 432x288 with 1 Axes>"
            ],
            "image/png": "[encoded data removed]"
          },
          "metadata": {
            "needs_background": "light"
          }
        }
      ]
    },
    {
      "cell_type": "markdown",
      "source": [
        "Vemos nesse gráfico que quanto maior o atraso do embarque em minutos, maior a presença de insatisfação entre os passageiros, independente se eles são considerados clientes leais ou não."
      ],
      "metadata": {
        "id": "Dmo4Vt5Tl1K0"
      }
    },
    {
      "cell_type": "code",
      "source": [
        "pd.pivot_table(passageiros, values='departure_delay_in_minutes', index=['type_of_travel'], columns=['satisfaction'], aggfunc=np.mean).plot.bar(legend=True)"
      ],
      "metadata": {
        "colab": {
          "base_uri": "https://localhost:8080/",
          "height": 364
        },
        "id": "mEUDYoTuzvpB",
        "outputId": "422fdad8-e72b-40d8-85e8-c2efe37af87f"
      },
      "execution_count": null,
      "outputs": [
        {
          "output_type": "execute_result",
          "data": {
            "text/plain": [
              "<matplotlib.axes._subplots.AxesSubplot at 0x7fe34206c510>"
            ]
          },
          "metadata": {},
          "execution_count": 13
        },
        {
          "output_type": "display_data",
          "data": {
            "text/plain": [
              "<Figure size 432x288 with 1 Axes>"
            ],
            "image/png": "[encoded data removed]"
          },
          "metadata": {
            "needs_background": "light"
          }
        }
      ]
    },
    {
      "cell_type": "markdown",
      "source": [
        "Analisando ainda o atraso do tempo de embarque, vemos que pessoas com viagens de objetivos pessoais tendem a se sentir menos satisfeitos com um tempo de atraso menor se comparados proporcionalmente com clientes que possuem viagens com objetivos de trabalho. Existem muitos fatores que levam ao atraso de viagens, e um dos principais deles é o clima. Como isso está fora do controle da companhia, não há como tomar uma ação direta a respeito. O máximo que se pode fazer é avisar os clientes com a maior antecedência possível."
      ],
      "metadata": {
        "id": "lS0QRI1KmkjL"
      }
    },
    {
      "cell_type": "code",
      "source": [
        "sns.boxplot(x='age', y='satisfaction',data=passageiros)"
      ],
      "metadata": {
        "colab": {
          "base_uri": "https://localhost:8080/",
          "height": 296
        },
        "id": "kHNOvoZwz89I",
        "outputId": "b0bdf848-dcbf-4eab-ab93-2b0174ff645c"
      },
      "execution_count": null,
      "outputs": [
        {
          "output_type": "execute_result",
          "data": {
            "text/plain": [
              "<matplotlib.axes._subplots.AxesSubplot at 0x7f1edab7f110>"
            ]
          },
          "metadata": {},
          "execution_count": 37
        },
        {
          "output_type": "display_data",
          "data": {
            "text/plain": [
              "<Figure size 432x288 with 1 Axes>"
            ],
            "image/png": "[encoded data removed]"
          },
          "metadata": {
            "needs_background": "light"
          }
        }
      ]
    },
    {
      "cell_type": "markdown",
      "source": [
        "Quanto ao nível de satisfação em comparação com a idade dos passageiros, vemos que a maioria dos clientes fizeram uma avaliação positiva do vôo estão na faixa dos 30-50 anos, enquanto aqueles que fizeram uma avaliação negativa estão mais concentrados entre os 25-35 anos."
      ],
      "metadata": {
        "id": "d7wrJStRnPHk"
      }
    },
    {
      "cell_type": "code",
      "source": [
        "sns.boxplot(x='cleanliness', y='satisfaction',data=passageiros)"
      ],
      "metadata": {
        "colab": {
          "base_uri": "https://localhost:8080/",
          "height": 296
        },
        "id": "tpxRToeX0Zfr",
        "outputId": "65c30231-a0aa-45dc-c771-b2860edd2f0c"
      },
      "execution_count": null,
      "outputs": [
        {
          "output_type": "execute_result",
          "data": {
            "text/plain": [
              "<matplotlib.axes._subplots.AxesSubplot at 0x7fe341d4d3d0>"
            ]
          },
          "metadata": {},
          "execution_count": 17
        },
        {
          "output_type": "display_data",
          "data": {
            "text/plain": [
              "<Figure size 432x288 with 1 Axes>"
            ],
            "image/png": "[encoded data removed]"
          },
          "metadata": {
            "needs_background": "light"
          }
        }
      ]
    },
    {
      "cell_type": "markdown",
      "source": [
        "Outro fator muito importante é a limpeza. Nesse boxplot vemos que a maioria dos clientes que se sentiram satisfeitos avaliaram melhor o nível de limpeza (entre 3 e 5, com um limite inferior de 1) em comparação com os passageiros que se sentiram insatisfeitos (entre 2 e 3, com um limite inferior de 0)."
      ],
      "metadata": {
        "id": "fdnVcbn4oVzD"
      }
    },
    {
      "cell_type": "code",
      "source": [
        "passageiros['satisfaction'] = passageiros['satisfaction'].replace({'neutral or dissatisfied':0,'satisfied':1})\n",
        "sns.heatmap(passageiros.corr())"
      ],
      "metadata": {
        "colab": {
          "base_uri": "https://localhost:8080/",
          "height": 451
        },
        "id": "PscB2NGn0rnd",
        "outputId": "feca20e9-af08-40c0-f0ad-23468371cd12"
      },
      "execution_count": null,
      "outputs": [
        {
          "output_type": "execute_result",
          "data": {
            "text/plain": [
              "<matplotlib.axes._subplots.AxesSubplot at 0x7fe3448220d0>"
            ]
          },
          "metadata": {},
          "execution_count": 20
        },
        {
          "output_type": "display_data",
          "data": {
            "text/plain": [
              "<Figure size 432x288 with 2 Axes>"
            ],
            "image/png": "[encoded data removed]"
          },
          "metadata": {
            "needs_background": "light"
          }
        }
      ]
    },
    {
      "cell_type": "markdown",
      "source": [
        "O mapa de correlação evidencia que os fatores que mais influenciam positivamente o nível de satisfação são serviço de compra de passagem online, entretenimento durante o vôo , limpeza e conforto do assentp. Enquanto isso, todos os valores referentes aos atrasos influenciam negativamente."
      ],
      "metadata": {
        "id": "eTs0gDZtpc56"
      }
    },
    {
      "cell_type": "markdown",
      "source": [
        "## Modelo"
      ],
      "metadata": {
        "id": "yvbgdUx4uRRs"
      }
    },
    {
      "cell_type": "code",
      "source": [
        "passageiros = passageiros.dropna()\n",
        "treino_tree, teste_tree = train_test_split(passageiros, train_size=0.8)"
      ],
      "metadata": {
        "id": "JrNsCqdy1I2T"
      },
      "execution_count": null,
      "outputs": []
    },
    {
      "cell_type": "markdown",
      "source": [
        "Dividindo a base de dados em 80% treino e 20% teste."
      ],
      "metadata": {
        "id": "fEdJtMFdp4Uk"
      }
    },
    {
      "cell_type": "code",
      "source": [
        "features_tree = ['flight_distance', 'inflight_wifi_service', 'departure_arrival_time_convenient', 'ease_of_online_booking', 'gate_location', 'food_and_drink', 'online_boarding', 'seat_comfort', 'inflight_entertainment', 'onboard_service', 'leg_room_service', 'baggage_handling', 'checkin_service', 'inflight_service', 'cleanliness', 'departure_delay_in_minutes', 'arrival_delay_in_minutes']\n",
        "from sklearn.tree import DecisionTreeClassifier\n",
        "arv = DecisionTreeClassifier(max_depth=2)\n",
        "arv.fit(treino_tree[features_tree],treino_tree['satisfaction'])\n",
        "arv.score(treino_tree[features_tree],treino_tree['satisfaction']) * 100\n"
      ],
      "metadata": {
        "colab": {
          "base_uri": "https://localhost:8080/"
        },
        "id": "QhQVlPKo1d0n",
        "outputId": "7ecbae32-c762-4c71-e204-4e7db08d8c3c"
      },
      "execution_count": null,
      "outputs": [
        {
          "output_type": "execute_result",
          "data": {
            "text/plain": [
              "81.32523723561383"
            ]
          },
          "metadata": {},
          "execution_count": 51
        }
      ]
    },
    {
      "cell_type": "markdown",
      "source": [
        "Aqui foi feita a separação das features que serão usadas para o treino. Após criar o modelo da árvore de decisão com profundidade máxima de 2 e realizado o fit, houve uma acurácia de 80%. Essa acurácia é muito boa para o contexto de negócio do modelo. Ele consegue prever bem quando um passageiro avaliará positivamente ou negativamente o serviço geral do vôo. Como o objetivo é identificar fatores a se priorizar, o resultado é bem válido por enquanto."
      ],
      "metadata": {
        "id": "NzdxRLeep83k"
      }
    },
    {
      "cell_type": "code",
      "source": [
        "from sklearn.tree import export_graphviz\n",
        "from graphviz import Source\n",
        "dot_data = export_graphviz(arv,filled=True,feature_names =features_tree, class_names = ['Neutro ou não-satisfeito','satisfeito'])\n",
        "Source (dot_data)"
      ],
      "metadata": {
        "colab": {
          "base_uri": "https://localhost:8080/",
          "height": 440
        },
        "id": "kByw2Kl62edG",
        "outputId": "9ebc9ab7-e9e3-45a2-a0ca-5745ba1d47d0"
      },
      "execution_count": null,
      "outputs": [
        {
          "output_type": "execute_result",
          "data": {
            "text/plain": [
              "<graphviz.files.Source at 0x7fe33e5962d0>"
            ],
            "image/svg+xml": "<?xml version=\"1.0\" encoding=\"UTF-8\" standalone=\"no\"?>\n<!DOCTYPE svg PUBLIC \"-//W3C//DTD SVG 1.1//EN\"\n \"http://www.w3.org/Graphics/SVG/1.1/DTD/svg11.dtd\">\n<!-- Generated by graphviz version 2.40.1 (20161225.0304)\n -->\n<!-- Title: Tree Pages: 1 -->\n<svg width=\"784pt\" height=\"314pt\"\n viewBox=\"0.00 0.00 783.50 314.00\" xmlns=\"http://www.w3.org/2000/svg\" xmlns:xlink=\"http://www.w3.org/1999/xlink\">\n<g id=\"graph0\" class=\"graph\" transform=\"scale(1 1) rotate(0) translate(4 310)\">\n<title>Tree</title>\n<polygon fill=\"#ffffff\" stroke=\"transparent\" points=\"-4,4 -4,-310 779.5,-310 779.5,4 -4,4\"/>\n<!-- 0 -->\n<g id=\"node1\" class=\"node\">\n<title>0</title>\n<polygon fill=\"#f9e2d1\" stroke=\"#000000\" points=\"481,-306 261,-306 261,-223 481,-223 481,-306\"/>\n<text text-anchor=\"middle\" x=\"371\" y=\"-290.8\" font-family=\"Helvetica,sans-Serif\" font-size=\"14.00\" fill=\"#000000\">online_boarding &lt;= 3.5</text>\n<text text-anchor=\"middle\" x=\"371\" y=\"-275.8\" font-family=\"Helvetica,sans-Serif\" font-size=\"14.00\" fill=\"#000000\">gini = 0.492</text>\n<text text-anchor=\"middle\" x=\"371\" y=\"-260.8\" font-family=\"Helvetica,sans-Serif\" font-size=\"14.00\" fill=\"#000000\">samples = 103589</text>\n<text text-anchor=\"middle\" x=\"371\" y=\"-245.8\" font-family=\"Helvetica,sans-Serif\" font-size=\"14.00\" fill=\"#000000\">value = [58541, 45048]</text>\n<text text-anchor=\"middle\" x=\"371\" y=\"-230.8\" font-family=\"Helvetica,sans-Serif\" font-size=\"14.00\" fill=\"#000000\">class = Neutro ou não&#45;satisfeito</text>\n</g>\n<!-- 1 -->\n<g id=\"node2\" class=\"node\">\n<title>1</title>\n<polygon fill=\"#ea975c\" stroke=\"#000000\" points=\"362,-187 142,-187 142,-104 362,-104 362,-187\"/>\n<text text-anchor=\"middle\" x=\"252\" y=\"-171.8\" font-family=\"Helvetica,sans-Serif\" font-size=\"14.00\" fill=\"#000000\">inflight_wifi_service &lt;= 0.5</text>\n<text text-anchor=\"middle\" x=\"252\" y=\"-156.8\" font-family=\"Helvetica,sans-Serif\" font-size=\"14.00\" fill=\"#000000\">gini = 0.255</text>\n<text text-anchor=\"middle\" x=\"252\" y=\"-141.8\" font-family=\"Helvetica,sans-Serif\" font-size=\"14.00\" fill=\"#000000\">samples = 52048</text>\n<text text-anchor=\"middle\" x=\"252\" y=\"-126.8\" font-family=\"Helvetica,sans-Serif\" font-size=\"14.00\" fill=\"#000000\">value = [44243, 7805]</text>\n<text text-anchor=\"middle\" x=\"252\" y=\"-111.8\" font-family=\"Helvetica,sans-Serif\" font-size=\"14.00\" fill=\"#000000\">class = Neutro ou não&#45;satisfeito</text>\n</g>\n<!-- 0&#45;&gt;1 -->\n<g id=\"edge1\" class=\"edge\">\n<title>0&#45;&gt;1</title>\n<path fill=\"none\" stroke=\"#000000\" d=\"M329.3796,-222.8796C320.1931,-213.6931 310.3798,-203.8798 300.9336,-194.4336\"/>\n<polygon fill=\"#000000\" stroke=\"#000000\" points=\"303.3441,-191.8943 293.7981,-187.2981 298.3943,-196.8441 303.3441,-191.8943\"/>\n<text text-anchor=\"middle\" x=\"293.7981\" y=\"-208.5981\" font-family=\"Helvetica,sans-Serif\" font-size=\"14.00\" fill=\"#000000\">True</text>\n</g>\n<!-- 4 -->\n<g id=\"node5\" class=\"node\">\n<title>4</title>\n<polygon fill=\"#85c3ef\" stroke=\"#000000\" points=\"589.5,-187 390.5,-187 390.5,-104 589.5,-104 589.5,-187\"/>\n<text text-anchor=\"middle\" x=\"490\" y=\"-171.8\" font-family=\"Helvetica,sans-Serif\" font-size=\"14.00\" fill=\"#000000\">inflight_entertainment &lt;= 3.5</text>\n<text text-anchor=\"middle\" x=\"490\" y=\"-156.8\" font-family=\"Helvetica,sans-Serif\" font-size=\"14.00\" fill=\"#000000\">gini = 0.401</text>\n<text text-anchor=\"middle\" x=\"490\" y=\"-141.8\" font-family=\"Helvetica,sans-Serif\" font-size=\"14.00\" fill=\"#000000\">samples = 51541</text>\n<text text-anchor=\"middle\" x=\"490\" y=\"-126.8\" font-family=\"Helvetica,sans-Serif\" font-size=\"14.00\" fill=\"#000000\">value = [14298, 37243]</text>\n<text text-anchor=\"middle\" x=\"490\" y=\"-111.8\" font-family=\"Helvetica,sans-Serif\" font-size=\"14.00\" fill=\"#000000\">class = satisfeito</text>\n</g>\n<!-- 0&#45;&gt;4 -->\n<g id=\"edge4\" class=\"edge\">\n<title>0&#45;&gt;4</title>\n<path fill=\"none\" stroke=\"#000000\" d=\"M412.6204,-222.8796C421.8069,-213.6931 431.6202,-203.8798 441.0664,-194.4336\"/>\n<polygon fill=\"#000000\" stroke=\"#000000\" points=\"443.6057,-196.8441 448.2019,-187.2981 438.6559,-191.8943 443.6057,-196.8441\"/>\n<text text-anchor=\"middle\" x=\"448.2019\" y=\"-208.5981\" font-family=\"Helvetica,sans-Serif\" font-size=\"14.00\" fill=\"#000000\">False</text>\n</g>\n<!-- 2 -->\n<g id=\"node3\" class=\"node\">\n<title>2</title>\n<polygon fill=\"#3a9de5\" stroke=\"#000000\" points=\"124,-68 0,-68 0,0 124,0 124,-68\"/>\n<text text-anchor=\"middle\" x=\"62\" y=\"-52.8\" font-family=\"Helvetica,sans-Serif\" font-size=\"14.00\" fill=\"#000000\">gini = 0.009</text>\n<text text-anchor=\"middle\" x=\"62\" y=\"-37.8\" font-family=\"Helvetica,sans-Serif\" font-size=\"14.00\" fill=\"#000000\">samples = 1767</text>\n<text text-anchor=\"middle\" x=\"62\" y=\"-22.8\" font-family=\"Helvetica,sans-Serif\" font-size=\"14.00\" fill=\"#000000\">value = [8, 1759]</text>\n<text text-anchor=\"middle\" x=\"62\" y=\"-7.8\" font-family=\"Helvetica,sans-Serif\" font-size=\"14.00\" fill=\"#000000\">class = satisfeito</text>\n</g>\n<!-- 1&#45;&gt;2 -->\n<g id=\"edge2\" class=\"edge\">\n<title>1&#45;&gt;2</title>\n<path fill=\"none\" stroke=\"#000000\" d=\"M181.251,-103.9815C164.0904,-93.911 145.7984,-83.1764 128.8256,-73.2161\"/>\n<polygon fill=\"#000000\" stroke=\"#000000\" points=\"130.4792,-70.1283 120.0831,-68.0856 126.9363,-76.1656 130.4792,-70.1283\"/>\n</g>\n<!-- 3 -->\n<g id=\"node4\" class=\"node\">\n<title>3</title>\n<polygon fill=\"#e99254\" stroke=\"#000000\" points=\"362,-68 142,-68 142,0 362,0 362,-68\"/>\n<text text-anchor=\"middle\" x=\"252\" y=\"-52.8\" font-family=\"Helvetica,sans-Serif\" font-size=\"14.00\" fill=\"#000000\">gini = 0.212</text>\n<text text-anchor=\"middle\" x=\"252\" y=\"-37.8\" font-family=\"Helvetica,sans-Serif\" font-size=\"14.00\" fill=\"#000000\">samples = 50281</text>\n<text text-anchor=\"middle\" x=\"252\" y=\"-22.8\" font-family=\"Helvetica,sans-Serif\" font-size=\"14.00\" fill=\"#000000\">value = [44235, 6046]</text>\n<text text-anchor=\"middle\" x=\"252\" y=\"-7.8\" font-family=\"Helvetica,sans-Serif\" font-size=\"14.00\" fill=\"#000000\">class = Neutro ou não&#45;satisfeito</text>\n</g>\n<!-- 1&#45;&gt;3 -->\n<g id=\"edge3\" class=\"edge\">\n<title>1&#45;&gt;3</title>\n<path fill=\"none\" stroke=\"#000000\" d=\"M252,-103.9815C252,-95.618 252,-86.7965 252,-78.3409\"/>\n<polygon fill=\"#000000\" stroke=\"#000000\" points=\"255.5001,-78.2636 252,-68.2637 248.5001,-78.2637 255.5001,-78.2636\"/>\n</g>\n<!-- 5 -->\n<g id=\"node6\" class=\"node\">\n<title>5</title>\n<polygon fill=\"#fcf0e8\" stroke=\"#000000\" points=\"600,-68 380,-68 380,0 600,0 600,-68\"/>\n<text text-anchor=\"middle\" x=\"490\" y=\"-52.8\" font-family=\"Helvetica,sans-Serif\" font-size=\"14.00\" fill=\"#000000\">gini = 0.498</text>\n<text text-anchor=\"middle\" x=\"490\" y=\"-37.8\" font-family=\"Helvetica,sans-Serif\" font-size=\"14.00\" fill=\"#000000\">samples = 16239</text>\n<text text-anchor=\"middle\" x=\"490\" y=\"-22.8\" font-family=\"Helvetica,sans-Serif\" font-size=\"14.00\" fill=\"#000000\">value = [8623, 7616]</text>\n<text text-anchor=\"middle\" x=\"490\" y=\"-7.8\" font-family=\"Helvetica,sans-Serif\" font-size=\"14.00\" fill=\"#000000\">class = Neutro ou não&#45;satisfeito</text>\n</g>\n<!-- 4&#45;&gt;5 -->\n<g id=\"edge5\" class=\"edge\">\n<title>4&#45;&gt;5</title>\n<path fill=\"none\" stroke=\"#000000\" d=\"M490,-103.9815C490,-95.618 490,-86.7965 490,-78.3409\"/>\n<polygon fill=\"#000000\" stroke=\"#000000\" points=\"493.5001,-78.2636 490,-68.2637 486.5001,-78.2637 493.5001,-78.2636\"/>\n</g>\n<!-- 6 -->\n<g id=\"node7\" class=\"node\">\n<title>6</title>\n<polygon fill=\"#5fb0ea\" stroke=\"#000000\" points=\"775.5,-68 618.5,-68 618.5,0 775.5,0 775.5,-68\"/>\n<text text-anchor=\"middle\" x=\"697\" y=\"-52.8\" font-family=\"Helvetica,sans-Serif\" font-size=\"14.00\" fill=\"#000000\">gini = 0.27</text>\n<text text-anchor=\"middle\" x=\"697\" y=\"-37.8\" font-family=\"Helvetica,sans-Serif\" font-size=\"14.00\" fill=\"#000000\">samples = 35302</text>\n<text text-anchor=\"middle\" x=\"697\" y=\"-22.8\" font-family=\"Helvetica,sans-Serif\" font-size=\"14.00\" fill=\"#000000\">value = [5675, 29627]</text>\n<text text-anchor=\"middle\" x=\"697\" y=\"-7.8\" font-family=\"Helvetica,sans-Serif\" font-size=\"14.00\" fill=\"#000000\">class = satisfeito</text>\n</g>\n<!-- 4&#45;&gt;6 -->\n<g id=\"edge6\" class=\"edge\">\n<title>4&#45;&gt;6</title>\n<path fill=\"none\" stroke=\"#000000\" d=\"M567.0792,-103.9815C585.9467,-93.8186 606.0696,-82.9794 624.7038,-72.9421\"/>\n<polygon fill=\"#000000\" stroke=\"#000000\" points=\"626.5757,-75.9094 633.72,-68.0856 623.2561,-69.7465 626.5757,-75.9094\"/>\n</g>\n</g>\n</svg>\n"
          },
          "metadata": {},
          "execution_count": 52
        }
      ]
    },
    {
      "cell_type": "markdown",
      "source": [
        "- A primeira avaliação feita pela árvore foi o serviço de compra de passagens online. Se o cliente avaliar ele com um índice menor que 3.5, vemos que existe uma boa chance de ele se sentir insatisfeito. Caso isso ocorra e a avaliação do serviço de wi-fi for menor que 0.5, há uma chance maior ainda de que ele se sinta insatisfeito. Caso contrário, o modelo aponta que existe uma boa chance dele se sentir satisfeito.\n",
        "- Analisando o ramo mais à direita agora, se o passageiro avaliar o serviço online de vôo como maior que 3.5 e um serviço de entretenimento maior que 3.5 também, a chance de ele se sentir satisfeito é bem alta. Caso contrário, a chance dele se sentir insatisfeito ainda é presente.\n",
        "- Esse gráfico revela os fatores mais importantes no contexto da companhia: serviço de compra online, wifi e entretenimento."
      ],
      "metadata": {
        "id": "YgoDXpqMqbey"
      }
    },
    {
      "cell_type": "code",
      "source": [
        "from sklearn.metrics import accuracy_score\n",
        "p_teste = arv.predict(teste[features_tree])\n",
        "y_teste = teste['satisfaction']\n",
        "acuracia_Teste = accuracy_score(p_teste, y_teste)\n",
        "acuracia_Teste * 100"
      ],
      "metadata": {
        "colab": {
          "base_uri": "https://localhost:8080/"
        },
        "id": "wjUyXBGZ2y-_",
        "outputId": "989ad64c-a6c4-4d8e-dbb4-55781d6a73e2"
      },
      "execution_count": null,
      "outputs": [
        {
          "output_type": "execute_result",
          "data": {
            "text/plain": [
              "80.96764228897985"
            ]
          },
          "metadata": {},
          "execution_count": 53
        }
      ]
    },
    {
      "cell_type": "markdown",
      "source": [
        "Com uma acurácia de teste equivalente a 80%, vemos de cara que não houve um overfit e o modelo conseguiu boas classificações. Basta saber agora a quantidade de acertos e erros."
      ],
      "metadata": {
        "id": "rTZAJ-jkrbgc"
      }
    },
    {
      "cell_type": "code",
      "source": [
        "from sklearn.metrics import confusion_matrix\n",
        "cm = confusion_matrix(y_teste,p_teste)\n",
        "print(cm)\n",
        "sns.heatmap(cm,annot=True)"
      ],
      "metadata": {
        "colab": {
          "base_uri": "https://localhost:8080/",
          "height": 317
        },
        "id": "xBd1-wje31-d",
        "outputId": "f79b72bf-3228-4c5a-a801-d44cf2a95980"
      },
      "execution_count": null,
      "outputs": [
        {
          "output_type": "stream",
          "name": "stdout",
          "text": [
            "[[13093  1469]\n",
            " [ 3460  7876]]\n"
          ]
        },
        {
          "output_type": "execute_result",
          "data": {
            "text/plain": [
              "<matplotlib.axes._subplots.AxesSubplot at 0x7fe33e530e10>"
            ]
          },
          "metadata": {},
          "execution_count": 55
        },
        {
          "output_type": "display_data",
          "data": {
            "text/plain": [
              "<Figure size 432x288 with 2 Axes>"
            ],
            "image/png": "[encoded data removed]"
          },
          "metadata": {
            "needs_background": "light"
          }
        }
      ]
    },
    {
      "cell_type": "markdown",
      "source": [
        "Analisando a matriz de confusão, vemos que o modelo teve mais precisão em avaliar a insatisfação dos clientes (13093 TN e 1400 FN) do que a satisfação em si (7876 TP e 3460 FP). No contexto do negócio, não existe um que seja mais prejudicial. Ambos revelam informações importantes sobre o que priorizar no serviço. O que se pode entender é que o modelo serve bem para o objetivo dele."
      ],
      "metadata": {
        "id": "bjsvmUD0rmiK"
      }
    },
    {
      "cell_type": "code",
      "source": [
        "from sklearn.metrics import classification_report\n",
        "print(classification_report(y_teste,p_teste))"
      ],
      "metadata": {
        "colab": {
          "base_uri": "https://localhost:8080/"
        },
        "id": "Fy-FUCLr3_my",
        "outputId": "85a81f74-3daa-426d-cd26-238c93570eb7"
      },
      "execution_count": null,
      "outputs": [
        {
          "output_type": "stream",
          "name": "stdout",
          "text": [
            "              precision    recall  f1-score   support\n",
            "\n",
            "           0       0.79      0.90      0.84     14562\n",
            "           1       0.84      0.69      0.76     11336\n",
            "\n",
            "    accuracy                           0.81     25898\n",
            "   macro avg       0.82      0.80      0.80     25898\n",
            "weighted avg       0.81      0.81      0.81     25898\n",
            "\n"
          ]
        }
      ]
    },
    {
      "cell_type": "markdown",
      "source": [
        "Aqui vemos uma precisão de 80% nos negativos com um recall de 90%, enfatizando o que foi falado anteriormente. Como positivos, temos uma precisão de 84%, porém com um recall mais baixo de 70%"
      ],
      "metadata": {
        "id": "85CGwr0XsNke"
      }
    },
    {
      "cell_type": "markdown",
      "source": [
        "# Agrupamento"
      ],
      "metadata": {
        "id": "QjuCgWDSmmxA"
      }
    },
    {
      "cell_type": "markdown",
      "source": [
        "## Análise exploratória\n",
        "Irei usar a mesma base de dados que foi utilizada na etapa de classificação. No caso do agrupamento, utilizarei as regras de associação de apriori."
      ],
      "metadata": {
        "id": "Pz94xExbuW18"
      }
    },
    {
      "cell_type": "markdown",
      "source": [
        "## Modelo"
      ],
      "metadata": {
        "id": "2nlxC92SuhCt"
      }
    },
    {
      "cell_type": "code",
      "source": [
        "from mlxtend.frequent_patterns import apriori, association_rules\n",
        "\n",
        "features_dumm = ['Gender','customer_type','customer_class','inflight_wifi_service', 'departure_arrival_time_convenient', 'ease_of_online_booking', 'gate_location', 'food_and_drink', 'online_boarding', 'seat_comfort', 'inflight_entertainment', 'onboard_service', 'leg_room_service', 'baggage_handling', 'checkin_service', 'inflight_service', 'cleanliness']\n",
        "lista_dummies = []\n",
        "for c in features_dumm:\n",
        "    novosdm = pd.get_dummies(passageiros[c])\n",
        "    novosdm.columns=[c + '_' + str(p) for p in passageiros[c].unique()]\n",
        "    lista_dummies.append(novosdm)\n",
        "novodf=pd.concat(lista_dummies,axis=1 )\n",
        "\n",
        "novodf.head()"
      ],
      "metadata": {
        "colab": {
          "base_uri": "https://localhost:8080/",
          "height": 317
        },
        "id": "nPjhjGRY4h0_",
        "outputId": "f89e75b2-28f1-4771-b455-dd42ab2365bd"
      },
      "execution_count": null,
      "outputs": [
        {
          "output_type": "execute_result",
          "data": {
            "text/plain": [
              "   Gender_Male  Gender_Female  customer_type_Loyal Customer  \\\n",
              "0            0              1                             1   \n",
              "1            0              1                             0   \n",
              "2            1              0                             1   \n",
              "3            1              0                             1   \n",
              "4            0              1                             1   \n",
              "\n",
              "   customer_type_disloyal Customer  customer_class_Eco Plus  \\\n",
              "0                                0                        0   \n",
              "1                                1                        1   \n",
              "2                                0                        1   \n",
              "3                                0                        1   \n",
              "4                                0                        1   \n",
              "\n",
              "   customer_class_Business  customer_class_Eco  inflight_wifi_service_3  \\\n",
              "0                        0                   1                        0   \n",
              "1                        0                   0                        0   \n",
              "2                        0                   0                        0   \n",
              "3                        0                   0                        0   \n",
              "4                        0                   0                        0   \n",
              "\n",
              "   inflight_wifi_service_2  inflight_wifi_service_4  ...  inflight_service_3  \\\n",
              "0                        0                        0  ...                   0   \n",
              "1                        0                        0  ...                   0   \n",
              "2                        0                        1  ...                   0   \n",
              "3                        0                        1  ...                   0   \n",
              "4                        0                        0  ...                   0   \n",
              "\n",
              "   inflight_service_1  inflight_service_2  inflight_service_0  cleanliness_5  \\\n",
              "0                   0                   0                   1              0   \n",
              "1                   0                   1                   0              0   \n",
              "2                   0                   1                   0              0   \n",
              "3                   0                   1                   0              0   \n",
              "4                   1                   0                   0              0   \n",
              "\n",
              "   cleanliness_1  cleanliness_2  cleanliness_3  cleanliness_4  cleanliness_0  \n",
              "0              0              0              0              0              1  \n",
              "1              1              0              0              0              0  \n",
              "2              0              0              0              0              1  \n",
              "3              0              1              0              0              0  \n",
              "4              0              0              1              0              0  \n",
              "\n",
              "[5 rows x 90 columns]"
            ],
            "text/html": [
              "\n",
              "  <div id=\"df-dfa42b0a-55be-4e38-a058-284833d34e68\">\n",
              "    <div class=\"colab-df-container\">\n",
              "      <div>\n",
              "<style scoped>\n",
              "    .dataframe tbody tr th:only-of-type {\n",
              "        vertical-align: middle;\n",
              "    }\n",
              "\n",
              "    .dataframe tbody tr th {\n",
              "        vertical-align: top;\n",
              "    }\n",
              "\n",
              "    .dataframe thead th {\n",
              "        text-align: right;\n",
              "    }\n",
              "</style>\n",
              "<table border=\"1\" class=\"dataframe\">\n",
              "  <thead>\n",
              "    <tr style=\"text-align: right;\">\n",
              "      <th></th>\n",
              "      <th>Gender_Male</th>\n",
              "      <th>Gender_Female</th>\n",
              "      <th>customer_type_Loyal Customer</th>\n",
              "      <th>customer_type_disloyal Customer</th>\n",
              "      <th>customer_class_Eco Plus</th>\n",
              "      <th>customer_class_Business</th>\n",
              "      <th>customer_class_Eco</th>\n",
              "      <th>inflight_wifi_service_3</th>\n",
              "      <th>inflight_wifi_service_2</th>\n",
              "      <th>inflight_wifi_service_4</th>\n",
              "      <th>...</th>\n",
              "      <th>inflight_service_3</th>\n",
              "      <th>inflight_service_1</th>\n",
              "      <th>inflight_service_2</th>\n",
              "      <th>inflight_service_0</th>\n",
              "      <th>cleanliness_5</th>\n",
              "      <th>cleanliness_1</th>\n",
              "      <th>cleanliness_2</th>\n",
              "      <th>cleanliness_3</th>\n",
              "      <th>cleanliness_4</th>\n",
              "      <th>cleanliness_0</th>\n",
              "    </tr>\n",
              "  </thead>\n",
              "  <tbody>\n",
              "    <tr>\n",
              "      <th>0</th>\n",
              "      <td>0</td>\n",
              "      <td>1</td>\n",
              "      <td>1</td>\n",
              "      <td>0</td>\n",
              "      <td>0</td>\n",
              "      <td>0</td>\n",
              "      <td>1</td>\n",
              "      <td>0</td>\n",
              "      <td>0</td>\n",
              "      <td>0</td>\n",
              "      <td>...</td>\n",
              "      <td>0</td>\n",
              "      <td>0</td>\n",
              "      <td>0</td>\n",
              "      <td>1</td>\n",
              "      <td>0</td>\n",
              "      <td>0</td>\n",
              "      <td>0</td>\n",
              "      <td>0</td>\n",
              "      <td>0</td>\n",
              "      <td>1</td>\n",
              "    </tr>\n",
              "    <tr>\n",
              "      <th>1</th>\n",
              "      <td>0</td>\n",
              "      <td>1</td>\n",
              "      <td>0</td>\n",
              "      <td>1</td>\n",
              "      <td>1</td>\n",
              "      <td>0</td>\n",
              "      <td>0</td>\n",
              "      <td>0</td>\n",
              "      <td>0</td>\n",
              "      <td>0</td>\n",
              "      <td>...</td>\n",
              "      <td>0</td>\n",
              "      <td>0</td>\n",
              "      <td>1</td>\n",
              "      <td>0</td>\n",
              "      <td>0</td>\n",
              "      <td>1</td>\n",
              "      <td>0</td>\n",
              "      <td>0</td>\n",
              "      <td>0</td>\n",
              "      <td>0</td>\n",
              "    </tr>\n",
              "    <tr>\n",
              "      <th>2</th>\n",
              "      <td>1</td>\n",
              "      <td>0</td>\n",
              "      <td>1</td>\n",
              "      <td>0</td>\n",
              "      <td>1</td>\n",
              "      <td>0</td>\n",
              "      <td>0</td>\n",
              "      <td>0</td>\n",
              "      <td>0</td>\n",
              "      <td>1</td>\n",
              "      <td>...</td>\n",
              "      <td>0</td>\n",
              "      <td>0</td>\n",
              "      <td>1</td>\n",
              "      <td>0</td>\n",
              "      <td>0</td>\n",
              "      <td>0</td>\n",
              "      <td>0</td>\n",
              "      <td>0</td>\n",
              "      <td>0</td>\n",
              "      <td>1</td>\n",
              "    </tr>\n",
              "    <tr>\n",
              "      <th>3</th>\n",
              "      <td>1</td>\n",
              "      <td>0</td>\n",
              "      <td>1</td>\n",
              "      <td>0</td>\n",
              "      <td>1</td>\n",
              "      <td>0</td>\n",
              "      <td>0</td>\n",
              "      <td>0</td>\n",
              "      <td>0</td>\n",
              "      <td>1</td>\n",
              "      <td>...</td>\n",
              "      <td>0</td>\n",
              "      <td>0</td>\n",
              "      <td>1</td>\n",
              "      <td>0</td>\n",
              "      <td>0</td>\n",
              "      <td>0</td>\n",
              "      <td>1</td>\n",
              "      <td>0</td>\n",
              "      <td>0</td>\n",
              "      <td>0</td>\n",
              "    </tr>\n",
              "    <tr>\n",
              "      <th>4</th>\n",
              "      <td>0</td>\n",
              "      <td>1</td>\n",
              "      <td>1</td>\n",
              "      <td>0</td>\n",
              "      <td>1</td>\n",
              "      <td>0</td>\n",
              "      <td>0</td>\n",
              "      <td>0</td>\n",
              "      <td>0</td>\n",
              "      <td>0</td>\n",
              "      <td>...</td>\n",
              "      <td>0</td>\n",
              "      <td>1</td>\n",
              "      <td>0</td>\n",
              "      <td>0</td>\n",
              "      <td>0</td>\n",
              "      <td>0</td>\n",
              "      <td>0</td>\n",
              "      <td>1</td>\n",
              "      <td>0</td>\n",
              "      <td>0</td>\n",
              "    </tr>\n",
              "  </tbody>\n",
              "</table>\n",
              "<p>5 rows × 90 columns</p>\n",
              "</div>\n",
              "      <button class=\"colab-df-convert\" onclick=\"convertToInteractive('df-dfa42b0a-55be-4e38-a058-284833d34e68')\"\n",
              "              title=\"Convert this dataframe to an interactive table.\"\n",
              "              style=\"display:none;\">\n",
              "        \n",
              "  <svg xmlns=\"http://www.w3.org/2000/svg\" height=\"24px\"viewBox=\"0 0 24 24\"\n",
              "       width=\"24px\">\n",
              "    <path d=\"M0 0h24v24H0V0z\" fill=\"none\"/>\n",
              "    <path d=\"M18.56 5.44l.94 2.06.94-2.06 2.06-.94-2.06-.94-.94-2.06-.94 2.06-2.06.94zm-11 1L8.5 8.5l.94-2.06 2.06-.94-2.06-.94L8.5 2.5l-.94 2.06-2.06.94zm10 10l.94 2.06.94-2.06 2.06-.94-2.06-.94-.94-2.06-.94 2.06-2.06.94z\"/><path d=\"M17.41 7.96l-1.37-1.37c-.4-.4-.92-.59-1.43-.59-.52 0-1.04.2-1.43.59L10.3 9.45l-7.72 7.72c-.78.78-.78 2.05 0 2.83L4 21.41c.39.39.9.59 1.41.59.51 0 1.02-.2 1.41-.59l7.78-7.78 2.81-2.81c.8-.78.8-2.07 0-2.86zM5.41 20L4 18.59l7.72-7.72 1.47 1.35L5.41 20z\"/>\n",
              "  </svg>\n",
              "      </button>\n",
              "      \n",
              "  <style>\n",
              "    .colab-df-container {\n",
              "      display:flex;\n",
              "      flex-wrap:wrap;\n",
              "      gap: 12px;\n",
              "    }\n",
              "\n",
              "    .colab-df-convert {\n",
              "      background-color: #E8F0FE;\n",
              "      border: none;\n",
              "      border-radius: 50%;\n",
              "      cursor: pointer;\n",
              "      display: none;\n",
              "      fill: #1967D2;\n",
              "      height: 32px;\n",
              "      padding: 0 0 0 0;\n",
              "      width: 32px;\n",
              "    }\n",
              "\n",
              "    .colab-df-convert:hover {\n",
              "      background-color: #E2EBFA;\n",
              "      box-shadow: 0px 1px 2px rgba(60, 64, 67, 0.3), 0px 1px 3px 1px rgba(60, 64, 67, 0.15);\n",
              "      fill: #174EA6;\n",
              "    }\n",
              "\n",
              "    [theme=dark] .colab-df-convert {\n",
              "      background-color: #3B4455;\n",
              "      fill: #D2E3FC;\n",
              "    }\n",
              "\n",
              "    [theme=dark] .colab-df-convert:hover {\n",
              "      background-color: #434B5C;\n",
              "      box-shadow: 0px 1px 3px 1px rgba(0, 0, 0, 0.15);\n",
              "      filter: drop-shadow(0px 1px 2px rgba(0, 0, 0, 0.3));\n",
              "      fill: #FFFFFF;\n",
              "    }\n",
              "  </style>\n",
              "\n",
              "      <script>\n",
              "        const buttonEl =\n",
              "          document.querySelector('#df-dfa42b0a-55be-4e38-a058-284833d34e68 button.colab-df-convert');\n",
              "        buttonEl.style.display =\n",
              "          google.colab.kernel.accessAllowed ? 'block' : 'none';\n",
              "\n",
              "        async function convertToInteractive(key) {\n",
              "          const element = document.querySelector('#df-dfa42b0a-55be-4e38-a058-284833d34e68');\n",
              "          const dataTable =\n",
              "            await google.colab.kernel.invokeFunction('convertToInteractive',\n",
              "                                                     [key], {});\n",
              "          if (!dataTable) return;\n",
              "\n",
              "          const docLinkHtml = 'Like what you see? Visit the ' +\n",
              "            '<a target=\"_blank\" href=https://colab.research.google.com/notebooks/data_table.ipynb>data table notebook</a>'\n",
              "            + ' to learn more about interactive tables.';\n",
              "          element.innerHTML = '';\n",
              "          dataTable['output_type'] = 'display_data';\n",
              "          await google.colab.output.renderOutput(dataTable, element);\n",
              "          const docLink = document.createElement('div');\n",
              "          docLink.innerHTML = docLinkHtml;\n",
              "          element.appendChild(docLink);\n",
              "        }\n",
              "      </script>\n",
              "    </div>\n",
              "  </div>\n",
              "  "
            ]
          },
          "metadata": {},
          "execution_count": 68
        }
      ]
    },
    {
      "cell_type": "markdown",
      "source": [
        "Antes de aplicar as regras de associação, é necessário transformar as colunas em dummies. Para isso criei um laça de repetição que percorre cada coluna e a transforma em um dummy com um nome adequado, que diferencia bem as colunas. Feito isso, vou aplicar as regras."
      ],
      "metadata": {
        "id": "-h3OqiJ_slR2"
      }
    },
    {
      "cell_type": "code",
      "source": [
        "association_rules(apriori(novodf, min_support=0.25, use_colnames=True))"
      ],
      "metadata": {
        "colab": {
          "base_uri": "https://localhost:8080/",
          "height": 269
        },
        "id": "VvmrsexK9Q7c",
        "outputId": "644acbf3-688c-444b-f947-b55eeb9a5831"
      },
      "execution_count": null,
      "outputs": [
        {
          "output_type": "execute_result",
          "data": {
            "text/plain": [
              "                 antecedents                     consequents  \\\n",
              "0              (Gender_Male)  (customer_type_Loyal Customer)   \n",
              "1            (Gender_Female)  (customer_type_Loyal Customer)   \n",
              "2  (customer_class_Eco Plus)  (customer_type_Loyal Customer)   \n",
              "3        (online_boarding_4)  (customer_type_Loyal Customer)   \n",
              "4           (seat_comfort_4)  (customer_type_Loyal Customer)   \n",
              "5       (baggage_handling_1)  (customer_type_Loyal Customer)   \n",
              "6       (inflight_service_2)  (customer_type_Loyal Customer)   \n",
              "\n",
              "   antecedent support  consequent support   support  confidence      lift  \\\n",
              "0            0.507410            0.816862  0.408527    0.805123  0.985629   \n",
              "1            0.492590            0.816862  0.408334    0.828954  1.014803   \n",
              "2            0.478735            0.816862  0.407608    0.851428  1.042315   \n",
              "3            0.296192            0.816862  0.259694    0.876776  1.073347   \n",
              "4            0.306216            0.816862  0.268930    0.878238  1.075136   \n",
              "5            0.360121            0.816862  0.288801    0.801956  0.981752   \n",
              "6            0.364500            0.816862  0.292778    0.803233  0.983316   \n",
              "\n",
              "   leverage  conviction  \n",
              "0 -0.005956    0.939763  \n",
              "1  0.005956    1.070695  \n",
              "2  0.016548    1.232652  \n",
              "3  0.017746    1.486224  \n",
              "4  0.018794    1.504061  \n",
              "5 -0.005368    0.924733  \n",
              "6 -0.004968    0.930737  "
            ],
            "text/html": [
              "\n",
              "  <div id=\"df-b4637e06-46ec-4dc4-ac0e-32f679ecbdea\">\n",
              "    <div class=\"colab-df-container\">\n",
              "      <div>\n",
              "<style scoped>\n",
              "    .dataframe tbody tr th:only-of-type {\n",
              "        vertical-align: middle;\n",
              "    }\n",
              "\n",
              "    .dataframe tbody tr th {\n",
              "        vertical-align: top;\n",
              "    }\n",
              "\n",
              "    .dataframe thead th {\n",
              "        text-align: right;\n",
              "    }\n",
              "</style>\n",
              "<table border=\"1\" class=\"dataframe\">\n",
              "  <thead>\n",
              "    <tr style=\"text-align: right;\">\n",
              "      <th></th>\n",
              "      <th>antecedents</th>\n",
              "      <th>consequents</th>\n",
              "      <th>antecedent support</th>\n",
              "      <th>consequent support</th>\n",
              "      <th>support</th>\n",
              "      <th>confidence</th>\n",
              "      <th>lift</th>\n",
              "      <th>leverage</th>\n",
              "      <th>conviction</th>\n",
              "    </tr>\n",
              "  </thead>\n",
              "  <tbody>\n",
              "    <tr>\n",
              "      <th>0</th>\n",
              "      <td>(Gender_Male)</td>\n",
              "      <td>(customer_type_Loyal Customer)</td>\n",
              "      <td>0.507410</td>\n",
              "      <td>0.816862</td>\n",
              "      <td>0.408527</td>\n",
              "      <td>0.805123</td>\n",
              "      <td>0.985629</td>\n",
              "      <td>-0.005956</td>\n",
              "      <td>0.939763</td>\n",
              "    </tr>\n",
              "    <tr>\n",
              "      <th>1</th>\n",
              "      <td>(Gender_Female)</td>\n",
              "      <td>(customer_type_Loyal Customer)</td>\n",
              "      <td>0.492590</td>\n",
              "      <td>0.816862</td>\n",
              "      <td>0.408334</td>\n",
              "      <td>0.828954</td>\n",
              "      <td>1.014803</td>\n",
              "      <td>0.005956</td>\n",
              "      <td>1.070695</td>\n",
              "    </tr>\n",
              "    <tr>\n",
              "      <th>2</th>\n",
              "      <td>(customer_class_Eco Plus)</td>\n",
              "      <td>(customer_type_Loyal Customer)</td>\n",
              "      <td>0.478735</td>\n",
              "      <td>0.816862</td>\n",
              "      <td>0.407608</td>\n",
              "      <td>0.851428</td>\n",
              "      <td>1.042315</td>\n",
              "      <td>0.016548</td>\n",
              "      <td>1.232652</td>\n",
              "    </tr>\n",
              "    <tr>\n",
              "      <th>3</th>\n",
              "      <td>(online_boarding_4)</td>\n",
              "      <td>(customer_type_Loyal Customer)</td>\n",
              "      <td>0.296192</td>\n",
              "      <td>0.816862</td>\n",
              "      <td>0.259694</td>\n",
              "      <td>0.876776</td>\n",
              "      <td>1.073347</td>\n",
              "      <td>0.017746</td>\n",
              "      <td>1.486224</td>\n",
              "    </tr>\n",
              "    <tr>\n",
              "      <th>4</th>\n",
              "      <td>(seat_comfort_4)</td>\n",
              "      <td>(customer_type_Loyal Customer)</td>\n",
              "      <td>0.306216</td>\n",
              "      <td>0.816862</td>\n",
              "      <td>0.268930</td>\n",
              "      <td>0.878238</td>\n",
              "      <td>1.075136</td>\n",
              "      <td>0.018794</td>\n",
              "      <td>1.504061</td>\n",
              "    </tr>\n",
              "    <tr>\n",
              "      <th>5</th>\n",
              "      <td>(baggage_handling_1)</td>\n",
              "      <td>(customer_type_Loyal Customer)</td>\n",
              "      <td>0.360121</td>\n",
              "      <td>0.816862</td>\n",
              "      <td>0.288801</td>\n",
              "      <td>0.801956</td>\n",
              "      <td>0.981752</td>\n",
              "      <td>-0.005368</td>\n",
              "      <td>0.924733</td>\n",
              "    </tr>\n",
              "    <tr>\n",
              "      <th>6</th>\n",
              "      <td>(inflight_service_2)</td>\n",
              "      <td>(customer_type_Loyal Customer)</td>\n",
              "      <td>0.364500</td>\n",
              "      <td>0.816862</td>\n",
              "      <td>0.292778</td>\n",
              "      <td>0.803233</td>\n",
              "      <td>0.983316</td>\n",
              "      <td>-0.004968</td>\n",
              "      <td>0.930737</td>\n",
              "    </tr>\n",
              "  </tbody>\n",
              "</table>\n",
              "</div>\n",
              "      <button class=\"colab-df-convert\" onclick=\"convertToInteractive('df-b4637e06-46ec-4dc4-ac0e-32f679ecbdea')\"\n",
              "              title=\"Convert this dataframe to an interactive table.\"\n",
              "              style=\"display:none;\">\n",
              "        \n",
              "  <svg xmlns=\"http://www.w3.org/2000/svg\" height=\"24px\"viewBox=\"0 0 24 24\"\n",
              "       width=\"24px\">\n",
              "    <path d=\"M0 0h24v24H0V0z\" fill=\"none\"/>\n",
              "    <path d=\"M18.56 5.44l.94 2.06.94-2.06 2.06-.94-2.06-.94-.94-2.06-.94 2.06-2.06.94zm-11 1L8.5 8.5l.94-2.06 2.06-.94-2.06-.94L8.5 2.5l-.94 2.06-2.06.94zm10 10l.94 2.06.94-2.06 2.06-.94-2.06-.94-.94-2.06-.94 2.06-2.06.94z\"/><path d=\"M17.41 7.96l-1.37-1.37c-.4-.4-.92-.59-1.43-.59-.52 0-1.04.2-1.43.59L10.3 9.45l-7.72 7.72c-.78.78-.78 2.05 0 2.83L4 21.41c.39.39.9.59 1.41.59.51 0 1.02-.2 1.41-.59l7.78-7.78 2.81-2.81c.8-.78.8-2.07 0-2.86zM5.41 20L4 18.59l7.72-7.72 1.47 1.35L5.41 20z\"/>\n",
              "  </svg>\n",
              "      </button>\n",
              "      \n",
              "  <style>\n",
              "    .colab-df-container {\n",
              "      display:flex;\n",
              "      flex-wrap:wrap;\n",
              "      gap: 12px;\n",
              "    }\n",
              "\n",
              "    .colab-df-convert {\n",
              "      background-color: #E8F0FE;\n",
              "      border: none;\n",
              "      border-radius: 50%;\n",
              "      cursor: pointer;\n",
              "      display: none;\n",
              "      fill: #1967D2;\n",
              "      height: 32px;\n",
              "      padding: 0 0 0 0;\n",
              "      width: 32px;\n",
              "    }\n",
              "\n",
              "    .colab-df-convert:hover {\n",
              "      background-color: #E2EBFA;\n",
              "      box-shadow: 0px 1px 2px rgba(60, 64, 67, 0.3), 0px 1px 3px 1px rgba(60, 64, 67, 0.15);\n",
              "      fill: #174EA6;\n",
              "    }\n",
              "\n",
              "    [theme=dark] .colab-df-convert {\n",
              "      background-color: #3B4455;\n",
              "      fill: #D2E3FC;\n",
              "    }\n",
              "\n",
              "    [theme=dark] .colab-df-convert:hover {\n",
              "      background-color: #434B5C;\n",
              "      box-shadow: 0px 1px 3px 1px rgba(0, 0, 0, 0.15);\n",
              "      filter: drop-shadow(0px 1px 2px rgba(0, 0, 0, 0.3));\n",
              "      fill: #FFFFFF;\n",
              "    }\n",
              "  </style>\n",
              "\n",
              "      <script>\n",
              "        const buttonEl =\n",
              "          document.querySelector('#df-b4637e06-46ec-4dc4-ac0e-32f679ecbdea button.colab-df-convert');\n",
              "        buttonEl.style.display =\n",
              "          google.colab.kernel.accessAllowed ? 'block' : 'none';\n",
              "\n",
              "        async function convertToInteractive(key) {\n",
              "          const element = document.querySelector('#df-b4637e06-46ec-4dc4-ac0e-32f679ecbdea');\n",
              "          const dataTable =\n",
              "            await google.colab.kernel.invokeFunction('convertToInteractive',\n",
              "                                                     [key], {});\n",
              "          if (!dataTable) return;\n",
              "\n",
              "          const docLinkHtml = 'Like what you see? Visit the ' +\n",
              "            '<a target=\"_blank\" href=https://colab.research.google.com/notebooks/data_table.ipynb>data table notebook</a>'\n",
              "            + ' to learn more about interactive tables.';\n",
              "          element.innerHTML = '';\n",
              "          dataTable['output_type'] = 'display_data';\n",
              "          await google.colab.output.renderOutput(dataTable, element);\n",
              "          const docLink = document.createElement('div');\n",
              "          docLink.innerHTML = docLinkHtml;\n",
              "          element.appendChild(docLink);\n",
              "        }\n",
              "      </script>\n",
              "    </div>\n",
              "  </div>\n",
              "  "
            ]
          },
          "metadata": {},
          "execution_count": 79
        }
      ]
    },
    {
      "cell_type": "markdown",
      "source": [
        "- Com um suporte mínimo de 25%, o modelo fez muitas associações. Vemos que todas elas associam algumas colunas com o aspecto dos clientes serem leais. Primeiro tempos homens com um antecedente de 0.5 para 0.81 de consequente. Além disso, mulheres possuem essa mesma associação com um antecedente de 0.49.\n",
        "- Outra associação foi criada mas no caso referente à categoria da viagem. Clientes com um antecedente de 0.47 de classe econômica possuem um consequente de 0.81 de serem clientes leais.\n",
        "- Uma associação parecida foi feita com uma avaliação 4 de compra de passagens online. com um antecedentes de 0.29 e um consequente de 0.81 para ser um cliente leal.\n",
        "- Além isso vemos que uma avaliação 4 de conforto de assento foi associada com o aspecto de um cliente ser leal, tendo um antecedente de 0.30 e um consequente de 0.81."
      ],
      "metadata": {
        "id": "CFvrayfmtIgp"
      }
    },
    {
      "cell_type": "markdown",
      "source": [
        "# Série temporal\n",
        "## Tema - Ações da microsoft\n",
        "\n",
        "A microsoft é uma empresa que já está a muito tempo no mercado. Ela é considerada uma gigante não só no segmento da tecnologia, mas como em vários outros. Sendo assim, ela possui uma margem boa de lucro e atrai muitos investidores para comprar seus ativos. O dataset contém rgistros dos preços de ativos da microsoft de 1986 até 2022. O objetivo aqui é tentar fazer um forecast dos valores de abertura das ações da microsoft.\n",
        "\n",
        "## Colunas\n",
        "\n",
        "- Date: Data do registro\n",
        "- Open: Valor de abertura\n",
        "- High: Valor mais alto no dia do registro\n",
        "- Low: Valor mais alto no dia do registro\n",
        "- Close: Valor de fechamento no dia do registro\n",
        "- Adj close: Variação entre abertura e fechamento (em %)\n",
        "- Volume: Volume de transações no dia do registro"
      ],
      "metadata": {
        "id": "Z3hFOpOzmrep"
      }
    },
    {
      "cell_type": "code",
      "source": [
        "ms_stocks = pd.read_csv('/content/drive/MyDrive/MicroSoft.csv')\n",
        "ms_stocks.head(4)"
      ],
      "metadata": {
        "colab": {
          "base_uri": "https://localhost:8080/",
          "height": 175
        },
        "id": "uJ-adAINEBxV",
        "outputId": "828d902d-7245-4d67-9ae1-698237e76c80"
      },
      "execution_count": null,
      "outputs": [
        {
          "output_type": "execute_result",
          "data": {
            "text/plain": [
              "         Date      Open      High       Low     Close  Adj Close      Volume\n",
              "0  1986-03-13  0.088542  0.101563  0.088542  0.097222   0.061109  1031788800\n",
              "1  1986-03-14  0.097222  0.102431  0.097222  0.100694   0.063292   308160000\n",
              "2  1986-03-17  0.100694  0.103299  0.100694  0.102431   0.064384   133171200\n",
              "3  1986-03-18  0.102431  0.103299  0.098958  0.099826   0.062746    67766400"
            ],
            "text/html": [
              "\n",
              "  <div id=\"df-ea112e94-3926-4da0-81cf-3de3ed0b7e85\">\n",
              "    <div class=\"colab-df-container\">\n",
              "      <div>\n",
              "<style scoped>\n",
              "    .dataframe tbody tr th:only-of-type {\n",
              "        vertical-align: middle;\n",
              "    }\n",
              "\n",
              "    .dataframe tbody tr th {\n",
              "        vertical-align: top;\n",
              "    }\n",
              "\n",
              "    .dataframe thead th {\n",
              "        text-align: right;\n",
              "    }\n",
              "</style>\n",
              "<table border=\"1\" class=\"dataframe\">\n",
              "  <thead>\n",
              "    <tr style=\"text-align: right;\">\n",
              "      <th></th>\n",
              "      <th>Date</th>\n",
              "      <th>Open</th>\n",
              "      <th>High</th>\n",
              "      <th>Low</th>\n",
              "      <th>Close</th>\n",
              "      <th>Adj Close</th>\n",
              "      <th>Volume</th>\n",
              "    </tr>\n",
              "  </thead>\n",
              "  <tbody>\n",
              "    <tr>\n",
              "      <th>0</th>\n",
              "      <td>1986-03-13</td>\n",
              "      <td>0.088542</td>\n",
              "      <td>0.101563</td>\n",
              "      <td>0.088542</td>\n",
              "      <td>0.097222</td>\n",
              "      <td>0.061109</td>\n",
              "      <td>1031788800</td>\n",
              "    </tr>\n",
              "    <tr>\n",
              "      <th>1</th>\n",
              "      <td>1986-03-14</td>\n",
              "      <td>0.097222</td>\n",
              "      <td>0.102431</td>\n",
              "      <td>0.097222</td>\n",
              "      <td>0.100694</td>\n",
              "      <td>0.063292</td>\n",
              "      <td>308160000</td>\n",
              "    </tr>\n",
              "    <tr>\n",
              "      <th>2</th>\n",
              "      <td>1986-03-17</td>\n",
              "      <td>0.100694</td>\n",
              "      <td>0.103299</td>\n",
              "      <td>0.100694</td>\n",
              "      <td>0.102431</td>\n",
              "      <td>0.064384</td>\n",
              "      <td>133171200</td>\n",
              "    </tr>\n",
              "    <tr>\n",
              "      <th>3</th>\n",
              "      <td>1986-03-18</td>\n",
              "      <td>0.102431</td>\n",
              "      <td>0.103299</td>\n",
              "      <td>0.098958</td>\n",
              "      <td>0.099826</td>\n",
              "      <td>0.062746</td>\n",
              "      <td>67766400</td>\n",
              "    </tr>\n",
              "  </tbody>\n",
              "</table>\n",
              "</div>\n",
              "      <button class=\"colab-df-convert\" onclick=\"convertToInteractive('df-ea112e94-3926-4da0-81cf-3de3ed0b7e85')\"\n",
              "              title=\"Convert this dataframe to an interactive table.\"\n",
              "              style=\"display:none;\">\n",
              "        \n",
              "  <svg xmlns=\"http://www.w3.org/2000/svg\" height=\"24px\"viewBox=\"0 0 24 24\"\n",
              "       width=\"24px\">\n",
              "    <path d=\"M0 0h24v24H0V0z\" fill=\"none\"/>\n",
              "    <path d=\"M18.56 5.44l.94 2.06.94-2.06 2.06-.94-2.06-.94-.94-2.06-.94 2.06-2.06.94zm-11 1L8.5 8.5l.94-2.06 2.06-.94-2.06-.94L8.5 2.5l-.94 2.06-2.06.94zm10 10l.94 2.06.94-2.06 2.06-.94-2.06-.94-.94-2.06-.94 2.06-2.06.94z\"/><path d=\"M17.41 7.96l-1.37-1.37c-.4-.4-.92-.59-1.43-.59-.52 0-1.04.2-1.43.59L10.3 9.45l-7.72 7.72c-.78.78-.78 2.05 0 2.83L4 21.41c.39.39.9.59 1.41.59.51 0 1.02-.2 1.41-.59l7.78-7.78 2.81-2.81c.8-.78.8-2.07 0-2.86zM5.41 20L4 18.59l7.72-7.72 1.47 1.35L5.41 20z\"/>\n",
              "  </svg>\n",
              "      </button>\n",
              "      \n",
              "  <style>\n",
              "    .colab-df-container {\n",
              "      display:flex;\n",
              "      flex-wrap:wrap;\n",
              "      gap: 12px;\n",
              "    }\n",
              "\n",
              "    .colab-df-convert {\n",
              "      background-color: #E8F0FE;\n",
              "      border: none;\n",
              "      border-radius: 50%;\n",
              "      cursor: pointer;\n",
              "      display: none;\n",
              "      fill: #1967D2;\n",
              "      height: 32px;\n",
              "      padding: 0 0 0 0;\n",
              "      width: 32px;\n",
              "    }\n",
              "\n",
              "    .colab-df-convert:hover {\n",
              "      background-color: #E2EBFA;\n",
              "      box-shadow: 0px 1px 2px rgba(60, 64, 67, 0.3), 0px 1px 3px 1px rgba(60, 64, 67, 0.15);\n",
              "      fill: #174EA6;\n",
              "    }\n",
              "\n",
              "    [theme=dark] .colab-df-convert {\n",
              "      background-color: #3B4455;\n",
              "      fill: #D2E3FC;\n",
              "    }\n",
              "\n",
              "    [theme=dark] .colab-df-convert:hover {\n",
              "      background-color: #434B5C;\n",
              "      box-shadow: 0px 1px 3px 1px rgba(0, 0, 0, 0.15);\n",
              "      filter: drop-shadow(0px 1px 2px rgba(0, 0, 0, 0.3));\n",
              "      fill: #FFFFFF;\n",
              "    }\n",
              "  </style>\n",
              "\n",
              "      <script>\n",
              "        const buttonEl =\n",
              "          document.querySelector('#df-ea112e94-3926-4da0-81cf-3de3ed0b7e85 button.colab-df-convert');\n",
              "        buttonEl.style.display =\n",
              "          google.colab.kernel.accessAllowed ? 'block' : 'none';\n",
              "\n",
              "        async function convertToInteractive(key) {\n",
              "          const element = document.querySelector('#df-ea112e94-3926-4da0-81cf-3de3ed0b7e85');\n",
              "          const dataTable =\n",
              "            await google.colab.kernel.invokeFunction('convertToInteractive',\n",
              "                                                     [key], {});\n",
              "          if (!dataTable) return;\n",
              "\n",
              "          const docLinkHtml = 'Like what you see? Visit the ' +\n",
              "            '<a target=\"_blank\" href=https://colab.research.google.com/notebooks/data_table.ipynb>data table notebook</a>'\n",
              "            + ' to learn more about interactive tables.';\n",
              "          element.innerHTML = '';\n",
              "          dataTable['output_type'] = 'display_data';\n",
              "          await google.colab.output.renderOutput(dataTable, element);\n",
              "          const docLink = document.createElement('div');\n",
              "          docLink.innerHTML = docLinkHtml;\n",
              "          element.appendChild(docLink);\n",
              "        }\n",
              "      </script>\n",
              "    </div>\n",
              "  </div>\n",
              "  "
            ]
          },
          "metadata": {},
          "execution_count": 3
        }
      ]
    },
    {
      "cell_type": "markdown",
      "source": [
        "## Análise estatística"
      ],
      "metadata": {
        "id": "_MyxDilyukQ9"
      }
    },
    {
      "cell_type": "code",
      "source": [
        "ms_stocks.info()"
      ],
      "metadata": {
        "colab": {
          "base_uri": "https://localhost:8080/"
        },
        "id": "SlRfAR2FEqSG",
        "outputId": "a31ed762-c547-4bca-9318-e061fe6831f3"
      },
      "execution_count": null,
      "outputs": [
        {
          "output_type": "stream",
          "name": "stdout",
          "text": [
            "<class 'pandas.core.frame.DataFrame'>\n",
            "RangeIndex: 9123 entries, 0 to 9122\n",
            "Data columns (total 7 columns):\n",
            " #   Column     Non-Null Count  Dtype  \n",
            "---  ------     --------------  -----  \n",
            " 0   Date       9123 non-null   object \n",
            " 1   Open       9123 non-null   float64\n",
            " 2   High       9123 non-null   float64\n",
            " 3   Low        9123 non-null   float64\n",
            " 4   Close      9123 non-null   float64\n",
            " 5   Adj Close  9123 non-null   float64\n",
            " 6   Volume     9123 non-null   int64  \n",
            "dtypes: float64(5), int64(1), object(1)\n",
            "memory usage: 499.0+ KB\n"
          ]
        }
      ]
    },
    {
      "cell_type": "code",
      "source": [
        "ms_stocks.describe(include='all')"
      ],
      "metadata": {
        "colab": {
          "base_uri": "https://localhost:8080/",
          "height": 394
        },
        "id": "hb2kyevPOFKn",
        "outputId": "fadba0c5-3930-49ce-ddd5-35499650822e"
      },
      "execution_count": null,
      "outputs": [
        {
          "output_type": "execute_result",
          "data": {
            "text/plain": [
              "              Date         Open         High          Low        Close  \\\n",
              "count         9123  9123.000000  9123.000000  9123.000000  9123.000000   \n",
              "unique        9123          NaN          NaN          NaN          NaN   \n",
              "top     1986-03-13          NaN          NaN          NaN          NaN   \n",
              "freq             1          NaN          NaN          NaN          NaN   \n",
              "mean           NaN    42.392231    42.840677    41.925526    42.396929   \n",
              "std            NaN    61.709954    62.312698    61.039026    61.704540   \n",
              "min            NaN     0.088542     0.092014     0.088542     0.090278   \n",
              "25%            NaN     4.386719     4.445312     4.343750     4.378906   \n",
              "50%            NaN    26.850000    27.139999    26.580000    26.870001   \n",
              "75%            NaN    40.425938    40.914062    39.849998    40.341875   \n",
              "max            NaN   344.619995   349.670013   342.200012   343.109985   \n",
              "\n",
              "          Adj Close        Volume  \n",
              "count   9123.000000  9.123000e+03  \n",
              "unique          NaN           NaN  \n",
              "top             NaN           NaN  \n",
              "freq            NaN           NaN  \n",
              "mean      37.239967  5.863917e+07  \n",
              "std       61.909650  3.840892e+07  \n",
              "min        0.056745  2.304000e+06  \n",
              "25%        2.752384  3.451390e+07  \n",
              "50%       18.936142  5.192870e+07  \n",
              "75%       29.389076  7.246935e+07  \n",
              "max      341.606384  1.031789e+09  "
            ],
            "text/html": [
              "\n",
              "  <div id=\"df-b698fcf4-904f-486f-9f10-cb02326430d0\">\n",
              "    <div class=\"colab-df-container\">\n",
              "      <div>\n",
              "<style scoped>\n",
              "    .dataframe tbody tr th:only-of-type {\n",
              "        vertical-align: middle;\n",
              "    }\n",
              "\n",
              "    .dataframe tbody tr th {\n",
              "        vertical-align: top;\n",
              "    }\n",
              "\n",
              "    .dataframe thead th {\n",
              "        text-align: right;\n",
              "    }\n",
              "</style>\n",
              "<table border=\"1\" class=\"dataframe\">\n",
              "  <thead>\n",
              "    <tr style=\"text-align: right;\">\n",
              "      <th></th>\n",
              "      <th>Date</th>\n",
              "      <th>Open</th>\n",
              "      <th>High</th>\n",
              "      <th>Low</th>\n",
              "      <th>Close</th>\n",
              "      <th>Adj Close</th>\n",
              "      <th>Volume</th>\n",
              "    </tr>\n",
              "  </thead>\n",
              "  <tbody>\n",
              "    <tr>\n",
              "      <th>count</th>\n",
              "      <td>9123</td>\n",
              "      <td>9123.000000</td>\n",
              "      <td>9123.000000</td>\n",
              "      <td>9123.000000</td>\n",
              "      <td>9123.000000</td>\n",
              "      <td>9123.000000</td>\n",
              "      <td>9.123000e+03</td>\n",
              "    </tr>\n",
              "    <tr>\n",
              "      <th>unique</th>\n",
              "      <td>9123</td>\n",
              "      <td>NaN</td>\n",
              "      <td>NaN</td>\n",
              "      <td>NaN</td>\n",
              "      <td>NaN</td>\n",
              "      <td>NaN</td>\n",
              "      <td>NaN</td>\n",
              "    </tr>\n",
              "    <tr>\n",
              "      <th>top</th>\n",
              "      <td>1986-03-13</td>\n",
              "      <td>NaN</td>\n",
              "      <td>NaN</td>\n",
              "      <td>NaN</td>\n",
              "      <td>NaN</td>\n",
              "      <td>NaN</td>\n",
              "      <td>NaN</td>\n",
              "    </tr>\n",
              "    <tr>\n",
              "      <th>freq</th>\n",
              "      <td>1</td>\n",
              "      <td>NaN</td>\n",
              "      <td>NaN</td>\n",
              "      <td>NaN</td>\n",
              "      <td>NaN</td>\n",
              "      <td>NaN</td>\n",
              "      <td>NaN</td>\n",
              "    </tr>\n",
              "    <tr>\n",
              "      <th>mean</th>\n",
              "      <td>NaN</td>\n",
              "      <td>42.392231</td>\n",
              "      <td>42.840677</td>\n",
              "      <td>41.925526</td>\n",
              "      <td>42.396929</td>\n",
              "      <td>37.239967</td>\n",
              "      <td>5.863917e+07</td>\n",
              "    </tr>\n",
              "    <tr>\n",
              "      <th>std</th>\n",
              "      <td>NaN</td>\n",
              "      <td>61.709954</td>\n",
              "      <td>62.312698</td>\n",
              "      <td>61.039026</td>\n",
              "      <td>61.704540</td>\n",
              "      <td>61.909650</td>\n",
              "      <td>3.840892e+07</td>\n",
              "    </tr>\n",
              "    <tr>\n",
              "      <th>min</th>\n",
              "      <td>NaN</td>\n",
              "      <td>0.088542</td>\n",
              "      <td>0.092014</td>\n",
              "      <td>0.088542</td>\n",
              "      <td>0.090278</td>\n",
              "      <td>0.056745</td>\n",
              "      <td>2.304000e+06</td>\n",
              "    </tr>\n",
              "    <tr>\n",
              "      <th>25%</th>\n",
              "      <td>NaN</td>\n",
              "      <td>4.386719</td>\n",
              "      <td>4.445312</td>\n",
              "      <td>4.343750</td>\n",
              "      <td>4.378906</td>\n",
              "      <td>2.752384</td>\n",
              "      <td>3.451390e+07</td>\n",
              "    </tr>\n",
              "    <tr>\n",
              "      <th>50%</th>\n",
              "      <td>NaN</td>\n",
              "      <td>26.850000</td>\n",
              "      <td>27.139999</td>\n",
              "      <td>26.580000</td>\n",
              "      <td>26.870001</td>\n",
              "      <td>18.936142</td>\n",
              "      <td>5.192870e+07</td>\n",
              "    </tr>\n",
              "    <tr>\n",
              "      <th>75%</th>\n",
              "      <td>NaN</td>\n",
              "      <td>40.425938</td>\n",
              "      <td>40.914062</td>\n",
              "      <td>39.849998</td>\n",
              "      <td>40.341875</td>\n",
              "      <td>29.389076</td>\n",
              "      <td>7.246935e+07</td>\n",
              "    </tr>\n",
              "    <tr>\n",
              "      <th>max</th>\n",
              "      <td>NaN</td>\n",
              "      <td>344.619995</td>\n",
              "      <td>349.670013</td>\n",
              "      <td>342.200012</td>\n",
              "      <td>343.109985</td>\n",
              "      <td>341.606384</td>\n",
              "      <td>1.031789e+09</td>\n",
              "    </tr>\n",
              "  </tbody>\n",
              "</table>\n",
              "</div>\n",
              "      <button class=\"colab-df-convert\" onclick=\"convertToInteractive('df-b698fcf4-904f-486f-9f10-cb02326430d0')\"\n",
              "              title=\"Convert this dataframe to an interactive table.\"\n",
              "              style=\"display:none;\">\n",
              "        \n",
              "  <svg xmlns=\"http://www.w3.org/2000/svg\" height=\"24px\"viewBox=\"0 0 24 24\"\n",
              "       width=\"24px\">\n",
              "    <path d=\"M0 0h24v24H0V0z\" fill=\"none\"/>\n",
              "    <path d=\"M18.56 5.44l.94 2.06.94-2.06 2.06-.94-2.06-.94-.94-2.06-.94 2.06-2.06.94zm-11 1L8.5 8.5l.94-2.06 2.06-.94-2.06-.94L8.5 2.5l-.94 2.06-2.06.94zm10 10l.94 2.06.94-2.06 2.06-.94-2.06-.94-.94-2.06-.94 2.06-2.06.94z\"/><path d=\"M17.41 7.96l-1.37-1.37c-.4-.4-.92-.59-1.43-.59-.52 0-1.04.2-1.43.59L10.3 9.45l-7.72 7.72c-.78.78-.78 2.05 0 2.83L4 21.41c.39.39.9.59 1.41.59.51 0 1.02-.2 1.41-.59l7.78-7.78 2.81-2.81c.8-.78.8-2.07 0-2.86zM5.41 20L4 18.59l7.72-7.72 1.47 1.35L5.41 20z\"/>\n",
              "  </svg>\n",
              "      </button>\n",
              "      \n",
              "  <style>\n",
              "    .colab-df-container {\n",
              "      display:flex;\n",
              "      flex-wrap:wrap;\n",
              "      gap: 12px;\n",
              "    }\n",
              "\n",
              "    .colab-df-convert {\n",
              "      background-color: #E8F0FE;\n",
              "      border: none;\n",
              "      border-radius: 50%;\n",
              "      cursor: pointer;\n",
              "      display: none;\n",
              "      fill: #1967D2;\n",
              "      height: 32px;\n",
              "      padding: 0 0 0 0;\n",
              "      width: 32px;\n",
              "    }\n",
              "\n",
              "    .colab-df-convert:hover {\n",
              "      background-color: #E2EBFA;\n",
              "      box-shadow: 0px 1px 2px rgba(60, 64, 67, 0.3), 0px 1px 3px 1px rgba(60, 64, 67, 0.15);\n",
              "      fill: #174EA6;\n",
              "    }\n",
              "\n",
              "    [theme=dark] .colab-df-convert {\n",
              "      background-color: #3B4455;\n",
              "      fill: #D2E3FC;\n",
              "    }\n",
              "\n",
              "    [theme=dark] .colab-df-convert:hover {\n",
              "      background-color: #434B5C;\n",
              "      box-shadow: 0px 1px 3px 1px rgba(0, 0, 0, 0.15);\n",
              "      filter: drop-shadow(0px 1px 2px rgba(0, 0, 0, 0.3));\n",
              "      fill: #FFFFFF;\n",
              "    }\n",
              "  </style>\n",
              "\n",
              "      <script>\n",
              "        const buttonEl =\n",
              "          document.querySelector('#df-b698fcf4-904f-486f-9f10-cb02326430d0 button.colab-df-convert');\n",
              "        buttonEl.style.display =\n",
              "          google.colab.kernel.accessAllowed ? 'block' : 'none';\n",
              "\n",
              "        async function convertToInteractive(key) {\n",
              "          const element = document.querySelector('#df-b698fcf4-904f-486f-9f10-cb02326430d0');\n",
              "          const dataTable =\n",
              "            await google.colab.kernel.invokeFunction('convertToInteractive',\n",
              "                                                     [key], {});\n",
              "          if (!dataTable) return;\n",
              "\n",
              "          const docLinkHtml = 'Like what you see? Visit the ' +\n",
              "            '<a target=\"_blank\" href=https://colab.research.google.com/notebooks/data_table.ipynb>data table notebook</a>'\n",
              "            + ' to learn more about interactive tables.';\n",
              "          element.innerHTML = '';\n",
              "          dataTable['output_type'] = 'display_data';\n",
              "          await google.colab.output.renderOutput(dataTable, element);\n",
              "          const docLink = document.createElement('div');\n",
              "          docLink.innerHTML = docLinkHtml;\n",
              "          element.appendChild(docLink);\n",
              "        }\n",
              "      </script>\n",
              "    </div>\n",
              "  </div>\n",
              "  "
            ]
          },
          "metadata": {},
          "execution_count": 82
        }
      ]
    },
    {
      "cell_type": "markdown",
      "source": [
        "Vemos que o valor mínimo de abertura encontrado foi 0.08, que deve ser referente aos primeiros anos da empresa. O valor máximo é de 334, e deve se referir ao momento atual em que a empresa possui um grande valor de mercado. No mais, temos que o maior valor até hoje foi de 349 dólares.\n",
        "O volume de transações já teve um mínimo de 2 milhões de transações ao dia e um máximo de 1 bilhão por dia, o que só pode ser explicado pela presença de robôs que fazem processos de compra e venda de ativos automaticamente nos dias de hoje."
      ],
      "metadata": {
        "id": "0D2hoXhIxkUm"
      }
    },
    {
      "cell_type": "markdown",
      "source": [
        "## Modelo"
      ],
      "metadata": {
        "id": "pHY3axC4uohk"
      }
    },
    {
      "cell_type": "code",
      "source": [
        "ms_stocks[\"Date\"] = pd.to_datetime(ms_stocks[\"Date\"])\n",
        "ms_stocks.index = ms_stocks['Date']\n",
        "ms_stocks = ms_stocks.drop(columns=['Date','High','Low','Adj Close','Close','Volume'])\n",
        "ms_stocks.plot(figsize=(12,8))"
      ],
      "metadata": {
        "colab": {
          "base_uri": "https://localhost:8080/",
          "height": 482
        },
        "id": "NdXEXGGuOxfH",
        "outputId": "b4dfff93-377b-4fed-f841-314839af0603"
      },
      "execution_count": null,
      "outputs": [
        {
          "output_type": "execute_result",
          "data": {
            "text/plain": [
              "<matplotlib.axes._subplots.AxesSubplot at 0x7f1ef1387d50>"
            ]
          },
          "metadata": {},
          "execution_count": 4
        },
        {
          "output_type": "display_data",
          "data": {
            "text/plain": [
              "<Figure size 864x576 with 1 Axes>"
            ],
            "image/png": "[encoded data removed]"
          },
          "metadata": {
            "needs_background": "light"
          }
        }
      ]
    },
    {
      "cell_type": "markdown",
      "source": [
        "O gráfico mostra que a chance da base ser estacionária é bem baixa, pois os valores variaram muito ao longo do tempo. Além disso, vemos que não há uma sazonalidade aqui pois não é possível enxergar regularidade temporais ao olhar esse gráfico. Desse modo, vamos ferificar a estacionariedade com a função adfuller."
      ],
      "metadata": {
        "id": "rp7t6wpYy_Ej"
      }
    },
    {
      "cell_type": "code",
      "source": [
        "from statsmodels.tsa.stattools import adfuller\n",
        "adfuller(ms_stocks['Open'])"
      ],
      "metadata": {
        "colab": {
          "base_uri": "https://localhost:8080/"
        },
        "id": "nXvRclQLPgqj",
        "outputId": "4c301f08-4472-41bd-cedc-984ee08360a3"
      },
      "execution_count": null,
      "outputs": [
        {
          "output_type": "execute_result",
          "data": {
            "text/plain": [
              "(3.1973263796137315,\n",
              " 1.0,\n",
              " 36,\n",
              " 9086,\n",
              " {'1%': -3.4310699150803217,\n",
              "  '10%': -2.56693934945597,\n",
              "  '5%': -2.861858156116734},\n",
              " 30370.33723479991)"
            ]
          },
          "metadata": {},
          "execution_count": 5
        }
      ]
    },
    {
      "cell_type": "markdown",
      "source": [
        "Como podemos ver, temos um valor 0 positivo e um valor p equivalente a 1, o que significa 100% de probabilidade da série ser não-estacionária. Nesse caso, é necessário fazer uma transformação nela antes de aplicar o modelo arima."
      ],
      "metadata": {
        "id": "H0XcA_0Xzkq6"
      }
    },
    {
      "cell_type": "code",
      "source": [
        "abertura_ok = ms_stocks.diff().dropna()"
      ],
      "metadata": {
        "id": "UNzUKArYPoHs"
      },
      "execution_count": null,
      "outputs": []
    },
    {
      "cell_type": "markdown",
      "source": [
        "Fazendo as diferenciações para ter uma chance de estacionariedade menor."
      ],
      "metadata": {
        "id": "wtAJYf7Y0KAZ"
      }
    },
    {
      "cell_type": "code",
      "source": [
        "adfuller(abertura_ok['Open'])"
      ],
      "metadata": {
        "colab": {
          "base_uri": "https://localhost:8080/"
        },
        "id": "ciMec0qvP9Iz",
        "outputId": "288f9198-4135-4149-e0d7-8e809e5891ef"
      },
      "execution_count": null,
      "outputs": [
        {
          "output_type": "execute_result",
          "data": {
            "text/plain": [
              "(-14.753688865646152,\n",
              " 2.4625951501960266e-27,\n",
              " 38,\n",
              " 9083,\n",
              " {'1%': -3.4310701529264156,\n",
              "  '10%': -2.566939405401195,\n",
              "  '5%': -2.8618582612166548},\n",
              " 30364.0747327415)"
            ]
          },
          "metadata": {},
          "execution_count": 7
        }
      ]
    },
    {
      "cell_type": "code",
      "source": [
        "treino_arima = abertura_ok.loc['13-03-1986':'05-03-2016']\n",
        "teste_arima = abertura_ok.loc['06-03-2016':]\n",
        "print(treino_arima.shape + teste_arima.shape)"
      ],
      "metadata": {
        "colab": {
          "base_uri": "https://localhost:8080/"
        },
        "id": "J-7-GZd3QA2x",
        "outputId": "65c2ef20-fc37-445f-c368-3b1086939c92"
      },
      "execution_count": null,
      "outputs": [
        {
          "output_type": "stream",
          "name": "stdout",
          "text": [
            "(8353, 1, 750, 1)\n"
          ]
        }
      ]
    },
    {
      "cell_type": "markdown",
      "source": [
        "Com uma chance de ser estacionária tendendo a 0 agora, é possível aplicar o modelo de autoregressão temporal e fazer um forecast. Antes de tudo, foi necessário transformar a base de dados em 90% treino e 10% teste"
      ],
      "metadata": {
        "id": "DIdnQ8750Ox9"
      }
    },
    {
      "cell_type": "code",
      "source": [
        "from pmdarima.arima import auto_arima\n",
        "arr = auto_arima(treino_arima,trace = True,m=5)\n",
        "arr.fit(treino_arima)"
      ],
      "metadata": {
        "colab": {
          "base_uri": "https://localhost:8080/"
        },
        "id": "NX95VVsbQdMr",
        "outputId": "edbe3e6d-f4e8-4519-fce6-48ac90972298"
      },
      "execution_count": null,
      "outputs": [
        {
          "output_type": "stream",
          "name": "stdout",
          "text": [
            "Performing stepwise search to minimize aic\n",
            " ARIMA(2,0,2)(1,0,1)[5] intercept   : AIC=11345.844, Time=22.72 sec\n",
            " ARIMA(0,0,0)(0,0,0)[5] intercept   : AIC=11345.204, Time=0.62 sec\n",
            " ARIMA(1,0,0)(1,0,0)[5] intercept   : AIC=11342.608, Time=1.51 sec\n",
            " ARIMA(0,0,1)(0,0,1)[5] intercept   : AIC=11342.584, Time=2.33 sec\n",
            " ARIMA(0,0,0)(0,0,0)[5]             : AIC=11344.480, Time=0.25 sec\n",
            " ARIMA(0,0,1)(0,0,0)[5] intercept   : AIC=11342.608, Time=0.76 sec\n",
            " ARIMA(0,0,1)(1,0,1)[5] intercept   : AIC=11343.772, Time=6.65 sec\n",
            " ARIMA(0,0,1)(0,0,2)[5] intercept   : AIC=11341.804, Time=3.54 sec\n",
            " ARIMA(0,0,1)(1,0,2)[5] intercept   : AIC=11343.740, Time=9.20 sec\n",
            " ARIMA(0,0,0)(0,0,2)[5] intercept   : AIC=11344.220, Time=2.90 sec\n",
            " ARIMA(1,0,1)(0,0,2)[5] intercept   : AIC=11341.725, Time=16.01 sec\n",
            " ARIMA(1,0,1)(0,0,1)[5] intercept   : AIC=11342.590, Time=16.45 sec\n",
            " ARIMA(1,0,1)(1,0,2)[5] intercept   : AIC=11344.696, Time=16.89 sec\n",
            " ARIMA(1,0,1)(1,0,1)[5] intercept   : AIC=11343.804, Time=11.43 sec\n",
            " ARIMA(1,0,0)(0,0,2)[5] intercept   : AIC=11341.901, Time=3.84 sec\n",
            " ARIMA(2,0,1)(0,0,2)[5] intercept   : AIC=11343.607, Time=12.77 sec\n",
            " ARIMA(1,0,2)(0,0,2)[5] intercept   : AIC=11344.575, Time=16.80 sec\n",
            " ARIMA(0,0,2)(0,0,2)[5] intercept   : AIC=11342.864, Time=5.12 sec\n",
            " ARIMA(2,0,0)(0,0,2)[5] intercept   : AIC=11343.050, Time=4.01 sec\n",
            " ARIMA(2,0,2)(0,0,2)[5] intercept   : AIC=11343.838, Time=30.25 sec\n",
            " ARIMA(1,0,1)(0,0,2)[5]             : AIC=11341.116, Time=6.13 sec\n",
            " ARIMA(1,0,1)(0,0,1)[5]             : AIC=11342.044, Time=2.35 sec\n",
            " ARIMA(1,0,1)(1,0,2)[5]             : AIC=11343.049, Time=7.37 sec\n",
            " ARIMA(1,0,1)(1,0,1)[5]             : AIC=11343.250, Time=2.85 sec\n",
            " ARIMA(0,0,1)(0,0,2)[5]             : AIC=11341.131, Time=1.38 sec\n",
            " ARIMA(1,0,0)(0,0,2)[5]             : AIC=11341.225, Time=1.30 sec\n",
            " ARIMA(2,0,1)(0,0,2)[5]             : AIC=11343.002, Time=5.38 sec\n",
            " ARIMA(1,0,2)(0,0,2)[5]             : AIC=11343.880, Time=7.04 sec\n",
            " ARIMA(0,0,0)(0,0,2)[5]             : AIC=11343.484, Time=1.06 sec\n",
            " ARIMA(0,0,2)(0,0,2)[5]             : AIC=11342.221, Time=2.50 sec\n",
            " ARIMA(2,0,0)(0,0,2)[5]             : AIC=11342.401, Time=1.43 sec\n",
            " ARIMA(2,0,2)(0,0,2)[5]             : AIC=11343.223, Time=9.44 sec\n",
            "\n",
            "Best model:  ARIMA(1,0,1)(0,0,2)[5]          \n",
            "Total fit time: 232.520 seconds\n"
          ]
        },
        {
          "output_type": "execute_result",
          "data": {
            "text/plain": [
              "ARIMA(order=(1, 0, 1), scoring_args={}, seasonal_order=(0, 0, 2, 5),\n",
              "      suppress_warnings=True, with_intercept=False)"
            ]
          },
          "metadata": {},
          "execution_count": 15
        }
      ]
    },
    {
      "cell_type": "markdown",
      "source": [
        "O melhor modelo obtido foi uma autoregressão de 1, média móvel de 0 e integração de 1. ARIMA(1,0,1). Feito isso, vamos fazer o forecast para os próximos 35 períodos."
      ],
      "metadata": {
        "id": "NIkpPxGP0d-_"
      }
    },
    {
      "cell_type": "code",
      "source": [
        "pred = arr.predict(35)\n",
        "plt.plot(pred,color='red')"
      ],
      "metadata": {
        "colab": {
          "base_uri": "https://localhost:8080/",
          "height": 282
        },
        "id": "WPePTylccDaf",
        "outputId": "3649ea60-2f09-4dd2-ac89-a71845e81610"
      },
      "execution_count": null,
      "outputs": [
        {
          "output_type": "execute_result",
          "data": {
            "text/plain": [
              "[<matplotlib.lines.Line2D at 0x7f1edaf1efd0>]"
            ]
          },
          "metadata": {},
          "execution_count": 26
        },
        {
          "output_type": "display_data",
          "data": {
            "text/plain": [
              "<Figure size 432x288 with 1 Axes>"
            ],
            "image/png": "[encoded data removed]"
          },
          "metadata": {
            "needs_background": "light"
          }
        }
      ]
    },
    {
      "cell_type": "markdown",
      "source": [
        "Ao analisar o forecast dos próximos 35 períodos, vemos que há uma queda significativa na variação dos valores de abertura nos primeiros 3 dias, mas com uma subida. Depois, ocorre uma oscilação entre o quarto e décimo período. Após isso, a variação do valor de abertura tende a uma estagnação para o restante dos períodos. Sendo assim, o modelo fez um bom forecast dos valores de abertura e poderia ser usado no contexto do mercado financeiro."
      ],
      "metadata": {
        "id": "Isr8cP2Q0vtZ"
      }
    }
  ]
}