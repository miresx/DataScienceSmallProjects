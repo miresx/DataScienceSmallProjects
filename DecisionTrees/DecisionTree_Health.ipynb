{
  "nbformat": 4,
  "nbformat_minor": 0,
  "metadata": {
    "colab": {
      "provenance": []
    },
    "kernelspec": {
      "name": "python3",
      "display_name": "Python 3"
    },
    "language_info": {
      "name": "python"
    }
  },
  "cells": [
    {
      "cell_type": "code",
      "source": [
        "from google.colab import drive\n",
        "drive.mount('/content/drive')"
      ],
      "metadata": {
        "id": "2aVV6n5bVTJu",
        "colab": {
          "base_uri": "https://localhost:8080/"
        },
        "outputId": "0edf6667-7da8-4b46-b213-695e99886b2f"
      },
      "execution_count": null,
      "outputs": [
        {
          "output_type": "stream",
          "name": "stdout",
          "text": [
            "Drive already mounted at /content/drive; to attempt to forcibly remount, call drive.mount(\"/content/drive\", force_remount=True).\n"
          ]
        }
      ]
    },
    {
      "cell_type": "markdown",
      "source": [
        "### **Introdução**\n",
        "\n",
        "O conjunto de dados que irá ser utilizado contém informações sobre a vida e sintomas dos pacientes. Ao todo ele possui 17 atributos: a idade, gênero, poliúra, polidipsia, perda de peso, fadiga, polifagia, candidíase, visão embaçada, coceira, irritabilidade da pele, cicatrização atrasada, enfaquecimento dos músculos, calvície, obesidade e Diagnóstico para diabetes. Esse banco de dados foi extraído de  questionários realizados no hospital de Sylhet em Bagladesh,e tem como função servir de base para modelos que possam prever a ocorrência de diabetes.l em algum paciente dada as informações dele. **Dessa maneira, o objetivo principal desta análise é  criar um modelo que sirva como ferramenta para médicos clínicos poderem fazer uma triagem mais eficiente dos seus pacientes baseados nos seus sintomas e encaminhá-los a um tratamento adequado com a maior antecedência possível**\n"
      ],
      "metadata": {
        "id": "P2N7YcLSPvAP"
      }
    },
    {
      "cell_type": "markdown",
      "source": [
        "### **Variáveis**\n",
        "\n",
        "**Sex** - Gênero do paciente \\\n",
        "  Valores: Masculino, feminino\n",
        "\n",
        "**Age** - Idade do paciente em anos \\\n",
        "\n",
        "**poliúra**\n",
        "(sim, não)\n",
        "\n",
        "**polidipsia**\n",
        "(sim, não)\n",
        "\n",
        "**perda de peso**\n",
        "(sim, não)\n",
        "\n",
        "**fadiga**\n",
        "(sim, não)\n",
        "\n",
        "**polifagia**\n",
        "(sim, não)\n",
        "\n",
        "**candidíase**\n",
        "(sim, não)\n",
        "\n",
        "**visão embaçada**\n",
        "(sim, não)\n",
        "\n",
        "**coceira**\\\n",
        "(sim, não)\n",
        "\n",
        "**irritabilidade da pele**\n",
        "(sim, não)\n",
        "\n",
        "**cicatrização atrasada**\n",
        "(sim, não)\n",
        "\n",
        "**enfaquecimento dos músculos**\n",
        "(sim, não\n",
        "\n",
        "**calvície**\n",
        "(sim, não)\n",
        "\n",
        "**obesidade**\n",
        "(sim, não)\n",
        "\n",
        "**Diagnóstico de diabetes**\n",
        "(sim, não)\n"
      ],
      "metadata": {
        "id": "fCl3glRyU2iv"
      }
    },
    {
      "cell_type": "code",
      "source": [
        "import pandas as pd\n",
        "import seaborn as sns\n",
        "df = pd.read_csv('/content/drive/MyDrive/diabetes.csv')\n",
        "df.head()"
      ],
      "metadata": {
        "id": "fT3bbOCOU0da",
        "colab": {
          "base_uri": "https://localhost:8080/",
          "height": 206
        },
        "outputId": "87ba23d8-03eb-4abf-cc3d-32297e80cc9f"
      },
      "execution_count": null,
      "outputs": [
        {
          "output_type": "execute_result",
          "data": {
            "text/plain": [
              "   Age Gender Polyuria Polydipsia sudden weight loss weakness Polyphagia  \\\n",
              "0   40   Male       No        Yes                 No      Yes         No   \n",
              "1   58   Male       No         No                 No      Yes         No   \n",
              "2   41   Male      Yes         No                 No      Yes        Yes   \n",
              "3   45   Male       No         No                Yes      Yes        Yes   \n",
              "4   60   Male      Yes        Yes                Yes      Yes        Yes   \n",
              "\n",
              "  Genital thrush visual blurring Itching Irritability delayed healing  \\\n",
              "0             No              No     Yes           No             Yes   \n",
              "1             No             Yes      No           No              No   \n",
              "2             No              No     Yes           No             Yes   \n",
              "3            Yes              No     Yes           No             Yes   \n",
              "4             No             Yes     Yes          Yes             Yes   \n",
              "\n",
              "  partial paresis muscle stiffness Alopecia Obesity     class  \n",
              "0              No              Yes      Yes     Yes  Positive  \n",
              "1             Yes               No      Yes      No  Positive  \n",
              "2              No              Yes      Yes      No  Positive  \n",
              "3              No               No       No      No  Positive  \n",
              "4             Yes              Yes      Yes     Yes  Positive  "
            ],
            "text/html": [
              "\n",
              "  <div id=\"df-512528ff-11bc-47b7-8678-45d650184c5c\">\n",
              "    <div class=\"colab-df-container\">\n",
              "      <div>\n",
              "<style scoped>\n",
              "    .dataframe tbody tr th:only-of-type {\n",
              "        vertical-align: middle;\n",
              "    }\n",
              "\n",
              "    .dataframe tbody tr th {\n",
              "        vertical-align: top;\n",
              "    }\n",
              "\n",
              "    .dataframe thead th {\n",
              "        text-align: right;\n",
              "    }\n",
              "</style>\n",
              "<table border=\"1\" class=\"dataframe\">\n",
              "  <thead>\n",
              "    <tr style=\"text-align: right;\">\n",
              "      <th></th>\n",
              "      <th>Age</th>\n",
              "      <th>Gender</th>\n",
              "      <th>Polyuria</th>\n",
              "      <th>Polydipsia</th>\n",
              "      <th>sudden weight loss</th>\n",
              "      <th>weakness</th>\n",
              "      <th>Polyphagia</th>\n",
              "      <th>Genital thrush</th>\n",
              "      <th>visual blurring</th>\n",
              "      <th>Itching</th>\n",
              "      <th>Irritability</th>\n",
              "      <th>delayed healing</th>\n",
              "      <th>partial paresis</th>\n",
              "      <th>muscle stiffness</th>\n",
              "      <th>Alopecia</th>\n",
              "      <th>Obesity</th>\n",
              "      <th>class</th>\n",
              "    </tr>\n",
              "  </thead>\n",
              "  <tbody>\n",
              "    <tr>\n",
              "      <th>0</th>\n",
              "      <td>40</td>\n",
              "      <td>Male</td>\n",
              "      <td>No</td>\n",
              "      <td>Yes</td>\n",
              "      <td>No</td>\n",
              "      <td>Yes</td>\n",
              "      <td>No</td>\n",
              "      <td>No</td>\n",
              "      <td>No</td>\n",
              "      <td>Yes</td>\n",
              "      <td>No</td>\n",
              "      <td>Yes</td>\n",
              "      <td>No</td>\n",
              "      <td>Yes</td>\n",
              "      <td>Yes</td>\n",
              "      <td>Yes</td>\n",
              "      <td>Positive</td>\n",
              "    </tr>\n",
              "    <tr>\n",
              "      <th>1</th>\n",
              "      <td>58</td>\n",
              "      <td>Male</td>\n",
              "      <td>No</td>\n",
              "      <td>No</td>\n",
              "      <td>No</td>\n",
              "      <td>Yes</td>\n",
              "      <td>No</td>\n",
              "      <td>No</td>\n",
              "      <td>Yes</td>\n",
              "      <td>No</td>\n",
              "      <td>No</td>\n",
              "      <td>No</td>\n",
              "      <td>Yes</td>\n",
              "      <td>No</td>\n",
              "      <td>Yes</td>\n",
              "      <td>No</td>\n",
              "      <td>Positive</td>\n",
              "    </tr>\n",
              "    <tr>\n",
              "      <th>2</th>\n",
              "      <td>41</td>\n",
              "      <td>Male</td>\n",
              "      <td>Yes</td>\n",
              "      <td>No</td>\n",
              "      <td>No</td>\n",
              "      <td>Yes</td>\n",
              "      <td>Yes</td>\n",
              "      <td>No</td>\n",
              "      <td>No</td>\n",
              "      <td>Yes</td>\n",
              "      <td>No</td>\n",
              "      <td>Yes</td>\n",
              "      <td>No</td>\n",
              "      <td>Yes</td>\n",
              "      <td>Yes</td>\n",
              "      <td>No</td>\n",
              "      <td>Positive</td>\n",
              "    </tr>\n",
              "    <tr>\n",
              "      <th>3</th>\n",
              "      <td>45</td>\n",
              "      <td>Male</td>\n",
              "      <td>No</td>\n",
              "      <td>No</td>\n",
              "      <td>Yes</td>\n",
              "      <td>Yes</td>\n",
              "      <td>Yes</td>\n",
              "      <td>Yes</td>\n",
              "      <td>No</td>\n",
              "      <td>Yes</td>\n",
              "      <td>No</td>\n",
              "      <td>Yes</td>\n",
              "      <td>No</td>\n",
              "      <td>No</td>\n",
              "      <td>No</td>\n",
              "      <td>No</td>\n",
              "      <td>Positive</td>\n",
              "    </tr>\n",
              "    <tr>\n",
              "      <th>4</th>\n",
              "      <td>60</td>\n",
              "      <td>Male</td>\n",
              "      <td>Yes</td>\n",
              "      <td>Yes</td>\n",
              "      <td>Yes</td>\n",
              "      <td>Yes</td>\n",
              "      <td>Yes</td>\n",
              "      <td>No</td>\n",
              "      <td>Yes</td>\n",
              "      <td>Yes</td>\n",
              "      <td>Yes</td>\n",
              "      <td>Yes</td>\n",
              "      <td>Yes</td>\n",
              "      <td>Yes</td>\n",
              "      <td>Yes</td>\n",
              "      <td>Yes</td>\n",
              "      <td>Positive</td>\n",
              "    </tr>\n",
              "  </tbody>\n",
              "</table>\n",
              "</div>\n",
              "      <button class=\"colab-df-convert\" onclick=\"convertToInteractive('df-512528ff-11bc-47b7-8678-45d650184c5c')\"\n",
              "              title=\"Convert this dataframe to an interactive table.\"\n",
              "              style=\"display:none;\">\n",
              "        \n",
              "  <svg xmlns=\"http://www.w3.org/2000/svg\" height=\"24px\"viewBox=\"0 0 24 24\"\n",
              "       width=\"24px\">\n",
              "    <path d=\"M0 0h24v24H0V0z\" fill=\"none\"/>\n",
              "    <path d=\"M18.56 5.44l.94 2.06.94-2.06 2.06-.94-2.06-.94-.94-2.06-.94 2.06-2.06.94zm-11 1L8.5 8.5l.94-2.06 2.06-.94-2.06-.94L8.5 2.5l-.94 2.06-2.06.94zm10 10l.94 2.06.94-2.06 2.06-.94-2.06-.94-.94-2.06-.94 2.06-2.06.94z\"/><path d=\"M17.41 7.96l-1.37-1.37c-.4-.4-.92-.59-1.43-.59-.52 0-1.04.2-1.43.59L10.3 9.45l-7.72 7.72c-.78.78-.78 2.05 0 2.83L4 21.41c.39.39.9.59 1.41.59.51 0 1.02-.2 1.41-.59l7.78-7.78 2.81-2.81c.8-.78.8-2.07 0-2.86zM5.41 20L4 18.59l7.72-7.72 1.47 1.35L5.41 20z\"/>\n",
              "  </svg>\n",
              "      </button>\n",
              "      \n",
              "  <style>\n",
              "    .colab-df-container {\n",
              "      display:flex;\n",
              "      flex-wrap:wrap;\n",
              "      gap: 12px;\n",
              "    }\n",
              "\n",
              "    .colab-df-convert {\n",
              "      background-color: #E8F0FE;\n",
              "      border: none;\n",
              "      border-radius: 50%;\n",
              "      cursor: pointer;\n",
              "      display: none;\n",
              "      fill: #1967D2;\n",
              "      height: 32px;\n",
              "      padding: 0 0 0 0;\n",
              "      width: 32px;\n",
              "    }\n",
              "\n",
              "    .colab-df-convert:hover {\n",
              "      background-color: #E2EBFA;\n",
              "      box-shadow: 0px 1px 2px rgba(60, 64, 67, 0.3), 0px 1px 3px 1px rgba(60, 64, 67, 0.15);\n",
              "      fill: #174EA6;\n",
              "    }\n",
              "\n",
              "    [theme=dark] .colab-df-convert {\n",
              "      background-color: #3B4455;\n",
              "      fill: #D2E3FC;\n",
              "    }\n",
              "\n",
              "    [theme=dark] .colab-df-convert:hover {\n",
              "      background-color: #434B5C;\n",
              "      box-shadow: 0px 1px 3px 1px rgba(0, 0, 0, 0.15);\n",
              "      filter: drop-shadow(0px 1px 2px rgba(0, 0, 0, 0.3));\n",
              "      fill: #FFFFFF;\n",
              "    }\n",
              "  </style>\n",
              "\n",
              "      <script>\n",
              "        const buttonEl =\n",
              "          document.querySelector('#df-512528ff-11bc-47b7-8678-45d650184c5c button.colab-df-convert');\n",
              "        buttonEl.style.display =\n",
              "          google.colab.kernel.accessAllowed ? 'block' : 'none';\n",
              "\n",
              "        async function convertToInteractive(key) {\n",
              "          const element = document.querySelector('#df-512528ff-11bc-47b7-8678-45d650184c5c');\n",
              "          const dataTable =\n",
              "            await google.colab.kernel.invokeFunction('convertToInteractive',\n",
              "                                                     [key], {});\n",
              "          if (!dataTable) return;\n",
              "\n",
              "          const docLinkHtml = 'Like what you see? Visit the ' +\n",
              "            '<a target=\"_blank\" href=https://colab.research.google.com/notebooks/data_table.ipynb>data table notebook</a>'\n",
              "            + ' to learn more about interactive tables.';\n",
              "          element.innerHTML = '';\n",
              "          dataTable['output_type'] = 'display_data';\n",
              "          await google.colab.output.renderOutput(dataTable, element);\n",
              "          const docLink = document.createElement('div');\n",
              "          docLink.innerHTML = docLinkHtml;\n",
              "          element.appendChild(docLink);\n",
              "        }\n",
              "      </script>\n",
              "    </div>\n",
              "  </div>\n",
              "  "
            ]
          },
          "metadata": {},
          "execution_count": 31
        }
      ]
    },
    {
      "cell_type": "markdown",
      "source": [
        "### **Análise exploratória da base de dados**"
      ],
      "metadata": {
        "id": "iiL_fsC0fJk5"
      }
    },
    {
      "cell_type": "code",
      "source": [
        "df.info()"
      ],
      "metadata": {
        "colab": {
          "base_uri": "https://localhost:8080/"
        },
        "id": "Maa00dtq380J",
        "outputId": "a4f20c99-0581-43ae-c0e7-088bea646d24"
      },
      "execution_count": null,
      "outputs": [
        {
          "output_type": "stream",
          "name": "stdout",
          "text": [
            "<class 'pandas.core.frame.DataFrame'>\n",
            "RangeIndex: 520 entries, 0 to 519\n",
            "Data columns (total 17 columns):\n",
            " #   Column              Non-Null Count  Dtype \n",
            "---  ------              --------------  ----- \n",
            " 0   Age                 520 non-null    int64 \n",
            " 1   Gender              520 non-null    object\n",
            " 2   Polyuria            520 non-null    object\n",
            " 3   Polydipsia          520 non-null    object\n",
            " 4   sudden weight loss  520 non-null    object\n",
            " 5   weakness            520 non-null    object\n",
            " 6   Polyphagia          520 non-null    object\n",
            " 7   Genital thrush      520 non-null    object\n",
            " 8   visual blurring     520 non-null    object\n",
            " 9   Itching             520 non-null    object\n",
            " 10  Irritability        520 non-null    object\n",
            " 11  delayed healing     520 non-null    object\n",
            " 12  partial paresis     520 non-null    object\n",
            " 13  muscle stiffness    520 non-null    object\n",
            " 14  Alopecia            520 non-null    object\n",
            " 15  Obesity             520 non-null    object\n",
            " 16  class               520 non-null    object\n",
            "dtypes: int64(1), object(16)\n",
            "memory usage: 69.2+ KB\n"
          ]
        }
      ]
    },
    {
      "cell_type": "code",
      "source": [
        "df.describe(include='all')"
      ],
      "metadata": {
        "colab": {
          "base_uri": "https://localhost:8080/",
          "height": 455
        },
        "id": "z4Md7h2K4Rxp",
        "outputId": "ae6180ff-b564-498a-8ca7-57ecb4206a87"
      },
      "execution_count": null,
      "outputs": [
        {
          "output_type": "execute_result",
          "data": {
            "text/plain": [
              "               Age Gender Polyuria Polydipsia sudden weight loss weakness  \\\n",
              "count   520.000000    520      520        520                520      520   \n",
              "unique         NaN      2        2          2                  2        2   \n",
              "top            NaN   Male       No         No                 No      Yes   \n",
              "freq           NaN    328      262        287                303      305   \n",
              "mean     48.028846    NaN      NaN        NaN                NaN      NaN   \n",
              "std      12.151466    NaN      NaN        NaN                NaN      NaN   \n",
              "min      16.000000    NaN      NaN        NaN                NaN      NaN   \n",
              "25%      39.000000    NaN      NaN        NaN                NaN      NaN   \n",
              "50%      47.500000    NaN      NaN        NaN                NaN      NaN   \n",
              "75%      57.000000    NaN      NaN        NaN                NaN      NaN   \n",
              "max      90.000000    NaN      NaN        NaN                NaN      NaN   \n",
              "\n",
              "       Polyphagia Genital thrush visual blurring Itching Irritability  \\\n",
              "count         520            520             520     520          520   \n",
              "unique          2              2               2       2            2   \n",
              "top            No             No              No      No           No   \n",
              "freq          283            404             287     267          394   \n",
              "mean          NaN            NaN             NaN     NaN          NaN   \n",
              "std           NaN            NaN             NaN     NaN          NaN   \n",
              "min           NaN            NaN             NaN     NaN          NaN   \n",
              "25%           NaN            NaN             NaN     NaN          NaN   \n",
              "50%           NaN            NaN             NaN     NaN          NaN   \n",
              "75%           NaN            NaN             NaN     NaN          NaN   \n",
              "max           NaN            NaN             NaN     NaN          NaN   \n",
              "\n",
              "       delayed healing partial paresis muscle stiffness Alopecia Obesity  \\\n",
              "count              520             520              520      520     520   \n",
              "unique               2               2                2        2       2   \n",
              "top                 No              No               No       No      No   \n",
              "freq               281             296              325      341     432   \n",
              "mean               NaN             NaN              NaN      NaN     NaN   \n",
              "std                NaN             NaN              NaN      NaN     NaN   \n",
              "min                NaN             NaN              NaN      NaN     NaN   \n",
              "25%                NaN             NaN              NaN      NaN     NaN   \n",
              "50%                NaN             NaN              NaN      NaN     NaN   \n",
              "75%                NaN             NaN              NaN      NaN     NaN   \n",
              "max                NaN             NaN              NaN      NaN     NaN   \n",
              "\n",
              "           class  \n",
              "count        520  \n",
              "unique         2  \n",
              "top     Positive  \n",
              "freq         320  \n",
              "mean         NaN  \n",
              "std          NaN  \n",
              "min          NaN  \n",
              "25%          NaN  \n",
              "50%          NaN  \n",
              "75%          NaN  \n",
              "max          NaN  "
            ],
            "text/html": [
              "\n",
              "  <div id=\"df-2a498caa-84ff-4c10-ad22-78fe1123d021\">\n",
              "    <div class=\"colab-df-container\">\n",
              "      <div>\n",
              "<style scoped>\n",
              "    .dataframe tbody tr th:only-of-type {\n",
              "        vertical-align: middle;\n",
              "    }\n",
              "\n",
              "    .dataframe tbody tr th {\n",
              "        vertical-align: top;\n",
              "    }\n",
              "\n",
              "    .dataframe thead th {\n",
              "        text-align: right;\n",
              "    }\n",
              "</style>\n",
              "<table border=\"1\" class=\"dataframe\">\n",
              "  <thead>\n",
              "    <tr style=\"text-align: right;\">\n",
              "      <th></th>\n",
              "      <th>Age</th>\n",
              "      <th>Gender</th>\n",
              "      <th>Polyuria</th>\n",
              "      <th>Polydipsia</th>\n",
              "      <th>sudden weight loss</th>\n",
              "      <th>weakness</th>\n",
              "      <th>Polyphagia</th>\n",
              "      <th>Genital thrush</th>\n",
              "      <th>visual blurring</th>\n",
              "      <th>Itching</th>\n",
              "      <th>Irritability</th>\n",
              "      <th>delayed healing</th>\n",
              "      <th>partial paresis</th>\n",
              "      <th>muscle stiffness</th>\n",
              "      <th>Alopecia</th>\n",
              "      <th>Obesity</th>\n",
              "      <th>class</th>\n",
              "    </tr>\n",
              "  </thead>\n",
              "  <tbody>\n",
              "    <tr>\n",
              "      <th>count</th>\n",
              "      <td>520.000000</td>\n",
              "      <td>520</td>\n",
              "      <td>520</td>\n",
              "      <td>520</td>\n",
              "      <td>520</td>\n",
              "      <td>520</td>\n",
              "      <td>520</td>\n",
              "      <td>520</td>\n",
              "      <td>520</td>\n",
              "      <td>520</td>\n",
              "      <td>520</td>\n",
              "      <td>520</td>\n",
              "      <td>520</td>\n",
              "      <td>520</td>\n",
              "      <td>520</td>\n",
              "      <td>520</td>\n",
              "      <td>520</td>\n",
              "    </tr>\n",
              "    <tr>\n",
              "      <th>unique</th>\n",
              "      <td>NaN</td>\n",
              "      <td>2</td>\n",
              "      <td>2</td>\n",
              "      <td>2</td>\n",
              "      <td>2</td>\n",
              "      <td>2</td>\n",
              "      <td>2</td>\n",
              "      <td>2</td>\n",
              "      <td>2</td>\n",
              "      <td>2</td>\n",
              "      <td>2</td>\n",
              "      <td>2</td>\n",
              "      <td>2</td>\n",
              "      <td>2</td>\n",
              "      <td>2</td>\n",
              "      <td>2</td>\n",
              "      <td>2</td>\n",
              "    </tr>\n",
              "    <tr>\n",
              "      <th>top</th>\n",
              "      <td>NaN</td>\n",
              "      <td>Male</td>\n",
              "      <td>No</td>\n",
              "      <td>No</td>\n",
              "      <td>No</td>\n",
              "      <td>Yes</td>\n",
              "      <td>No</td>\n",
              "      <td>No</td>\n",
              "      <td>No</td>\n",
              "      <td>No</td>\n",
              "      <td>No</td>\n",
              "      <td>No</td>\n",
              "      <td>No</td>\n",
              "      <td>No</td>\n",
              "      <td>No</td>\n",
              "      <td>No</td>\n",
              "      <td>Positive</td>\n",
              "    </tr>\n",
              "    <tr>\n",
              "      <th>freq</th>\n",
              "      <td>NaN</td>\n",
              "      <td>328</td>\n",
              "      <td>262</td>\n",
              "      <td>287</td>\n",
              "      <td>303</td>\n",
              "      <td>305</td>\n",
              "      <td>283</td>\n",
              "      <td>404</td>\n",
              "      <td>287</td>\n",
              "      <td>267</td>\n",
              "      <td>394</td>\n",
              "      <td>281</td>\n",
              "      <td>296</td>\n",
              "      <td>325</td>\n",
              "      <td>341</td>\n",
              "      <td>432</td>\n",
              "      <td>320</td>\n",
              "    </tr>\n",
              "    <tr>\n",
              "      <th>mean</th>\n",
              "      <td>48.028846</td>\n",
              "      <td>NaN</td>\n",
              "      <td>NaN</td>\n",
              "      <td>NaN</td>\n",
              "      <td>NaN</td>\n",
              "      <td>NaN</td>\n",
              "      <td>NaN</td>\n",
              "      <td>NaN</td>\n",
              "      <td>NaN</td>\n",
              "      <td>NaN</td>\n",
              "      <td>NaN</td>\n",
              "      <td>NaN</td>\n",
              "      <td>NaN</td>\n",
              "      <td>NaN</td>\n",
              "      <td>NaN</td>\n",
              "      <td>NaN</td>\n",
              "      <td>NaN</td>\n",
              "    </tr>\n",
              "    <tr>\n",
              "      <th>std</th>\n",
              "      <td>12.151466</td>\n",
              "      <td>NaN</td>\n",
              "      <td>NaN</td>\n",
              "      <td>NaN</td>\n",
              "      <td>NaN</td>\n",
              "      <td>NaN</td>\n",
              "      <td>NaN</td>\n",
              "      <td>NaN</td>\n",
              "      <td>NaN</td>\n",
              "      <td>NaN</td>\n",
              "      <td>NaN</td>\n",
              "      <td>NaN</td>\n",
              "      <td>NaN</td>\n",
              "      <td>NaN</td>\n",
              "      <td>NaN</td>\n",
              "      <td>NaN</td>\n",
              "      <td>NaN</td>\n",
              "    </tr>\n",
              "    <tr>\n",
              "      <th>min</th>\n",
              "      <td>16.000000</td>\n",
              "      <td>NaN</td>\n",
              "      <td>NaN</td>\n",
              "      <td>NaN</td>\n",
              "      <td>NaN</td>\n",
              "      <td>NaN</td>\n",
              "      <td>NaN</td>\n",
              "      <td>NaN</td>\n",
              "      <td>NaN</td>\n",
              "      <td>NaN</td>\n",
              "      <td>NaN</td>\n",
              "      <td>NaN</td>\n",
              "      <td>NaN</td>\n",
              "      <td>NaN</td>\n",
              "      <td>NaN</td>\n",
              "      <td>NaN</td>\n",
              "      <td>NaN</td>\n",
              "    </tr>\n",
              "    <tr>\n",
              "      <th>25%</th>\n",
              "      <td>39.000000</td>\n",
              "      <td>NaN</td>\n",
              "      <td>NaN</td>\n",
              "      <td>NaN</td>\n",
              "      <td>NaN</td>\n",
              "      <td>NaN</td>\n",
              "      <td>NaN</td>\n",
              "      <td>NaN</td>\n",
              "      <td>NaN</td>\n",
              "      <td>NaN</td>\n",
              "      <td>NaN</td>\n",
              "      <td>NaN</td>\n",
              "      <td>NaN</td>\n",
              "      <td>NaN</td>\n",
              "      <td>NaN</td>\n",
              "      <td>NaN</td>\n",
              "      <td>NaN</td>\n",
              "    </tr>\n",
              "    <tr>\n",
              "      <th>50%</th>\n",
              "      <td>47.500000</td>\n",
              "      <td>NaN</td>\n",
              "      <td>NaN</td>\n",
              "      <td>NaN</td>\n",
              "      <td>NaN</td>\n",
              "      <td>NaN</td>\n",
              "      <td>NaN</td>\n",
              "      <td>NaN</td>\n",
              "      <td>NaN</td>\n",
              "      <td>NaN</td>\n",
              "      <td>NaN</td>\n",
              "      <td>NaN</td>\n",
              "      <td>NaN</td>\n",
              "      <td>NaN</td>\n",
              "      <td>NaN</td>\n",
              "      <td>NaN</td>\n",
              "      <td>NaN</td>\n",
              "    </tr>\n",
              "    <tr>\n",
              "      <th>75%</th>\n",
              "      <td>57.000000</td>\n",
              "      <td>NaN</td>\n",
              "      <td>NaN</td>\n",
              "      <td>NaN</td>\n",
              "      <td>NaN</td>\n",
              "      <td>NaN</td>\n",
              "      <td>NaN</td>\n",
              "      <td>NaN</td>\n",
              "      <td>NaN</td>\n",
              "      <td>NaN</td>\n",
              "      <td>NaN</td>\n",
              "      <td>NaN</td>\n",
              "      <td>NaN</td>\n",
              "      <td>NaN</td>\n",
              "      <td>NaN</td>\n",
              "      <td>NaN</td>\n",
              "      <td>NaN</td>\n",
              "    </tr>\n",
              "    <tr>\n",
              "      <th>max</th>\n",
              "      <td>90.000000</td>\n",
              "      <td>NaN</td>\n",
              "      <td>NaN</td>\n",
              "      <td>NaN</td>\n",
              "      <td>NaN</td>\n",
              "      <td>NaN</td>\n",
              "      <td>NaN</td>\n",
              "      <td>NaN</td>\n",
              "      <td>NaN</td>\n",
              "      <td>NaN</td>\n",
              "      <td>NaN</td>\n",
              "      <td>NaN</td>\n",
              "      <td>NaN</td>\n",
              "      <td>NaN</td>\n",
              "      <td>NaN</td>\n",
              "      <td>NaN</td>\n",
              "      <td>NaN</td>\n",
              "    </tr>\n",
              "  </tbody>\n",
              "</table>\n",
              "</div>\n",
              "      <button class=\"colab-df-convert\" onclick=\"convertToInteractive('df-2a498caa-84ff-4c10-ad22-78fe1123d021')\"\n",
              "              title=\"Convert this dataframe to an interactive table.\"\n",
              "              style=\"display:none;\">\n",
              "        \n",
              "  <svg xmlns=\"http://www.w3.org/2000/svg\" height=\"24px\"viewBox=\"0 0 24 24\"\n",
              "       width=\"24px\">\n",
              "    <path d=\"M0 0h24v24H0V0z\" fill=\"none\"/>\n",
              "    <path d=\"M18.56 5.44l.94 2.06.94-2.06 2.06-.94-2.06-.94-.94-2.06-.94 2.06-2.06.94zm-11 1L8.5 8.5l.94-2.06 2.06-.94-2.06-.94L8.5 2.5l-.94 2.06-2.06.94zm10 10l.94 2.06.94-2.06 2.06-.94-2.06-.94-.94-2.06-.94 2.06-2.06.94z\"/><path d=\"M17.41 7.96l-1.37-1.37c-.4-.4-.92-.59-1.43-.59-.52 0-1.04.2-1.43.59L10.3 9.45l-7.72 7.72c-.78.78-.78 2.05 0 2.83L4 21.41c.39.39.9.59 1.41.59.51 0 1.02-.2 1.41-.59l7.78-7.78 2.81-2.81c.8-.78.8-2.07 0-2.86zM5.41 20L4 18.59l7.72-7.72 1.47 1.35L5.41 20z\"/>\n",
              "  </svg>\n",
              "      </button>\n",
              "      \n",
              "  <style>\n",
              "    .colab-df-container {\n",
              "      display:flex;\n",
              "      flex-wrap:wrap;\n",
              "      gap: 12px;\n",
              "    }\n",
              "\n",
              "    .colab-df-convert {\n",
              "      background-color: #E8F0FE;\n",
              "      border: none;\n",
              "      border-radius: 50%;\n",
              "      cursor: pointer;\n",
              "      display: none;\n",
              "      fill: #1967D2;\n",
              "      height: 32px;\n",
              "      padding: 0 0 0 0;\n",
              "      width: 32px;\n",
              "    }\n",
              "\n",
              "    .colab-df-convert:hover {\n",
              "      background-color: #E2EBFA;\n",
              "      box-shadow: 0px 1px 2px rgba(60, 64, 67, 0.3), 0px 1px 3px 1px rgba(60, 64, 67, 0.15);\n",
              "      fill: #174EA6;\n",
              "    }\n",
              "\n",
              "    [theme=dark] .colab-df-convert {\n",
              "      background-color: #3B4455;\n",
              "      fill: #D2E3FC;\n",
              "    }\n",
              "\n",
              "    [theme=dark] .colab-df-convert:hover {\n",
              "      background-color: #434B5C;\n",
              "      box-shadow: 0px 1px 3px 1px rgba(0, 0, 0, 0.15);\n",
              "      filter: drop-shadow(0px 1px 2px rgba(0, 0, 0, 0.3));\n",
              "      fill: #FFFFFF;\n",
              "    }\n",
              "  </style>\n",
              "\n",
              "      <script>\n",
              "        const buttonEl =\n",
              "          document.querySelector('#df-2a498caa-84ff-4c10-ad22-78fe1123d021 button.colab-df-convert');\n",
              "        buttonEl.style.display =\n",
              "          google.colab.kernel.accessAllowed ? 'block' : 'none';\n",
              "\n",
              "        async function convertToInteractive(key) {\n",
              "          const element = document.querySelector('#df-2a498caa-84ff-4c10-ad22-78fe1123d021');\n",
              "          const dataTable =\n",
              "            await google.colab.kernel.invokeFunction('convertToInteractive',\n",
              "                                                     [key], {});\n",
              "          if (!dataTable) return;\n",
              "\n",
              "          const docLinkHtml = 'Like what you see? Visit the ' +\n",
              "            '<a target=\"_blank\" href=https://colab.research.google.com/notebooks/data_table.ipynb>data table notebook</a>'\n",
              "            + ' to learn more about interactive tables.';\n",
              "          element.innerHTML = '';\n",
              "          dataTable['output_type'] = 'display_data';\n",
              "          await google.colab.output.renderOutput(dataTable, element);\n",
              "          const docLink = document.createElement('div');\n",
              "          docLink.innerHTML = docLinkHtml;\n",
              "          element.appendChild(docLink);\n",
              "        }\n",
              "      </script>\n",
              "    </div>\n",
              "  </div>\n",
              "  "
            ]
          },
          "metadata": {},
          "execution_count": 8
        }
      ]
    },
    {
      "cell_type": "code",
      "source": [
        "df['class'].value_counts()"
      ],
      "metadata": {
        "id": "wk3IX0xfK-Vp",
        "colab": {
          "base_uri": "https://localhost:8080/"
        },
        "outputId": "0b7da9b5-cb7e-4c63-cee2-5d1e8d781a81"
      },
      "execution_count": null,
      "outputs": [
        {
          "output_type": "execute_result",
          "data": {
            "text/plain": [
              "Positive    320\n",
              "Negative    200\n",
              "Name: class, dtype: int64"
            ]
          },
          "metadata": {},
          "execution_count": 6
        }
      ]
    },
    {
      "cell_type": "code",
      "source": [
        "df['class'].value_counts().plot.pie(subplots=True)"
      ],
      "metadata": {
        "colab": {
          "base_uri": "https://localhost:8080/",
          "height": 284
        },
        "id": "KEqq9POHfPV-",
        "outputId": "bcfd787f-7249-4d5d-9677-050f994b881e"
      },
      "execution_count": null,
      "outputs": [
        {
          "output_type": "execute_result",
          "data": {
            "text/plain": [
              "array([<matplotlib.axes._subplots.AxesSubplot object at 0x7f9edf4e75d0>],\n",
              "      dtype=object)"
            ]
          },
          "metadata": {},
          "execution_count": 7
        },
        {
          "output_type": "display_data",
          "data": {
            "text/plain": [
              "<Figure size 432x288 with 1 Axes>"
            ],
            "image/png": "[encoded data removed]"
          },
          "metadata": {}
        }
      ]
    },
    {
      "cell_type": "markdown",
      "source": [
        "O gráfico de pizza mostra que existe uma distribuição uniforme de casos positivos e negativos"
      ],
      "metadata": {
        "id": "guCXFREIB5Wh"
      }
    },
    {
      "cell_type": "code",
      "source": [
        "pd.crosstab([df['Polyuria']], df['class']).plot.bar()"
      ],
      "metadata": {
        "colab": {
          "base_uri": "https://localhost:8080/",
          "height": 304
        },
        "id": "7oNQ0HtsCNu-",
        "outputId": "a9172766-28ba-4f64-bd1b-3ff7b00ce480"
      },
      "execution_count": null,
      "outputs": [
        {
          "output_type": "execute_result",
          "data": {
            "text/plain": [
              "<matplotlib.axes._subplots.AxesSubplot at 0x7f86950b9b90>"
            ]
          },
          "metadata": {},
          "execution_count": 10
        },
        {
          "output_type": "display_data",
          "data": {
            "text/plain": [
              "<Figure size 432x288 with 1 Axes>"
            ],
            "image/png": "[encoded data removed]"
          },
          "metadata": {
            "needs_background": "light"
          }
        }
      ]
    },
    {
      "cell_type": "markdown",
      "source": [
        "Esse gráfico evidencia que na grande maioria dos casos positivos, o sintoma de poliúra está presente, o que pode ser um indicativo importante para diabetes."
      ],
      "metadata": {
        "id": "ucwhEXw5CleH"
      }
    },
    {
      "cell_type": "code",
      "source": [
        "pd.crosstab([df['Obesity']], df['class']).plot.bar()"
      ],
      "metadata": {
        "colab": {
          "base_uri": "https://localhost:8080/",
          "height": 304
        },
        "id": "Gk5guKdbCv2K",
        "outputId": "ebcc0fa9-94b1-48f6-a182-ae954b2fe769"
      },
      "execution_count": null,
      "outputs": [
        {
          "output_type": "execute_result",
          "data": {
            "text/plain": [
              "<matplotlib.axes._subplots.AxesSubplot at 0x7f8694c50890>"
            ]
          },
          "metadata": {},
          "execution_count": 14
        },
        {
          "output_type": "display_data",
          "data": {
            "text/plain": [
              "<Figure size 432x288 with 1 Axes>"
            ],
            "image/png": "[encoded data removed]"
          },
          "metadata": {
            "needs_background": "light"
          }
        }
      ]
    },
    {
      "cell_type": "markdown",
      "source": [
        "Esse gráfico mostra que o fator da obesidade não é decisivo na hora de concluir se uma pessoa tem diabetes, pois muitos pacientes que não são obesos testaram positivo."
      ],
      "metadata": {
        "id": "r7haygClDi-E"
      }
    },
    {
      "cell_type": "code",
      "source": [
        "pd.crosstab([df['Polyphagia']], df['class']).plot.bar()"
      ],
      "metadata": {
        "colab": {
          "base_uri": "https://localhost:8080/",
          "height": 304
        },
        "id": "LRGg53RND1sA",
        "outputId": "5c3aace6-42a1-4d03-c204-bc1e30d4355b"
      },
      "execution_count": null,
      "outputs": [
        {
          "output_type": "execute_result",
          "data": {
            "text/plain": [
              "<matplotlib.axes._subplots.AxesSubplot at 0x7f8695012590>"
            ]
          },
          "metadata": {},
          "execution_count": 15
        },
        {
          "output_type": "display_data",
          "data": {
            "text/plain": [
              "<Figure size 432x288 with 1 Axes>"
            ],
            "image/png": "[encoded data removed]"
          },
          "metadata": {
            "needs_background": "light"
          }
        }
      ]
    },
    {
      "cell_type": "markdown",
      "source": [
        "Aqui é possível observar um fenômeno interessante: casos que negativaram diabetes possuem uma distribuição mais uniforme de polifagia. Por outro lado, casos que positivaram para diabetes possuem uma quantidade muito maior de sintomas de polifagia. Isso pode indicar que esse sintoma também pode ser determinante para o diagnóstico positivo"
      ],
      "metadata": {
        "id": "b_D7ZSLaE1YX"
      }
    },
    {
      "cell_type": "code",
      "source": [
        "Categorias = ['Criança','Jovem','Adulto','Idoso(65-75)','Idoso(75-100']\n",
        "Intervalos = [0,10,18,65,75,100]\n",
        "faixas = pd.cut(df['Age'], bins = Intervalos, labels = Categorias)\n",
        "df2 = pd.concat([df['class'],faixas],axis=1 )\n",
        "pd.crosstab([df2['Age']], df2['class']).plot.bar()"
      ],
      "metadata": {
        "colab": {
          "base_uri": "https://localhost:8080/",
          "height": 353
        },
        "id": "5K23ui4SGnCO",
        "outputId": "59fa4e4a-a712-4dec-9920-88ba59408d86"
      },
      "execution_count": null,
      "outputs": [
        {
          "output_type": "execute_result",
          "data": {
            "text/plain": [
              "<matplotlib.axes._subplots.AxesSubplot at 0x7f9ed52ce1d0>"
            ]
          },
          "metadata": {},
          "execution_count": 33
        },
        {
          "output_type": "display_data",
          "data": {
            "text/plain": [
              "<Figure size 432x288 with 1 Axes>"
            ],
            "image/png": "[encoded data removed]"
          },
          "metadata": {
            "needs_background": "light"
          }
        }
      ]
    },
    {
      "cell_type": "markdown",
      "source": [
        "Esse gráfico mostra a ocorrência dos diagnósticos de diabetes para as faixas de idade. Como é possível observar, a grande parte dos pacientes está na faixa adulta, que também é onde os diagnósticos positivos e negativos estão distribuídos mais uniformemente. A partir do momento que a idade avança, é possível observar que o número de diagnósticos positivos vai ficando maior se proporcionalmente comparado com o dos negativos. Isso pode indicar que pacientes com uma idade mais avançada possuem risco maior de contrair diabetes."
      ],
      "metadata": {
        "id": "4TXrG-A9I8as"
      }
    },
    {
      "cell_type": "code",
      "source": [
        "for col in df.columns:\n",
        "  df[col].replace(['No', 'Yes'],[0, 1], inplace=True)\n",
        "\n",
        "df['class'].replace(['Positive','Negative'],[1,0],inplace=True)\n",
        "df['Gender'].replace(['Male','Female'],[1,0],inplace=True)\n",
        "\n",
        "sns.heatmap(df.corr())"
      ],
      "metadata": {
        "colab": {
          "base_uri": "https://localhost:8080/",
          "height": 374
        },
        "id": "DrRCknhzKdTc",
        "outputId": "90337227-2973-4724-a23a-9c43c6b69b74"
      },
      "execution_count": null,
      "outputs": [
        {
          "output_type": "execute_result",
          "data": {
            "text/plain": [
              "<matplotlib.axes._subplots.AxesSubplot at 0x7f3039474450>"
            ]
          },
          "metadata": {},
          "execution_count": 32
        },
        {
          "output_type": "display_data",
          "data": {
            "text/plain": [
              "<Figure size 432x288 with 2 Axes>"
            ],
            "image/png": "[encoded data removed]"
          },
          "metadata": {
            "needs_background": "light"
          }
        }
      ]
    },
    {
      "cell_type": "markdown",
      "source": [
        "Aqui é possível observar que as correlações mais fortes entre o diagnóstico positivo e os sintomas são em relação à poliúra e polidipsia, como evidenciado anteriormente"
      ],
      "metadata": {
        "id": "LuXQY3fRMBHg"
      }
    },
    {
      "cell_type": "markdown",
      "source": [
        "### **Processamento dos dados**\n"
      ],
      "metadata": {
        "id": "kmkeCV3Wy8rk"
      }
    },
    {
      "cell_type": "code",
      "source": [
        "from sklearn.model_selection import train_test_split\n",
        "treino, teste = train_test_split(df, train_size=0.8)"
      ],
      "metadata": {
        "id": "S0jRyEO4d8iz"
      },
      "execution_count": null,
      "outputs": []
    },
    {
      "cell_type": "markdown",
      "source": [
        "Dividindo a base de dados em 80% para treino e 20% para teste"
      ],
      "metadata": {
        "id": "VmZYTAeZgcor"
      }
    },
    {
      "cell_type": "code",
      "source": [
        "from sklearn.tree import DecisionTreeClassifier\n",
        "tree = DecisionTreeClassifier(max_depth=4)\n",
        "tree.fit(treino[['Age','Gender','Polyuria','Polydipsia','sudden weight loss','weakness','Polyphagia','Genital thrush','visual blurring','Itching','Irritability','delayed healing','partial paresis','muscle stiffness','Alopecia','Obesity']],treino['class'])\n",
        "acrr_treino = tree.score(treino[['Age','Gender','Polyuria','Polydipsia','sudden weight loss','weakness','Polyphagia','Genital thrush','visual blurring','Itching','Irritability','delayed healing','partial paresis','muscle stiffness','Alopecia','Obesity']],treino['class'])\n",
        "acrr_treino*100"
      ],
      "metadata": {
        "id": "9OUBbvI5f-0l",
        "colab": {
          "base_uri": "https://localhost:8080/"
        },
        "outputId": "0a8d51b7-2bdc-4e18-b818-4315b2a40343"
      },
      "execution_count": null,
      "outputs": [
        {
          "output_type": "execute_result",
          "data": {
            "text/plain": [
              "93.26923076923077"
            ]
          },
          "metadata": {},
          "execution_count": 34
        }
      ]
    },
    {
      "cell_type": "markdown",
      "source": [
        "93% de acurácia é perfeito para o objetivo de negócio. Dados alguns sintomas do paciente, ele consegue diferenciar com uma baixa taxa de erro quais pacientes estão de fato com diabetes ou não."
      ],
      "metadata": {
        "id": "W8NuAbdmXxyf"
      }
    },
    {
      "cell_type": "code",
      "source": [
        "from sklearn.tree import export_graphviz\n",
        "from graphviz import Source\n",
        "dot_data = export_graphviz(tree,filled=True,feature_names = ['Age','Gender','Polyuria','Polydipsia','sudden weight loss','weakness','Polyphagia','Genital thrush','visual blurring','Itching','Irritability','delayed healing','partial paresis','muscle stiffness','Alopecia','Obesity'], class_names = ['Não propenso','Propenso'])\n",
        "Source (dot_data)"
      ],
      "metadata": {
        "id": "Po4rTdKJd9ZE",
        "colab": {
          "base_uri": "https://localhost:8080/",
          "height": 776
        },
        "outputId": "9ba7e984-b55b-4066-b1c7-153020c53cbd"
      },
      "execution_count": null,
      "outputs": [
        {
          "output_type": "execute_result",
          "data": {
            "text/plain": [
              "<graphviz.files.Source at 0x7f8684035f10>"
            ],
            "image/svg+xml": "<?xml version=\"1.0\" encoding=\"UTF-8\" standalone=\"no\"?>\n<!DOCTYPE svg PUBLIC \"-//W3C//DTD SVG 1.1//EN\"\n \"http://www.w3.org/Graphics/SVG/1.1/DTD/svg11.dtd\">\n<!-- Generated by graphviz version 2.40.1 (20161225.0304)\n -->\n<!-- Title: Tree Pages: 1 -->\n<svg width=\"1609pt\" height=\"552pt\"\n viewBox=\"0.00 0.00 1608.50 552.00\" xmlns=\"http://www.w3.org/2000/svg\" xmlns:xlink=\"http://www.w3.org/1999/xlink\">\n<g id=\"graph0\" class=\"graph\" transform=\"scale(1 1) rotate(0) translate(4 548)\">\n<title>Tree</title>\n<polygon fill=\"#ffffff\" stroke=\"transparent\" points=\"-4,4 -4,-548 1604.5,-548 1604.5,4 -4,4\"/>\n<!-- 0 -->\n<g id=\"node1\" class=\"node\">\n<title>0</title>\n<polygon fill=\"#b1d8f5\" stroke=\"#000000\" points=\"1270.5,-544 1138.5,-544 1138.5,-461 1270.5,-461 1270.5,-544\"/>\n<text text-anchor=\"middle\" x=\"1204.5\" y=\"-528.8\" font-family=\"Helvetica,sans-Serif\" font-size=\"14.00\" fill=\"#000000\">Polydipsia &lt;= 0.5</text>\n<text text-anchor=\"middle\" x=\"1204.5\" y=\"-513.8\" font-family=\"Helvetica,sans-Serif\" font-size=\"14.00\" fill=\"#000000\">gini = 0.47</text>\n<text text-anchor=\"middle\" x=\"1204.5\" y=\"-498.8\" font-family=\"Helvetica,sans-Serif\" font-size=\"14.00\" fill=\"#000000\">samples = 416</text>\n<text text-anchor=\"middle\" x=\"1204.5\" y=\"-483.8\" font-family=\"Helvetica,sans-Serif\" font-size=\"14.00\" fill=\"#000000\">value = [157, 259]</text>\n<text text-anchor=\"middle\" x=\"1204.5\" y=\"-468.8\" font-family=\"Helvetica,sans-Serif\" font-size=\"14.00\" fill=\"#000000\">class = Propenso</text>\n</g>\n<!-- 1 -->\n<g id=\"node2\" class=\"node\">\n<title>1</title>\n<polygon fill=\"#f3c3a1\" stroke=\"#000000\" points=\"1032.5,-425 874.5,-425 874.5,-342 1032.5,-342 1032.5,-425\"/>\n<text text-anchor=\"middle\" x=\"953.5\" y=\"-409.8\" font-family=\"Helvetica,sans-Serif\" font-size=\"14.00\" fill=\"#000000\">Gender &lt;= 0.5</text>\n<text text-anchor=\"middle\" x=\"953.5\" y=\"-394.8\" font-family=\"Helvetica,sans-Serif\" font-size=\"14.00\" fill=\"#000000\">gini = 0.452</text>\n<text text-anchor=\"middle\" x=\"953.5\" y=\"-379.8\" font-family=\"Helvetica,sans-Serif\" font-size=\"14.00\" fill=\"#000000\">samples = 232</text>\n<text text-anchor=\"middle\" x=\"953.5\" y=\"-364.8\" font-family=\"Helvetica,sans-Serif\" font-size=\"14.00\" fill=\"#000000\">value = [152, 80]</text>\n<text text-anchor=\"middle\" x=\"953.5\" y=\"-349.8\" font-family=\"Helvetica,sans-Serif\" font-size=\"14.00\" fill=\"#000000\">class = Não propenso</text>\n</g>\n<!-- 0&#45;&gt;1 -->\n<g id=\"edge1\" class=\"edge\">\n<title>0&#45;&gt;1</title>\n<path fill=\"none\" stroke=\"#000000\" d=\"M1138.2244,-471.0785C1108.7453,-457.1024 1073.6096,-440.4444 1041.9345,-425.4271\"/>\n<polygon fill=\"#000000\" stroke=\"#000000\" points=\"1043.1996,-422.1535 1032.6643,-421.0321 1040.2008,-428.4786 1043.1996,-422.1535\"/>\n<text text-anchor=\"middle\" x=\"1041.0646\" y=\"-440.8785\" font-family=\"Helvetica,sans-Serif\" font-size=\"14.00\" fill=\"#000000\">True</text>\n</g>\n<!-- 16 -->\n<g id=\"node17\" class=\"node\">\n<title>16</title>\n<polygon fill=\"#3fa0e6\" stroke=\"#000000\" points=\"1424,-425 1295,-425 1295,-342 1424,-342 1424,-425\"/>\n<text text-anchor=\"middle\" x=\"1359.5\" y=\"-409.8\" font-family=\"Helvetica,sans-Serif\" font-size=\"14.00\" fill=\"#000000\">Polyuria &lt;= 0.5</text>\n<text text-anchor=\"middle\" x=\"1359.5\" y=\"-394.8\" font-family=\"Helvetica,sans-Serif\" font-size=\"14.00\" fill=\"#000000\">gini = 0.053</text>\n<text text-anchor=\"middle\" x=\"1359.5\" y=\"-379.8\" font-family=\"Helvetica,sans-Serif\" font-size=\"14.00\" fill=\"#000000\">samples = 184</text>\n<text text-anchor=\"middle\" x=\"1359.5\" y=\"-364.8\" font-family=\"Helvetica,sans-Serif\" font-size=\"14.00\" fill=\"#000000\">value = [5, 179]</text>\n<text text-anchor=\"middle\" x=\"1359.5\" y=\"-349.8\" font-family=\"Helvetica,sans-Serif\" font-size=\"14.00\" fill=\"#000000\">class = Propenso</text>\n</g>\n<!-- 0&#45;&gt;16 -->\n<g id=\"edge16\" class=\"edge\">\n<title>0&#45;&gt;16</title>\n<path fill=\"none\" stroke=\"#000000\" d=\"M1258.7115,-460.8796C1271.1006,-451.368 1284.3649,-441.1843 1297.0676,-431.432\"/>\n<polygon fill=\"#000000\" stroke=\"#000000\" points=\"1299.5186,-433.9628 1305.3191,-425.0969 1295.2558,-428.4105 1299.5186,-433.9628\"/>\n<text text-anchor=\"middle\" x=\"1302.0624\" y=\"-446.1839\" font-family=\"Helvetica,sans-Serif\" font-size=\"14.00\" fill=\"#000000\">False</text>\n</g>\n<!-- 2 -->\n<g id=\"node3\" class=\"node\">\n<title>2</title>\n<polygon fill=\"#78bced\" stroke=\"#000000\" points=\"519,-306 390,-306 390,-223 519,-223 519,-306\"/>\n<text text-anchor=\"middle\" x=\"454.5\" y=\"-290.8\" font-family=\"Helvetica,sans-Serif\" font-size=\"14.00\" fill=\"#000000\">Alopecia &lt;= 0.5</text>\n<text text-anchor=\"middle\" x=\"454.5\" y=\"-275.8\" font-family=\"Helvetica,sans-Serif\" font-size=\"14.00\" fill=\"#000000\">gini = 0.366</text>\n<text text-anchor=\"middle\" x=\"454.5\" y=\"-260.8\" font-family=\"Helvetica,sans-Serif\" font-size=\"14.00\" fill=\"#000000\">samples = 58</text>\n<text text-anchor=\"middle\" x=\"454.5\" y=\"-245.8\" font-family=\"Helvetica,sans-Serif\" font-size=\"14.00\" fill=\"#000000\">value = [14, 44]</text>\n<text text-anchor=\"middle\" x=\"454.5\" y=\"-230.8\" font-family=\"Helvetica,sans-Serif\" font-size=\"14.00\" fill=\"#000000\">class = Propenso</text>\n</g>\n<!-- 1&#45;&gt;2 -->\n<g id=\"edge2\" class=\"edge\">\n<title>1&#45;&gt;2</title>\n<path fill=\"none\" stroke=\"#000000\" d=\"M874.432,-364.6441C779.6401,-342.0384 621.9776,-304.4395 529.1783,-282.3091\"/>\n<polygon fill=\"#000000\" stroke=\"#000000\" points=\"529.838,-278.8683 519.2988,-279.953 528.2141,-285.6773 529.838,-278.8683\"/>\n</g>\n<!-- 9 -->\n<g id=\"node10\" class=\"node\">\n<title>9</title>\n<polygon fill=\"#eca26d\" stroke=\"#000000\" points=\"1032.5,-306 874.5,-306 874.5,-223 1032.5,-223 1032.5,-306\"/>\n<text text-anchor=\"middle\" x=\"953.5\" y=\"-290.8\" font-family=\"Helvetica,sans-Serif\" font-size=\"14.00\" fill=\"#000000\">Polyuria &lt;= 0.5</text>\n<text text-anchor=\"middle\" x=\"953.5\" y=\"-275.8\" font-family=\"Helvetica,sans-Serif\" font-size=\"14.00\" fill=\"#000000\">gini = 0.328</text>\n<text text-anchor=\"middle\" x=\"953.5\" y=\"-260.8\" font-family=\"Helvetica,sans-Serif\" font-size=\"14.00\" fill=\"#000000\">samples = 174</text>\n<text text-anchor=\"middle\" x=\"953.5\" y=\"-245.8\" font-family=\"Helvetica,sans-Serif\" font-size=\"14.00\" fill=\"#000000\">value = [138, 36]</text>\n<text text-anchor=\"middle\" x=\"953.5\" y=\"-230.8\" font-family=\"Helvetica,sans-Serif\" font-size=\"14.00\" fill=\"#000000\">class = Não propenso</text>\n</g>\n<!-- 1&#45;&gt;9 -->\n<g id=\"edge9\" class=\"edge\">\n<title>1&#45;&gt;9</title>\n<path fill=\"none\" stroke=\"#000000\" d=\"M953.5,-341.8796C953.5,-333.6838 953.5,-324.9891 953.5,-316.5013\"/>\n<polygon fill=\"#000000\" stroke=\"#000000\" points=\"957.0001,-316.298 953.5,-306.2981 950.0001,-316.2981 957.0001,-316.298\"/>\n</g>\n<!-- 3 -->\n<g id=\"node4\" class=\"node\">\n<title>3</title>\n<polygon fill=\"#53aae8\" stroke=\"#000000\" points=\"276,-187 147,-187 147,-104 276,-104 276,-187\"/>\n<text text-anchor=\"middle\" x=\"211.5\" y=\"-171.8\" font-family=\"Helvetica,sans-Serif\" font-size=\"14.00\" fill=\"#000000\">Age &lt;= 34.5</text>\n<text text-anchor=\"middle\" x=\"211.5\" y=\"-156.8\" font-family=\"Helvetica,sans-Serif\" font-size=\"14.00\" fill=\"#000000\">gini = 0.206</text>\n<text text-anchor=\"middle\" x=\"211.5\" y=\"-141.8\" font-family=\"Helvetica,sans-Serif\" font-size=\"14.00\" fill=\"#000000\">samples = 43</text>\n<text text-anchor=\"middle\" x=\"211.5\" y=\"-126.8\" font-family=\"Helvetica,sans-Serif\" font-size=\"14.00\" fill=\"#000000\">value = [5, 38]</text>\n<text text-anchor=\"middle\" x=\"211.5\" y=\"-111.8\" font-family=\"Helvetica,sans-Serif\" font-size=\"14.00\" fill=\"#000000\">class = Propenso</text>\n</g>\n<!-- 2&#45;&gt;3 -->\n<g id=\"edge3\" class=\"edge\">\n<title>2&#45;&gt;3</title>\n<path fill=\"none\" stroke=\"#000000\" d=\"M389.6997,-232.7665C357.5713,-217.0328 318.6244,-197.9601 285.3454,-181.663\"/>\n<polygon fill=\"#000000\" stroke=\"#000000\" points=\"286.64,-178.3998 276.1197,-177.145 283.5613,-184.6865 286.64,-178.3998\"/>\n</g>\n<!-- 6 -->\n<g id=\"node7\" class=\"node\">\n<title>6</title>\n<polygon fill=\"#f6d5bd\" stroke=\"#000000\" points=\"533.5,-187 375.5,-187 375.5,-104 533.5,-104 533.5,-187\"/>\n<text text-anchor=\"middle\" x=\"454.5\" y=\"-171.8\" font-family=\"Helvetica,sans-Serif\" font-size=\"14.00\" fill=\"#000000\">Polyphagia &lt;= 0.5</text>\n<text text-anchor=\"middle\" x=\"454.5\" y=\"-156.8\" font-family=\"Helvetica,sans-Serif\" font-size=\"14.00\" fill=\"#000000\">gini = 0.48</text>\n<text text-anchor=\"middle\" x=\"454.5\" y=\"-141.8\" font-family=\"Helvetica,sans-Serif\" font-size=\"14.00\" fill=\"#000000\">samples = 15</text>\n<text text-anchor=\"middle\" x=\"454.5\" y=\"-126.8\" font-family=\"Helvetica,sans-Serif\" font-size=\"14.00\" fill=\"#000000\">value = [9, 6]</text>\n<text text-anchor=\"middle\" x=\"454.5\" y=\"-111.8\" font-family=\"Helvetica,sans-Serif\" font-size=\"14.00\" fill=\"#000000\">class = Não propenso</text>\n</g>\n<!-- 2&#45;&gt;6 -->\n<g id=\"edge6\" class=\"edge\">\n<title>2&#45;&gt;6</title>\n<path fill=\"none\" stroke=\"#000000\" d=\"M454.5,-222.8796C454.5,-214.6838 454.5,-205.9891 454.5,-197.5013\"/>\n<polygon fill=\"#000000\" stroke=\"#000000\" points=\"458.0001,-197.298 454.5,-187.2981 451.0001,-197.2981 458.0001,-197.298\"/>\n</g>\n<!-- 4 -->\n<g id=\"node5\" class=\"node\">\n<title>4</title>\n<polygon fill=\"#aad5f4\" stroke=\"#000000\" points=\"129,-68 0,-68 0,0 129,0 129,-68\"/>\n<text text-anchor=\"middle\" x=\"64.5\" y=\"-52.8\" font-family=\"Helvetica,sans-Serif\" font-size=\"14.00\" fill=\"#000000\">gini = 0.463</text>\n<text text-anchor=\"middle\" x=\"64.5\" y=\"-37.8\" font-family=\"Helvetica,sans-Serif\" font-size=\"14.00\" fill=\"#000000\">samples = 11</text>\n<text text-anchor=\"middle\" x=\"64.5\" y=\"-22.8\" font-family=\"Helvetica,sans-Serif\" font-size=\"14.00\" fill=\"#000000\">value = [4, 7]</text>\n<text text-anchor=\"middle\" x=\"64.5\" y=\"-7.8\" font-family=\"Helvetica,sans-Serif\" font-size=\"14.00\" fill=\"#000000\">class = Propenso</text>\n</g>\n<!-- 3&#45;&gt;4 -->\n<g id=\"edge4\" class=\"edge\">\n<title>3&#45;&gt;4</title>\n<path fill=\"none\" stroke=\"#000000\" d=\"M156.7626,-103.9815C144.0399,-94.3313 130.5134,-84.0714 117.8515,-74.4673\"/>\n<polygon fill=\"#000000\" stroke=\"#000000\" points=\"119.7553,-71.5184 109.6727,-68.2637 115.525,-77.0956 119.7553,-71.5184\"/>\n</g>\n<!-- 5 -->\n<g id=\"node6\" class=\"node\">\n<title>5</title>\n<polygon fill=\"#3fa0e6\" stroke=\"#000000\" points=\"276,-68 147,-68 147,0 276,0 276,-68\"/>\n<text text-anchor=\"middle\" x=\"211.5\" y=\"-52.8\" font-family=\"Helvetica,sans-Serif\" font-size=\"14.00\" fill=\"#000000\">gini = 0.061</text>\n<text text-anchor=\"middle\" x=\"211.5\" y=\"-37.8\" font-family=\"Helvetica,sans-Serif\" font-size=\"14.00\" fill=\"#000000\">samples = 32</text>\n<text text-anchor=\"middle\" x=\"211.5\" y=\"-22.8\" font-family=\"Helvetica,sans-Serif\" font-size=\"14.00\" fill=\"#000000\">value = [1, 31]</text>\n<text text-anchor=\"middle\" x=\"211.5\" y=\"-7.8\" font-family=\"Helvetica,sans-Serif\" font-size=\"14.00\" fill=\"#000000\">class = Propenso</text>\n</g>\n<!-- 3&#45;&gt;5 -->\n<g id=\"edge5\" class=\"edge\">\n<title>3&#45;&gt;5</title>\n<path fill=\"none\" stroke=\"#000000\" d=\"M211.5,-103.9815C211.5,-95.618 211.5,-86.7965 211.5,-78.3409\"/>\n<polygon fill=\"#000000\" stroke=\"#000000\" points=\"215.0001,-78.2636 211.5,-68.2637 208.0001,-78.2637 215.0001,-78.2636\"/>\n</g>\n<!-- 7 -->\n<g id=\"node8\" class=\"node\">\n<title>7</title>\n<polygon fill=\"#e58139\" stroke=\"#000000\" points=\"452.5,-68 294.5,-68 294.5,0 452.5,0 452.5,-68\"/>\n<text text-anchor=\"middle\" x=\"373.5\" y=\"-52.8\" font-family=\"Helvetica,sans-Serif\" font-size=\"14.00\" fill=\"#000000\">gini = 0.0</text>\n<text text-anchor=\"middle\" x=\"373.5\" y=\"-37.8\" font-family=\"Helvetica,sans-Serif\" font-size=\"14.00\" fill=\"#000000\">samples = 9</text>\n<text text-anchor=\"middle\" x=\"373.5\" y=\"-22.8\" font-family=\"Helvetica,sans-Serif\" font-size=\"14.00\" fill=\"#000000\">value = [9, 0]</text>\n<text text-anchor=\"middle\" x=\"373.5\" y=\"-7.8\" font-family=\"Helvetica,sans-Serif\" font-size=\"14.00\" fill=\"#000000\">class = Não propenso</text>\n</g>\n<!-- 6&#45;&gt;7 -->\n<g id=\"edge7\" class=\"edge\">\n<title>6&#45;&gt;7</title>\n<path fill=\"none\" stroke=\"#000000\" d=\"M424.3386,-103.9815C417.7955,-94.9747 410.8666,-85.4367 404.2992,-76.3965\"/>\n<polygon fill=\"#000000\" stroke=\"#000000\" points=\"407.1002,-74.2971 398.3911,-68.2637 401.4369,-78.4113 407.1002,-74.2971\"/>\n</g>\n<!-- 8 -->\n<g id=\"node9\" class=\"node\">\n<title>8</title>\n<polygon fill=\"#399de5\" stroke=\"#000000\" points=\"600,-68 471,-68 471,0 600,0 600,-68\"/>\n<text text-anchor=\"middle\" x=\"535.5\" y=\"-52.8\" font-family=\"Helvetica,sans-Serif\" font-size=\"14.00\" fill=\"#000000\">gini = 0.0</text>\n<text text-anchor=\"middle\" x=\"535.5\" y=\"-37.8\" font-family=\"Helvetica,sans-Serif\" font-size=\"14.00\" fill=\"#000000\">samples = 6</text>\n<text text-anchor=\"middle\" x=\"535.5\" y=\"-22.8\" font-family=\"Helvetica,sans-Serif\" font-size=\"14.00\" fill=\"#000000\">value = [0, 6]</text>\n<text text-anchor=\"middle\" x=\"535.5\" y=\"-7.8\" font-family=\"Helvetica,sans-Serif\" font-size=\"14.00\" fill=\"#000000\">class = Propenso</text>\n</g>\n<!-- 6&#45;&gt;8 -->\n<g id=\"edge8\" class=\"edge\">\n<title>6&#45;&gt;8</title>\n<path fill=\"none\" stroke=\"#000000\" d=\"M484.6614,-103.9815C491.2045,-94.9747 498.1334,-85.4367 504.7008,-76.3965\"/>\n<polygon fill=\"#000000\" stroke=\"#000000\" points=\"507.5631,-78.4113 510.6089,-68.2637 501.8998,-74.2971 507.5631,-78.4113\"/>\n</g>\n<!-- 10 -->\n<g id=\"node11\" class=\"node\">\n<title>10</title>\n<polygon fill=\"#e78b49\" stroke=\"#000000\" points=\"943.5,-187 785.5,-187 785.5,-104 943.5,-104 943.5,-187\"/>\n<text text-anchor=\"middle\" x=\"864.5\" y=\"-171.8\" font-family=\"Helvetica,sans-Serif\" font-size=\"14.00\" fill=\"#000000\">Irritability &lt;= 0.5</text>\n<text text-anchor=\"middle\" x=\"864.5\" y=\"-156.8\" font-family=\"Helvetica,sans-Serif\" font-size=\"14.00\" fill=\"#000000\">gini = 0.138</text>\n<text text-anchor=\"middle\" x=\"864.5\" y=\"-141.8\" font-family=\"Helvetica,sans-Serif\" font-size=\"14.00\" fill=\"#000000\">samples = 134</text>\n<text text-anchor=\"middle\" x=\"864.5\" y=\"-126.8\" font-family=\"Helvetica,sans-Serif\" font-size=\"14.00\" fill=\"#000000\">value = [124, 10]</text>\n<text text-anchor=\"middle\" x=\"864.5\" y=\"-111.8\" font-family=\"Helvetica,sans-Serif\" font-size=\"14.00\" fill=\"#000000\">class = Não propenso</text>\n</g>\n<!-- 9&#45;&gt;10 -->\n<g id=\"edge10\" class=\"edge\">\n<title>9&#45;&gt;10</title>\n<path fill=\"none\" stroke=\"#000000\" d=\"M922.3721,-222.8796C915.771,-214.0534 908.7371,-204.6485 901.9298,-195.5466\"/>\n<polygon fill=\"#000000\" stroke=\"#000000\" points=\"904.5528,-193.2099 895.7607,-187.2981 898.9472,-197.4024 904.5528,-193.2099\"/>\n</g>\n<!-- 13 -->\n<g id=\"node14\" class=\"node\">\n<title>13</title>\n<polygon fill=\"#a4d2f3\" stroke=\"#000000\" points=\"1125.5,-187 961.5,-187 961.5,-104 1125.5,-104 1125.5,-187\"/>\n<text text-anchor=\"middle\" x=\"1043.5\" y=\"-171.8\" font-family=\"Helvetica,sans-Serif\" font-size=\"14.00\" fill=\"#000000\">delayed healing &lt;= 0.5</text>\n<text text-anchor=\"middle\" x=\"1043.5\" y=\"-156.8\" font-family=\"Helvetica,sans-Serif\" font-size=\"14.00\" fill=\"#000000\">gini = 0.455</text>\n<text text-anchor=\"middle\" x=\"1043.5\" y=\"-141.8\" font-family=\"Helvetica,sans-Serif\" font-size=\"14.00\" fill=\"#000000\">samples = 40</text>\n<text text-anchor=\"middle\" x=\"1043.5\" y=\"-126.8\" font-family=\"Helvetica,sans-Serif\" font-size=\"14.00\" fill=\"#000000\">value = [14, 26]</text>\n<text text-anchor=\"middle\" x=\"1043.5\" y=\"-111.8\" font-family=\"Helvetica,sans-Serif\" font-size=\"14.00\" fill=\"#000000\">class = Propenso</text>\n</g>\n<!-- 9&#45;&gt;13 -->\n<g id=\"edge13\" class=\"edge\">\n<title>9&#45;&gt;13</title>\n<path fill=\"none\" stroke=\"#000000\" d=\"M984.9776,-222.8796C991.6529,-214.0534 998.7658,-204.6485 1005.6496,-195.5466\"/>\n<polygon fill=\"#000000\" stroke=\"#000000\" points=\"1008.6474,-197.3852 1011.888,-187.2981 1003.0643,-193.1626 1008.6474,-197.3852\"/>\n</g>\n<!-- 11 -->\n<g id=\"node12\" class=\"node\">\n<title>11</title>\n<polygon fill=\"#e68642\" stroke=\"#000000\" points=\"776.5,-68 618.5,-68 618.5,0 776.5,0 776.5,-68\"/>\n<text text-anchor=\"middle\" x=\"697.5\" y=\"-52.8\" font-family=\"Helvetica,sans-Serif\" font-size=\"14.00\" fill=\"#000000\">gini = 0.08</text>\n<text text-anchor=\"middle\" x=\"697.5\" y=\"-37.8\" font-family=\"Helvetica,sans-Serif\" font-size=\"14.00\" fill=\"#000000\">samples = 120</text>\n<text text-anchor=\"middle\" x=\"697.5\" y=\"-22.8\" font-family=\"Helvetica,sans-Serif\" font-size=\"14.00\" fill=\"#000000\">value = [115, 5]</text>\n<text text-anchor=\"middle\" x=\"697.5\" y=\"-7.8\" font-family=\"Helvetica,sans-Serif\" font-size=\"14.00\" fill=\"#000000\">class = Não propenso</text>\n</g>\n<!-- 10&#45;&gt;11 -->\n<g id=\"edge11\" class=\"edge\">\n<title>10&#45;&gt;11</title>\n<path fill=\"none\" stroke=\"#000000\" d=\"M802.3154,-103.9815C787.5089,-94.0957 771.7441,-83.5701 757.0585,-73.7651\"/>\n<polygon fill=\"#000000\" stroke=\"#000000\" points=\"758.8122,-70.7276 748.552,-68.0856 754.9252,-76.5493 758.8122,-70.7276\"/>\n</g>\n<!-- 12 -->\n<g id=\"node13\" class=\"node\">\n<title>12</title>\n<polygon fill=\"#f3c7a7\" stroke=\"#000000\" points=\"952.5,-68 794.5,-68 794.5,0 952.5,0 952.5,-68\"/>\n<text text-anchor=\"middle\" x=\"873.5\" y=\"-52.8\" font-family=\"Helvetica,sans-Serif\" font-size=\"14.00\" fill=\"#000000\">gini = 0.459</text>\n<text text-anchor=\"middle\" x=\"873.5\" y=\"-37.8\" font-family=\"Helvetica,sans-Serif\" font-size=\"14.00\" fill=\"#000000\">samples = 14</text>\n<text text-anchor=\"middle\" x=\"873.5\" y=\"-22.8\" font-family=\"Helvetica,sans-Serif\" font-size=\"14.00\" fill=\"#000000\">value = [9, 5]</text>\n<text text-anchor=\"middle\" x=\"873.5\" y=\"-7.8\" font-family=\"Helvetica,sans-Serif\" font-size=\"14.00\" fill=\"#000000\">class = Não propenso</text>\n</g>\n<!-- 10&#45;&gt;12 -->\n<g id=\"edge12\" class=\"edge\">\n<title>10&#45;&gt;12</title>\n<path fill=\"none\" stroke=\"#000000\" d=\"M867.8513,-103.9815C868.5263,-95.618 869.2384,-86.7965 869.9209,-78.3409\"/>\n<polygon fill=\"#000000\" stroke=\"#000000\" points=\"873.4183,-78.5129 870.7343,-68.2637 866.441,-77.9496 873.4183,-78.5129\"/>\n</g>\n<!-- 14 -->\n<g id=\"node15\" class=\"node\">\n<title>14</title>\n<polygon fill=\"#399de5\" stroke=\"#000000\" points=\"1100,-68 971,-68 971,0 1100,0 1100,-68\"/>\n<text text-anchor=\"middle\" x=\"1035.5\" y=\"-52.8\" font-family=\"Helvetica,sans-Serif\" font-size=\"14.00\" fill=\"#000000\">gini = 0.0</text>\n<text text-anchor=\"middle\" x=\"1035.5\" y=\"-37.8\" font-family=\"Helvetica,sans-Serif\" font-size=\"14.00\" fill=\"#000000\">samples = 15</text>\n<text text-anchor=\"middle\" x=\"1035.5\" y=\"-22.8\" font-family=\"Helvetica,sans-Serif\" font-size=\"14.00\" fill=\"#000000\">value = [0, 15]</text>\n<text text-anchor=\"middle\" x=\"1035.5\" y=\"-7.8\" font-family=\"Helvetica,sans-Serif\" font-size=\"14.00\" fill=\"#000000\">class = Propenso</text>\n</g>\n<!-- 13&#45;&gt;14 -->\n<g id=\"edge14\" class=\"edge\">\n<title>13&#45;&gt;14</title>\n<path fill=\"none\" stroke=\"#000000\" d=\"M1040.5211,-103.9815C1039.921,-95.618 1039.2881,-86.7965 1038.6814,-78.3409\"/>\n<polygon fill=\"#000000\" stroke=\"#000000\" points=\"1042.1651,-77.9875 1037.9584,-68.2637 1035.1831,-78.4885 1042.1651,-77.9875\"/>\n</g>\n<!-- 15 -->\n<g id=\"node16\" class=\"node\">\n<title>15</title>\n<polygon fill=\"#f9e4d5\" stroke=\"#000000\" points=\"1276.5,-68 1118.5,-68 1118.5,0 1276.5,0 1276.5,-68\"/>\n<text text-anchor=\"middle\" x=\"1197.5\" y=\"-52.8\" font-family=\"Helvetica,sans-Serif\" font-size=\"14.00\" fill=\"#000000\">gini = 0.493</text>\n<text text-anchor=\"middle\" x=\"1197.5\" y=\"-37.8\" font-family=\"Helvetica,sans-Serif\" font-size=\"14.00\" fill=\"#000000\">samples = 25</text>\n<text text-anchor=\"middle\" x=\"1197.5\" y=\"-22.8\" font-family=\"Helvetica,sans-Serif\" font-size=\"14.00\" fill=\"#000000\">value = [14, 11]</text>\n<text text-anchor=\"middle\" x=\"1197.5\" y=\"-7.8\" font-family=\"Helvetica,sans-Serif\" font-size=\"14.00\" fill=\"#000000\">class = Não propenso</text>\n</g>\n<!-- 13&#45;&gt;15 -->\n<g id=\"edge15\" class=\"edge\">\n<title>13&#45;&gt;15</title>\n<path fill=\"none\" stroke=\"#000000\" d=\"M1100.8439,-103.9815C1114.2994,-94.2394 1128.6131,-83.8759 1141.9867,-74.193\"/>\n<polygon fill=\"#000000\" stroke=\"#000000\" points=\"1144.1289,-76.9632 1150.1762,-68.2637 1140.0237,-71.2933 1144.1289,-76.9632\"/>\n</g>\n<!-- 17 -->\n<g id=\"node18\" class=\"node\">\n<title>17</title>\n<polygon fill=\"#61b1ea\" stroke=\"#000000\" points=\"1441.5,-306 1277.5,-306 1277.5,-223 1441.5,-223 1441.5,-306\"/>\n<text text-anchor=\"middle\" x=\"1359.5\" y=\"-290.8\" font-family=\"Helvetica,sans-Serif\" font-size=\"14.00\" fill=\"#000000\">delayed healing &lt;= 0.5</text>\n<text text-anchor=\"middle\" x=\"1359.5\" y=\"-275.8\" font-family=\"Helvetica,sans-Serif\" font-size=\"14.00\" fill=\"#000000\">gini = 0.278</text>\n<text text-anchor=\"middle\" x=\"1359.5\" y=\"-260.8\" font-family=\"Helvetica,sans-Serif\" font-size=\"14.00\" fill=\"#000000\">samples = 30</text>\n<text text-anchor=\"middle\" x=\"1359.5\" y=\"-245.8\" font-family=\"Helvetica,sans-Serif\" font-size=\"14.00\" fill=\"#000000\">value = [5, 25]</text>\n<text text-anchor=\"middle\" x=\"1359.5\" y=\"-230.8\" font-family=\"Helvetica,sans-Serif\" font-size=\"14.00\" fill=\"#000000\">class = Propenso</text>\n</g>\n<!-- 16&#45;&gt;17 -->\n<g id=\"edge17\" class=\"edge\">\n<title>16&#45;&gt;17</title>\n<path fill=\"none\" stroke=\"#000000\" d=\"M1359.5,-341.8796C1359.5,-333.6838 1359.5,-324.9891 1359.5,-316.5013\"/>\n<polygon fill=\"#000000\" stroke=\"#000000\" points=\"1363.0001,-316.298 1359.5,-306.2981 1356.0001,-316.2981 1363.0001,-316.298\"/>\n</g>\n<!-- 22 -->\n<g id=\"node23\" class=\"node\">\n<title>22</title>\n<polygon fill=\"#399de5\" stroke=\"#000000\" points=\"1589,-298.5 1460,-298.5 1460,-230.5 1589,-230.5 1589,-298.5\"/>\n<text text-anchor=\"middle\" x=\"1524.5\" y=\"-283.3\" font-family=\"Helvetica,sans-Serif\" font-size=\"14.00\" fill=\"#000000\">gini = 0.0</text>\n<text text-anchor=\"middle\" x=\"1524.5\" y=\"-268.3\" font-family=\"Helvetica,sans-Serif\" font-size=\"14.00\" fill=\"#000000\">samples = 154</text>\n<text text-anchor=\"middle\" x=\"1524.5\" y=\"-253.3\" font-family=\"Helvetica,sans-Serif\" font-size=\"14.00\" fill=\"#000000\">value = [0, 154]</text>\n<text text-anchor=\"middle\" x=\"1524.5\" y=\"-238.3\" font-family=\"Helvetica,sans-Serif\" font-size=\"14.00\" fill=\"#000000\">class = Propenso</text>\n</g>\n<!-- 16&#45;&gt;22 -->\n<g id=\"edge22\" class=\"edge\">\n<title>16&#45;&gt;22</title>\n<path fill=\"none\" stroke=\"#000000\" d=\"M1417.209,-341.8796C1433.907,-329.8368 1452.0987,-316.7167 1468.6793,-304.7586\"/>\n<polygon fill=\"#000000\" stroke=\"#000000\" points=\"1471.1232,-307.3113 1477.1865,-298.623 1467.0285,-301.6339 1471.1232,-307.3113\"/>\n</g>\n<!-- 18 -->\n<g id=\"node19\" class=\"node\">\n<title>18</title>\n<polygon fill=\"#93caf1\" stroke=\"#000000\" points=\"1441.5,-187 1277.5,-187 1277.5,-104 1441.5,-104 1441.5,-187\"/>\n<text text-anchor=\"middle\" x=\"1359.5\" y=\"-171.8\" font-family=\"Helvetica,sans-Serif\" font-size=\"14.00\" fill=\"#000000\">muscle stiffness &lt;= 0.5</text>\n<text text-anchor=\"middle\" x=\"1359.5\" y=\"-156.8\" font-family=\"Helvetica,sans-Serif\" font-size=\"14.00\" fill=\"#000000\">gini = 0.43</text>\n<text text-anchor=\"middle\" x=\"1359.5\" y=\"-141.8\" font-family=\"Helvetica,sans-Serif\" font-size=\"14.00\" fill=\"#000000\">samples = 16</text>\n<text text-anchor=\"middle\" x=\"1359.5\" y=\"-126.8\" font-family=\"Helvetica,sans-Serif\" font-size=\"14.00\" fill=\"#000000\">value = [5, 11]</text>\n<text text-anchor=\"middle\" x=\"1359.5\" y=\"-111.8\" font-family=\"Helvetica,sans-Serif\" font-size=\"14.00\" fill=\"#000000\">class = Propenso</text>\n</g>\n<!-- 17&#45;&gt;18 -->\n<g id=\"edge18\" class=\"edge\">\n<title>17&#45;&gt;18</title>\n<path fill=\"none\" stroke=\"#000000\" d=\"M1359.5,-222.8796C1359.5,-214.6838 1359.5,-205.9891 1359.5,-197.5013\"/>\n<polygon fill=\"#000000\" stroke=\"#000000\" points=\"1363.0001,-197.298 1359.5,-187.2981 1356.0001,-197.2981 1363.0001,-197.298\"/>\n</g>\n<!-- 21 -->\n<g id=\"node22\" class=\"node\">\n<title>21</title>\n<polygon fill=\"#399de5\" stroke=\"#000000\" points=\"1589,-179.5 1460,-179.5 1460,-111.5 1589,-111.5 1589,-179.5\"/>\n<text text-anchor=\"middle\" x=\"1524.5\" y=\"-164.3\" font-family=\"Helvetica,sans-Serif\" font-size=\"14.00\" fill=\"#000000\">gini = 0.0</text>\n<text text-anchor=\"middle\" x=\"1524.5\" y=\"-149.3\" font-family=\"Helvetica,sans-Serif\" font-size=\"14.00\" fill=\"#000000\">samples = 14</text>\n<text text-anchor=\"middle\" x=\"1524.5\" y=\"-134.3\" font-family=\"Helvetica,sans-Serif\" font-size=\"14.00\" fill=\"#000000\">value = [0, 14]</text>\n<text text-anchor=\"middle\" x=\"1524.5\" y=\"-119.3\" font-family=\"Helvetica,sans-Serif\" font-size=\"14.00\" fill=\"#000000\">class = Propenso</text>\n</g>\n<!-- 17&#45;&gt;21 -->\n<g id=\"edge21\" class=\"edge\">\n<title>17&#45;&gt;21</title>\n<path fill=\"none\" stroke=\"#000000\" d=\"M1417.209,-222.8796C1433.907,-210.8368 1452.0987,-197.7167 1468.6793,-185.7586\"/>\n<polygon fill=\"#000000\" stroke=\"#000000\" points=\"1471.1232,-188.3113 1477.1865,-179.623 1467.0285,-182.6339 1471.1232,-188.3113\"/>\n</g>\n<!-- 19 -->\n<g id=\"node20\" class=\"node\">\n<title>19</title>\n<polygon fill=\"#4da7e8\" stroke=\"#000000\" points=\"1424,-68 1295,-68 1295,0 1424,0 1424,-68\"/>\n<text text-anchor=\"middle\" x=\"1359.5\" y=\"-52.8\" font-family=\"Helvetica,sans-Serif\" font-size=\"14.00\" fill=\"#000000\">gini = 0.165</text>\n<text text-anchor=\"middle\" x=\"1359.5\" y=\"-37.8\" font-family=\"Helvetica,sans-Serif\" font-size=\"14.00\" fill=\"#000000\">samples = 11</text>\n<text text-anchor=\"middle\" x=\"1359.5\" y=\"-22.8\" font-family=\"Helvetica,sans-Serif\" font-size=\"14.00\" fill=\"#000000\">value = [1, 10]</text>\n<text text-anchor=\"middle\" x=\"1359.5\" y=\"-7.8\" font-family=\"Helvetica,sans-Serif\" font-size=\"14.00\" fill=\"#000000\">class = Propenso</text>\n</g>\n<!-- 18&#45;&gt;19 -->\n<g id=\"edge19\" class=\"edge\">\n<title>18&#45;&gt;19</title>\n<path fill=\"none\" stroke=\"#000000\" d=\"M1359.5,-103.9815C1359.5,-95.618 1359.5,-86.7965 1359.5,-78.3409\"/>\n<polygon fill=\"#000000\" stroke=\"#000000\" points=\"1363.0001,-78.2636 1359.5,-68.2637 1356.0001,-78.2637 1363.0001,-78.2636\"/>\n</g>\n<!-- 20 -->\n<g id=\"node21\" class=\"node\">\n<title>20</title>\n<polygon fill=\"#eca06a\" stroke=\"#000000\" points=\"1600.5,-68 1442.5,-68 1442.5,0 1600.5,0 1600.5,-68\"/>\n<text text-anchor=\"middle\" x=\"1521.5\" y=\"-52.8\" font-family=\"Helvetica,sans-Serif\" font-size=\"14.00\" fill=\"#000000\">gini = 0.32</text>\n<text text-anchor=\"middle\" x=\"1521.5\" y=\"-37.8\" font-family=\"Helvetica,sans-Serif\" font-size=\"14.00\" fill=\"#000000\">samples = 5</text>\n<text text-anchor=\"middle\" x=\"1521.5\" y=\"-22.8\" font-family=\"Helvetica,sans-Serif\" font-size=\"14.00\" fill=\"#000000\">value = [4, 1]</text>\n<text text-anchor=\"middle\" x=\"1521.5\" y=\"-7.8\" font-family=\"Helvetica,sans-Serif\" font-size=\"14.00\" fill=\"#000000\">class = Não propenso</text>\n</g>\n<!-- 18&#45;&gt;20 -->\n<g id=\"edge20\" class=\"edge\">\n<title>18&#45;&gt;20</title>\n<path fill=\"none\" stroke=\"#000000\" d=\"M1419.8228,-103.9815C1434.186,-94.0957 1449.4788,-83.5701 1463.7247,-73.7651\"/>\n<polygon fill=\"#000000\" stroke=\"#000000\" points=\"1465.7234,-76.6384 1471.9765,-68.0856 1461.7546,-70.8722 1465.7234,-76.6384\"/>\n</g>\n</g>\n</svg>\n"
          },
          "metadata": {},
          "execution_count": 35
        }
      ]
    },
    {
      "cell_type": "markdown",
      "source": [
        "- De início, vemos que a quantidade de propensos a ter diabetes é muito maior no segmento à direita, que se refere à quem tem poliúra como sintoma, logo é possivel afirmar que a poliúra é um fator decisivo no diagnóstico do modelo.\n",
        "- Observando o ramo mais a esquerda, é possível fazer a constatação de que a ausência de poliúra com a presença de polidipsia (apesar de ser uma combinação incomum) apresenta risco de diabetes.\n",
        "- A presença de poliúra e polidipsia em uma idade menor do que 71 anos pode ser um forte indicativo de que a pessoa é propensa a ter diabetes, esse indicativo é ainda mais forte quando a pessoa é obesa.\n",
        "- Se um paciente com mais de 71 anos com poliúra e fraqueza, então há risco de aqueles sintomas serem por causa da diabetes.\n",
        ""
      ],
      "metadata": {
        "id": "7jjZxCjyJaCQ"
      }
    },
    {
      "cell_type": "code",
      "source": [
        "prev_teste = tree.predict(teste[['Age','Gender','Polyuria','Polydipsia','sudden weight loss','weakness','Polyphagia','Genital thrush','visual blurring','Itching','Irritability','delayed healing','partial paresis','muscle stiffness','Alopecia','Obesity']])\n",
        "y_teste = pd.factorize(teste['class'])[0]\n",
        "prev_teste"
      ],
      "metadata": {
        "id": "Lzrlr6QzB2BV",
        "colab": {
          "base_uri": "https://localhost:8080/"
        },
        "outputId": "6dbb4170-c88e-40ca-b102-3475446491fb"
      },
      "execution_count": null,
      "outputs": [
        {
          "output_type": "execute_result",
          "data": {
            "text/plain": [
              "array([0, 1, 1, 0, 1, 0, 0, 1, 0, 0, 1, 1, 1, 1, 0, 0, 1, 0, 1, 0, 1, 1,\n",
              "       0, 1, 0, 1, 1, 0, 1, 0, 0, 1, 0, 1, 1, 0, 1, 1, 1, 0, 1, 1, 0, 1,\n",
              "       1, 1, 0, 1, 0, 1, 0, 0, 1, 0, 1, 0, 0, 0, 1, 0, 1, 1, 1, 1, 1, 1,\n",
              "       0, 1, 0, 0, 1, 1, 0, 1, 1, 1, 1, 1, 0, 1, 0, 1, 0, 0, 1, 1, 0, 1,\n",
              "       1, 0, 1, 1, 1, 0, 0, 0, 0, 0, 0, 0, 0, 1, 0, 1])"
            ]
          },
          "metadata": {},
          "execution_count": 36
        }
      ]
    },
    {
      "cell_type": "code",
      "source": [
        "from sklearn.metrics import accuracy_score\n",
        "acuracia_Teste = accuracy_score(prev_teste, y_teste)\n",
        "acuracia_Teste*100"
      ],
      "metadata": {
        "id": "XIAzKNdOJdoI",
        "colab": {
          "base_uri": "https://localhost:8080/"
        },
        "outputId": "549e8346-0303-415f-d063-e9fa6de08094"
      },
      "execution_count": null,
      "outputs": [
        {
          "output_type": "execute_result",
          "data": {
            "text/plain": [
              "92.3076923076923"
            ]
          },
          "metadata": {},
          "execution_count": 37
        }
      ]
    },
    {
      "cell_type": "markdown",
      "source": [
        "Por mais que o objetivo do modelo seja apenas auxiliar os médicos, ele se comprova bastante eficiente devido a sua alta acurácia no teste (93%)."
      ],
      "metadata": {
        "id": "cJAlBMtMtVW5"
      }
    },
    {
      "cell_type": "code",
      "source": [
        "from sklearn.metrics import confusion_matrix\n",
        "import seaborn as sns\n",
        "cm = confusion_matrix(y_teste,prev_teste)\n",
        "print(cm)\n",
        "sns.heatmap(cm,annot=True)"
      ],
      "metadata": {
        "id": "V0xpnlQgt1i5",
        "colab": {
          "base_uri": "https://localhost:8080/",
          "height": 320
        },
        "outputId": "827dd839-f032-4821-af33-95a461453339"
      },
      "execution_count": null,
      "outputs": [
        {
          "output_type": "stream",
          "name": "stdout",
          "text": [
            "[[41  2]\n",
            " [ 6 55]]\n"
          ]
        },
        {
          "output_type": "execute_result",
          "data": {
            "text/plain": [
              "<matplotlib.axes._subplots.AxesSubplot at 0x7f8684035d10>"
            ]
          },
          "metadata": {},
          "execution_count": 38
        },
        {
          "output_type": "display_data",
          "data": {
            "text/plain": [
              "<Figure size 432x288 with 2 Axes>"
            ],
            "image/png": "[encoded data removed]"
          },
          "metadata": {
            "needs_background": "light"
          }
        }
      ]
    },
    {
      "cell_type": "markdown",
      "source": [
        "Na perspectiva da alta acurácia do modelo em teste, a matriz de confusão revela algo muito positivo à respeito do modelo: O número de FN e FP é muito mais baixo do que o número de acertos reais, o que mostra a confiabilidade do algoritmo para ser usado em situações clínicas. No contexto do negócio a situação é a ideal.\n"
      ],
      "metadata": {
        "id": "oKGWZfxScjuI"
      }
    },
    {
      "cell_type": "code",
      "source": [
        "from sklearn.metrics import classification_report\n",
        "print(classification_report(y_teste,prev_teste))"
      ],
      "metadata": {
        "id": "yRUVTc8NeQHo",
        "colab": {
          "base_uri": "https://localhost:8080/"
        },
        "outputId": "6cd91184-3ab1-4585-94de-83ebe9e07dda"
      },
      "execution_count": null,
      "outputs": [
        {
          "output_type": "stream",
          "name": "stdout",
          "text": [
            "              precision    recall  f1-score   support\n",
            "\n",
            "           0       0.87      0.95      0.91        43\n",
            "           1       0.96      0.90      0.93        61\n",
            "\n",
            "    accuracy                           0.92       104\n",
            "   macro avg       0.92      0.93      0.92       104\n",
            "weighted avg       0.93      0.92      0.92       104\n",
            "\n"
          ]
        }
      ]
    },
    {
      "cell_type": "markdown",
      "source": [
        "Aqui é mais notável ainda a eficácia do modelo, com uma precisão de 94% nos casos positivos com um recall de 95%. Sendo assim, esse algoritmo é confiável e ajudaria muito na eficiência do atendimento e hospitalização de um centro de saúde.\n",
        "\n",
        "\n",
        "\n"
      ],
      "metadata": {
        "id": "lT8x0vDAeYzE"
      }
    },
    {
      "cell_type": "markdown",
      "source": [
        "### **Apriori**"
      ],
      "metadata": {
        "id": "1cIMFCxYhEFe"
      }
    },
    {
      "cell_type": "code",
      "source": [
        "df = df.drop(['Age'],axis = 1)\n",
        "df.rename(columns = {'class':'Diabetes'}, inplace = True)\n",
        "from mlxtend.frequent_patterns import apriori\n",
        "from mlxtend.frequent_patterns import association_rules\n",
        "association_rules(apriori(df, min_support=0.2,use_colnames=True))"
      ],
      "metadata": {
        "id": "rVG9QgL0gwCi",
        "colab": {
          "base_uri": "https://localhost:8080/",
          "height": 424
        },
        "outputId": "e01c486a-f81a-417a-acd8-475c23c9cfd9"
      },
      "execution_count": null,
      "outputs": [
        {
          "output_type": "execute_result",
          "data": {
            "text/plain": [
              "                                      antecedents  \\\n",
              "0                                      (Alopecia)   \n",
              "1                                    (Polydipsia)   \n",
              "2                                      (Polyuria)   \n",
              "3                                    (Polydipsia)   \n",
              "4                            (sudden weight loss)   \n",
              "..                                            ...   \n",
              "174  (Polyphagia, Diabetes, Polydipsia, Polyuria)   \n",
              "175       (partial paresis, Polyphagia, Diabetes)   \n",
              "176       (partial paresis, Polyphagia, Polyuria)   \n",
              "177     (partial paresis, Polyphagia, Polydipsia)   \n",
              "178            (Polyphagia, Polydipsia, Polyuria)   \n",
              "\n",
              "                     consequents  antecedent support  consequent support  \\\n",
              "0                       (Gender)            0.344231            0.630769   \n",
              "1                     (Polyuria)            0.448077            0.496154   \n",
              "2                     (Diabetes)            0.496154            0.615385   \n",
              "3                     (Diabetes)            0.448077            0.615385   \n",
              "4                     (Diabetes)            0.417308            0.615385   \n",
              "..                           ...                 ...                 ...   \n",
              "174            (partial paresis)            0.250000            0.430769   \n",
              "175       (Polydipsia, Polyuria)            0.257692            0.371154   \n",
              "176       (Diabetes, Polydipsia)            0.236538            0.432692   \n",
              "177         (Diabetes, Polyuria)            0.228846            0.467308   \n",
              "178  (partial paresis, Diabetes)            0.250000            0.369231   \n",
              "\n",
              "      support  confidence      lift  leverage  conviction  \n",
              "0    0.292308    0.849162  1.346232  0.075178    2.447863  \n",
              "1    0.371154    0.828326  1.669495  0.148839    2.934904  \n",
              "2    0.467308    0.941860  1.530523  0.161982    6.615385  \n",
              "3    0.432692    0.965665  1.569206  0.156953   11.201923  \n",
              "4    0.361538    0.866359  1.407834  0.104734    2.877984  \n",
              "..        ...         ...       ...       ...         ...  \n",
              "174  0.207692    0.830769  1.928571  0.100000    3.363636  \n",
              "175  0.207692    0.805970  2.171526  0.112049    3.240976  \n",
              "176  0.207692    0.878049  2.029268  0.105344    4.651923  \n",
              "177  0.207692    0.907563  1.942110  0.100751    5.762762  \n",
              "178  0.207692    0.830769  2.250000  0.115385    3.727273  \n",
              "\n",
              "[179 rows x 9 columns]"
            ],
            "text/html": [
              "\n",
              "  <div id=\"df-e6c14fad-6dc9-4c24-a5c3-ec6c8d252c7d\">\n",
              "    <div class=\"colab-df-container\">\n",
              "      <div>\n",
              "<style scoped>\n",
              "    .dataframe tbody tr th:only-of-type {\n",
              "        vertical-align: middle;\n",
              "    }\n",
              "\n",
              "    .dataframe tbody tr th {\n",
              "        vertical-align: top;\n",
              "    }\n",
              "\n",
              "    .dataframe thead th {\n",
              "        text-align: right;\n",
              "    }\n",
              "</style>\n",
              "<table border=\"1\" class=\"dataframe\">\n",
              "  <thead>\n",
              "    <tr style=\"text-align: right;\">\n",
              "      <th></th>\n",
              "      <th>antecedents</th>\n",
              "      <th>consequents</th>\n",
              "      <th>antecedent support</th>\n",
              "      <th>consequent support</th>\n",
              "      <th>support</th>\n",
              "      <th>confidence</th>\n",
              "      <th>lift</th>\n",
              "      <th>leverage</th>\n",
              "      <th>conviction</th>\n",
              "    </tr>\n",
              "  </thead>\n",
              "  <tbody>\n",
              "    <tr>\n",
              "      <th>0</th>\n",
              "      <td>(Alopecia)</td>\n",
              "      <td>(Gender)</td>\n",
              "      <td>0.344231</td>\n",
              "      <td>0.630769</td>\n",
              "      <td>0.292308</td>\n",
              "      <td>0.849162</td>\n",
              "      <td>1.346232</td>\n",
              "      <td>0.075178</td>\n",
              "      <td>2.447863</td>\n",
              "    </tr>\n",
              "    <tr>\n",
              "      <th>1</th>\n",
              "      <td>(Polydipsia)</td>\n",
              "      <td>(Polyuria)</td>\n",
              "      <td>0.448077</td>\n",
              "      <td>0.496154</td>\n",
              "      <td>0.371154</td>\n",
              "      <td>0.828326</td>\n",
              "      <td>1.669495</td>\n",
              "      <td>0.148839</td>\n",
              "      <td>2.934904</td>\n",
              "    </tr>\n",
              "    <tr>\n",
              "      <th>2</th>\n",
              "      <td>(Polyuria)</td>\n",
              "      <td>(Diabetes)</td>\n",
              "      <td>0.496154</td>\n",
              "      <td>0.615385</td>\n",
              "      <td>0.467308</td>\n",
              "      <td>0.941860</td>\n",
              "      <td>1.530523</td>\n",
              "      <td>0.161982</td>\n",
              "      <td>6.615385</td>\n",
              "    </tr>\n",
              "    <tr>\n",
              "      <th>3</th>\n",
              "      <td>(Polydipsia)</td>\n",
              "      <td>(Diabetes)</td>\n",
              "      <td>0.448077</td>\n",
              "      <td>0.615385</td>\n",
              "      <td>0.432692</td>\n",
              "      <td>0.965665</td>\n",
              "      <td>1.569206</td>\n",
              "      <td>0.156953</td>\n",
              "      <td>11.201923</td>\n",
              "    </tr>\n",
              "    <tr>\n",
              "      <th>4</th>\n",
              "      <td>(sudden weight loss)</td>\n",
              "      <td>(Diabetes)</td>\n",
              "      <td>0.417308</td>\n",
              "      <td>0.615385</td>\n",
              "      <td>0.361538</td>\n",
              "      <td>0.866359</td>\n",
              "      <td>1.407834</td>\n",
              "      <td>0.104734</td>\n",
              "      <td>2.877984</td>\n",
              "    </tr>\n",
              "    <tr>\n",
              "      <th>...</th>\n",
              "      <td>...</td>\n",
              "      <td>...</td>\n",
              "      <td>...</td>\n",
              "      <td>...</td>\n",
              "      <td>...</td>\n",
              "      <td>...</td>\n",
              "      <td>...</td>\n",
              "      <td>...</td>\n",
              "      <td>...</td>\n",
              "    </tr>\n",
              "    <tr>\n",
              "      <th>174</th>\n",
              "      <td>(Polyphagia, Diabetes, Polydipsia, Polyuria)</td>\n",
              "      <td>(partial paresis)</td>\n",
              "      <td>0.250000</td>\n",
              "      <td>0.430769</td>\n",
              "      <td>0.207692</td>\n",
              "      <td>0.830769</td>\n",
              "      <td>1.928571</td>\n",
              "      <td>0.100000</td>\n",
              "      <td>3.363636</td>\n",
              "    </tr>\n",
              "    <tr>\n",
              "      <th>175</th>\n",
              "      <td>(partial paresis, Polyphagia, Diabetes)</td>\n",
              "      <td>(Polydipsia, Polyuria)</td>\n",
              "      <td>0.257692</td>\n",
              "      <td>0.371154</td>\n",
              "      <td>0.207692</td>\n",
              "      <td>0.805970</td>\n",
              "      <td>2.171526</td>\n",
              "      <td>0.112049</td>\n",
              "      <td>3.240976</td>\n",
              "    </tr>\n",
              "    <tr>\n",
              "      <th>176</th>\n",
              "      <td>(partial paresis, Polyphagia, Polyuria)</td>\n",
              "      <td>(Diabetes, Polydipsia)</td>\n",
              "      <td>0.236538</td>\n",
              "      <td>0.432692</td>\n",
              "      <td>0.207692</td>\n",
              "      <td>0.878049</td>\n",
              "      <td>2.029268</td>\n",
              "      <td>0.105344</td>\n",
              "      <td>4.651923</td>\n",
              "    </tr>\n",
              "    <tr>\n",
              "      <th>177</th>\n",
              "      <td>(partial paresis, Polyphagia, Polydipsia)</td>\n",
              "      <td>(Diabetes, Polyuria)</td>\n",
              "      <td>0.228846</td>\n",
              "      <td>0.467308</td>\n",
              "      <td>0.207692</td>\n",
              "      <td>0.907563</td>\n",
              "      <td>1.942110</td>\n",
              "      <td>0.100751</td>\n",
              "      <td>5.762762</td>\n",
              "    </tr>\n",
              "    <tr>\n",
              "      <th>178</th>\n",
              "      <td>(Polyphagia, Polydipsia, Polyuria)</td>\n",
              "      <td>(partial paresis, Diabetes)</td>\n",
              "      <td>0.250000</td>\n",
              "      <td>0.369231</td>\n",
              "      <td>0.207692</td>\n",
              "      <td>0.830769</td>\n",
              "      <td>2.250000</td>\n",
              "      <td>0.115385</td>\n",
              "      <td>3.727273</td>\n",
              "    </tr>\n",
              "  </tbody>\n",
              "</table>\n",
              "<p>179 rows × 9 columns</p>\n",
              "</div>\n",
              "      <button class=\"colab-df-convert\" onclick=\"convertToInteractive('df-e6c14fad-6dc9-4c24-a5c3-ec6c8d252c7d')\"\n",
              "              title=\"Convert this dataframe to an interactive table.\"\n",
              "              style=\"display:none;\">\n",
              "        \n",
              "  <svg xmlns=\"http://www.w3.org/2000/svg\" height=\"24px\"viewBox=\"0 0 24 24\"\n",
              "       width=\"24px\">\n",
              "    <path d=\"M0 0h24v24H0V0z\" fill=\"none\"/>\n",
              "    <path d=\"M18.56 5.44l.94 2.06.94-2.06 2.06-.94-2.06-.94-.94-2.06-.94 2.06-2.06.94zm-11 1L8.5 8.5l.94-2.06 2.06-.94-2.06-.94L8.5 2.5l-.94 2.06-2.06.94zm10 10l.94 2.06.94-2.06 2.06-.94-2.06-.94-.94-2.06-.94 2.06-2.06.94z\"/><path d=\"M17.41 7.96l-1.37-1.37c-.4-.4-.92-.59-1.43-.59-.52 0-1.04.2-1.43.59L10.3 9.45l-7.72 7.72c-.78.78-.78 2.05 0 2.83L4 21.41c.39.39.9.59 1.41.59.51 0 1.02-.2 1.41-.59l7.78-7.78 2.81-2.81c.8-.78.8-2.07 0-2.86zM5.41 20L4 18.59l7.72-7.72 1.47 1.35L5.41 20z\"/>\n",
              "  </svg>\n",
              "      </button>\n",
              "      \n",
              "  <style>\n",
              "    .colab-df-container {\n",
              "      display:flex;\n",
              "      flex-wrap:wrap;\n",
              "      gap: 12px;\n",
              "    }\n",
              "\n",
              "    .colab-df-convert {\n",
              "      background-color: #E8F0FE;\n",
              "      border: none;\n",
              "      border-radius: 50%;\n",
              "      cursor: pointer;\n",
              "      display: none;\n",
              "      fill: #1967D2;\n",
              "      height: 32px;\n",
              "      padding: 0 0 0 0;\n",
              "      width: 32px;\n",
              "    }\n",
              "\n",
              "    .colab-df-convert:hover {\n",
              "      background-color: #E2EBFA;\n",
              "      box-shadow: 0px 1px 2px rgba(60, 64, 67, 0.3), 0px 1px 3px 1px rgba(60, 64, 67, 0.15);\n",
              "      fill: #174EA6;\n",
              "    }\n",
              "\n",
              "    [theme=dark] .colab-df-convert {\n",
              "      background-color: #3B4455;\n",
              "      fill: #D2E3FC;\n",
              "    }\n",
              "\n",
              "    [theme=dark] .colab-df-convert:hover {\n",
              "      background-color: #434B5C;\n",
              "      box-shadow: 0px 1px 3px 1px rgba(0, 0, 0, 0.15);\n",
              "      filter: drop-shadow(0px 1px 2px rgba(0, 0, 0, 0.3));\n",
              "      fill: #FFFFFF;\n",
              "    }\n",
              "  </style>\n",
              "\n",
              "      <script>\n",
              "        const buttonEl =\n",
              "          document.querySelector('#df-e6c14fad-6dc9-4c24-a5c3-ec6c8d252c7d button.colab-df-convert');\n",
              "        buttonEl.style.display =\n",
              "          google.colab.kernel.accessAllowed ? 'block' : 'none';\n",
              "\n",
              "        async function convertToInteractive(key) {\n",
              "          const element = document.querySelector('#df-e6c14fad-6dc9-4c24-a5c3-ec6c8d252c7d');\n",
              "          const dataTable =\n",
              "            await google.colab.kernel.invokeFunction('convertToInteractive',\n",
              "                                                     [key], {});\n",
              "          if (!dataTable) return;\n",
              "\n",
              "          const docLinkHtml = 'Like what you see? Visit the ' +\n",
              "            '<a target=\"_blank\" href=https://colab.research.google.com/notebooks/data_table.ipynb>data table notebook</a>'\n",
              "            + ' to learn more about interactive tables.';\n",
              "          element.innerHTML = '';\n",
              "          dataTable['output_type'] = 'display_data';\n",
              "          await google.colab.output.renderOutput(dataTable, element);\n",
              "          const docLink = document.createElement('div');\n",
              "          docLink.innerHTML = docLinkHtml;\n",
              "          element.appendChild(docLink);\n",
              "        }\n",
              "      </script>\n",
              "    </div>\n",
              "  </div>\n",
              "  "
            ]
          },
          "metadata": {},
          "execution_count": 13
        }
      ]
    },
    {
      "cell_type": "markdown",
      "source": [
        "Em comparação com o a árvore de decisão, o modelo de apriori revela que quando o antecedente contém 49% dos resultados com poliúra, o resultado é Diabetes (sendo que a confiabilidade nessa informação é de 94%).Isso revela algo já destacado na análise da àrvore de decisão, que evidencia mais uma vez a poliúra como um fator decisivo para o diagnóstico positivo. Em seguida temos Polipsia e perda de peso, com 44% e 41% dos resultados indicando diabetes também.  "
      ],
      "metadata": {
        "id": "T5RT1_1Bk6rJ"
      }
    },
    {
      "cell_type": "markdown",
      "source": [
        "### **KMeans**"
      ],
      "metadata": {
        "id": "1CU95Wb2OyE-"
      }
    },
    {
      "cell_type": "markdown",
      "source": [
        "Para usar o modelo do KMeans, é necessário importar uma nova base de dados. O motivo de estarmos fazendo isso é porque a base usada para o modelo da árvore de decisão possui muitas colunas valores booleanos. Essas colunas em excesso tiram a eficiência do modelo KMeans, então optamos por utilizar uma base de dados que tenha mais valores numéricos e categóricos. Isso possibilitará criar um modelo mais eficiente e ajudará na análise como um todo."
      ],
      "metadata": {
        "id": "NH0a-_orYpLC"
      }
    },
    {
      "cell_type": "code",
      "source": [
        "import pandas as pd\n",
        "import seaborn as sns\n",
        "df = pd.read_csv('/content/drive/MyDrive/diabetes.csv')\n",
        "df.head()"
      ],
      "metadata": {
        "id": "XZiPQGJYZdXW"
      },
      "execution_count": null,
      "outputs": []
    },
    {
      "cell_type": "markdown",
      "source": [
        "### **Análise exploratória | Kmeans**"
      ],
      "metadata": {
        "id": "0CQLlq6PZP8l"
      }
    },
    {
      "cell_type": "markdown",
      "source": [
        "### **Modelo | Kmeans**"
      ],
      "metadata": {
        "id": "FmLPamIFU2F0"
      }
    },
    {
      "cell_type": "code",
      "source": [],
      "metadata": {
        "id": "znBaTbzOU5EN"
      },
      "execution_count": null,
      "outputs": []
    }
  ]
}